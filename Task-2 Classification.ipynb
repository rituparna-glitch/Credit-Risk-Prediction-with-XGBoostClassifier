{
 "cells": [
  {
   "cell_type": "code",
   "execution_count": 54,
   "id": "6a4abfad",
   "metadata": {},
   "outputs": [],
   "source": [
    "import pandas as pd\n",
    "import numpy as np\n",
    "import matplotlib.pyplot as plt\n",
    "import seaborn as sns\n",
    "\n",
    "from scipy.stats import chi2_contingency\n",
    "from feature_engine.imputation import CategoricalImputer\n",
    "from statsmodels.stats.outliers_influence import variance_inflation_factor\n",
    "from sklearn.compose import ColumnTransformer\n",
    "from sklearn.preprocessing import OrdinalEncoder\n",
    "\n",
    "from sklearn.model_selection import train_test_split\n",
    "from sklearn.tree import DecisionTreeClassifier\n",
    "from sklearn.ensemble import RandomForestClassifier\n",
    "from xgboost import XGBClassifier\n",
    "from sklearn.metrics import accuracy_score, confusion_matrix, classification_report\n",
    "from sklearn.model_selection import GridSearchCV, RandomizedSearchCV\n",
    "\n",
    "from imblearn.over_sampling import SMOTE\n",
    "from imblearn.combine import SMOTEENN \n",
    "from imblearn.pipeline import Pipeline, make_pipeline\n",
    "from sklearn.model_selection import KFold, cross_val_score\n",
    "\n",
    "import warnings\n",
    "warnings.filterwarnings('ignore')"
   ]
  },
  {
   "cell_type": "code",
   "execution_count": 2,
   "id": "2bf07f63",
   "metadata": {},
   "outputs": [],
   "source": [
    "df_app = pd.read_csv('applicant.csv')\n",
    "df_loan = pd.read_csv('loan.csv')"
   ]
  },
  {
   "cell_type": "code",
   "execution_count": 3,
   "id": "f7d8b2c8",
   "metadata": {},
   "outputs": [],
   "source": [
    "df = df_app.merge(df_loan, on=\"applicant_id\", how = 'inner')"
   ]
  },
  {
   "cell_type": "code",
   "execution_count": 4,
   "id": "59856f6a",
   "metadata": {},
   "outputs": [
    {
     "data": {
      "text/plain": [
       "(1000, 27)"
      ]
     },
     "execution_count": 4,
     "metadata": {},
     "output_type": "execute_result"
    }
   ],
   "source": [
    "df.shape"
   ]
  },
  {
   "cell_type": "code",
   "execution_count": 5,
   "id": "0ea4e2b2",
   "metadata": {
    "scrolled": true
   },
   "outputs": [
    {
     "name": "stdout",
     "output_type": "stream",
     "text": [
      "<class 'pandas.core.frame.DataFrame'>\n",
      "Int64Index: 1000 entries, 0 to 999\n",
      "Data columns (total 27 columns):\n",
      " #   Column                                                    Non-Null Count  Dtype \n",
      "---  ------                                                    --------------  ----- \n",
      " 0   applicant_id                                              1000 non-null   int64 \n",
      " 1   Primary_applicant_age_in_years                            1000 non-null   int64 \n",
      " 2   Gender                                                    1000 non-null   object\n",
      " 3   Marital_status                                            1000 non-null   object\n",
      " 4   Number_of_dependents                                      1000 non-null   int64 \n",
      " 5   Housing                                                   1000 non-null   object\n",
      " 6   Years_at_current_residence                                1000 non-null   int64 \n",
      " 7   Employment_status                                         1000 non-null   object\n",
      " 8   Has_been_employed_for_at_least                            938 non-null    object\n",
      " 9   Has_been_employed_for_at_most                             747 non-null    object\n",
      " 10  Telephone                                                 404 non-null    object\n",
      " 11  Foreign_worker                                            1000 non-null   int64 \n",
      " 12  Savings_account_balance                                   817 non-null    object\n",
      " 13  Balance_in_existing_bank_account_(lower_limit_of_bucket)  332 non-null    object\n",
      " 14  Balance_in_existing_bank_account_(upper_limit_of_bucket)  543 non-null    object\n",
      " 15  loan_application_id                                       1000 non-null   object\n",
      " 16  Months_loan_taken_for                                     1000 non-null   int64 \n",
      " 17  Purpose                                                   988 non-null    object\n",
      " 18  Principal_loan_amount                                     1000 non-null   int64 \n",
      " 19  EMI_rate_in_percentage_of_disposable_income               1000 non-null   int64 \n",
      " 20  Property                                                  846 non-null    object\n",
      " 21  Has_coapplicant                                           1000 non-null   int64 \n",
      " 22  Has_guarantor                                             1000 non-null   int64 \n",
      " 23  Other_EMI_plans                                           186 non-null    object\n",
      " 24  Number_of_existing_loans_at_this_bank                     1000 non-null   int64 \n",
      " 25  Loan_history                                              1000 non-null   object\n",
      " 26  high_risk_applicant                                       1000 non-null   int64 \n",
      "dtypes: int64(12), object(15)\n",
      "memory usage: 218.8+ KB\n"
     ]
    }
   ],
   "source": [
    "df.info()"
   ]
  },
  {
   "cell_type": "code",
   "execution_count": 6,
   "id": "91f1ddf1",
   "metadata": {},
   "outputs": [
    {
     "data": {
      "text/html": [
       "<div>\n",
       "<style scoped>\n",
       "    .dataframe tbody tr th:only-of-type {\n",
       "        vertical-align: middle;\n",
       "    }\n",
       "\n",
       "    .dataframe tbody tr th {\n",
       "        vertical-align: top;\n",
       "    }\n",
       "\n",
       "    .dataframe thead th {\n",
       "        text-align: right;\n",
       "    }\n",
       "</style>\n",
       "<table border=\"1\" class=\"dataframe\">\n",
       "  <thead>\n",
       "    <tr style=\"text-align: right;\">\n",
       "      <th></th>\n",
       "      <th>applicant_id</th>\n",
       "      <th>Primary_applicant_age_in_years</th>\n",
       "      <th>Number_of_dependents</th>\n",
       "      <th>Years_at_current_residence</th>\n",
       "      <th>Foreign_worker</th>\n",
       "      <th>Months_loan_taken_for</th>\n",
       "      <th>Principal_loan_amount</th>\n",
       "      <th>EMI_rate_in_percentage_of_disposable_income</th>\n",
       "      <th>Has_coapplicant</th>\n",
       "      <th>Has_guarantor</th>\n",
       "      <th>Number_of_existing_loans_at_this_bank</th>\n",
       "      <th>high_risk_applicant</th>\n",
       "    </tr>\n",
       "  </thead>\n",
       "  <tbody>\n",
       "    <tr>\n",
       "      <th>count</th>\n",
       "      <td>1.000000e+03</td>\n",
       "      <td>1000.000000</td>\n",
       "      <td>1000.000000</td>\n",
       "      <td>1000.000000</td>\n",
       "      <td>1000.000000</td>\n",
       "      <td>1000.000000</td>\n",
       "      <td>1.000000e+03</td>\n",
       "      <td>1000.000000</td>\n",
       "      <td>1000.000000</td>\n",
       "      <td>1000.000000</td>\n",
       "      <td>1000.000000</td>\n",
       "      <td>1000.000000</td>\n",
       "    </tr>\n",
       "    <tr>\n",
       "      <th>mean</th>\n",
       "      <td>1.514763e+06</td>\n",
       "      <td>35.546000</td>\n",
       "      <td>1.155000</td>\n",
       "      <td>2.845000</td>\n",
       "      <td>0.963000</td>\n",
       "      <td>20.903000</td>\n",
       "      <td>3.271258e+06</td>\n",
       "      <td>2.973000</td>\n",
       "      <td>0.041000</td>\n",
       "      <td>0.052000</td>\n",
       "      <td>1.407000</td>\n",
       "      <td>0.300000</td>\n",
       "    </tr>\n",
       "    <tr>\n",
       "      <th>std</th>\n",
       "      <td>2.286764e+05</td>\n",
       "      <td>11.375469</td>\n",
       "      <td>0.362086</td>\n",
       "      <td>1.103718</td>\n",
       "      <td>0.188856</td>\n",
       "      <td>12.058814</td>\n",
       "      <td>2.822737e+06</td>\n",
       "      <td>1.118715</td>\n",
       "      <td>0.198389</td>\n",
       "      <td>0.222138</td>\n",
       "      <td>0.577654</td>\n",
       "      <td>0.458487</td>\n",
       "    </tr>\n",
       "    <tr>\n",
       "      <th>min</th>\n",
       "      <td>1.105364e+06</td>\n",
       "      <td>19.000000</td>\n",
       "      <td>1.000000</td>\n",
       "      <td>1.000000</td>\n",
       "      <td>0.000000</td>\n",
       "      <td>4.000000</td>\n",
       "      <td>2.500000e+05</td>\n",
       "      <td>1.000000</td>\n",
       "      <td>0.000000</td>\n",
       "      <td>0.000000</td>\n",
       "      <td>1.000000</td>\n",
       "      <td>0.000000</td>\n",
       "    </tr>\n",
       "    <tr>\n",
       "      <th>25%</th>\n",
       "      <td>1.321398e+06</td>\n",
       "      <td>27.000000</td>\n",
       "      <td>1.000000</td>\n",
       "      <td>2.000000</td>\n",
       "      <td>1.000000</td>\n",
       "      <td>12.000000</td>\n",
       "      <td>1.365500e+06</td>\n",
       "      <td>2.000000</td>\n",
       "      <td>0.000000</td>\n",
       "      <td>0.000000</td>\n",
       "      <td>1.000000</td>\n",
       "      <td>0.000000</td>\n",
       "    </tr>\n",
       "    <tr>\n",
       "      <th>50%</th>\n",
       "      <td>1.529114e+06</td>\n",
       "      <td>33.000000</td>\n",
       "      <td>1.000000</td>\n",
       "      <td>3.000000</td>\n",
       "      <td>1.000000</td>\n",
       "      <td>18.000000</td>\n",
       "      <td>2.319500e+06</td>\n",
       "      <td>3.000000</td>\n",
       "      <td>0.000000</td>\n",
       "      <td>0.000000</td>\n",
       "      <td>1.000000</td>\n",
       "      <td>0.000000</td>\n",
       "    </tr>\n",
       "    <tr>\n",
       "      <th>75%</th>\n",
       "      <td>1.707752e+06</td>\n",
       "      <td>42.000000</td>\n",
       "      <td>1.000000</td>\n",
       "      <td>4.000000</td>\n",
       "      <td>1.000000</td>\n",
       "      <td>24.000000</td>\n",
       "      <td>3.972250e+06</td>\n",
       "      <td>4.000000</td>\n",
       "      <td>0.000000</td>\n",
       "      <td>0.000000</td>\n",
       "      <td>2.000000</td>\n",
       "      <td>1.000000</td>\n",
       "    </tr>\n",
       "    <tr>\n",
       "      <th>max</th>\n",
       "      <td>1.903505e+06</td>\n",
       "      <td>75.000000</td>\n",
       "      <td>2.000000</td>\n",
       "      <td>4.000000</td>\n",
       "      <td>1.000000</td>\n",
       "      <td>72.000000</td>\n",
       "      <td>1.842400e+07</td>\n",
       "      <td>4.000000</td>\n",
       "      <td>1.000000</td>\n",
       "      <td>1.000000</td>\n",
       "      <td>4.000000</td>\n",
       "      <td>1.000000</td>\n",
       "    </tr>\n",
       "  </tbody>\n",
       "</table>\n",
       "</div>"
      ],
      "text/plain": [
       "       applicant_id  Primary_applicant_age_in_years  Number_of_dependents  \\\n",
       "count  1.000000e+03                     1000.000000           1000.000000   \n",
       "mean   1.514763e+06                       35.546000              1.155000   \n",
       "std    2.286764e+05                       11.375469              0.362086   \n",
       "min    1.105364e+06                       19.000000              1.000000   \n",
       "25%    1.321398e+06                       27.000000              1.000000   \n",
       "50%    1.529114e+06                       33.000000              1.000000   \n",
       "75%    1.707752e+06                       42.000000              1.000000   \n",
       "max    1.903505e+06                       75.000000              2.000000   \n",
       "\n",
       "       Years_at_current_residence  Foreign_worker  Months_loan_taken_for  \\\n",
       "count                 1000.000000     1000.000000            1000.000000   \n",
       "mean                     2.845000        0.963000              20.903000   \n",
       "std                      1.103718        0.188856              12.058814   \n",
       "min                      1.000000        0.000000               4.000000   \n",
       "25%                      2.000000        1.000000              12.000000   \n",
       "50%                      3.000000        1.000000              18.000000   \n",
       "75%                      4.000000        1.000000              24.000000   \n",
       "max                      4.000000        1.000000              72.000000   \n",
       "\n",
       "       Principal_loan_amount  EMI_rate_in_percentage_of_disposable_income  \\\n",
       "count           1.000000e+03                                  1000.000000   \n",
       "mean            3.271258e+06                                     2.973000   \n",
       "std             2.822737e+06                                     1.118715   \n",
       "min             2.500000e+05                                     1.000000   \n",
       "25%             1.365500e+06                                     2.000000   \n",
       "50%             2.319500e+06                                     3.000000   \n",
       "75%             3.972250e+06                                     4.000000   \n",
       "max             1.842400e+07                                     4.000000   \n",
       "\n",
       "       Has_coapplicant  Has_guarantor  Number_of_existing_loans_at_this_bank  \\\n",
       "count      1000.000000    1000.000000                            1000.000000   \n",
       "mean          0.041000       0.052000                               1.407000   \n",
       "std           0.198389       0.222138                               0.577654   \n",
       "min           0.000000       0.000000                               1.000000   \n",
       "25%           0.000000       0.000000                               1.000000   \n",
       "50%           0.000000       0.000000                               1.000000   \n",
       "75%           0.000000       0.000000                               2.000000   \n",
       "max           1.000000       1.000000                               4.000000   \n",
       "\n",
       "       high_risk_applicant  \n",
       "count          1000.000000  \n",
       "mean              0.300000  \n",
       "std               0.458487  \n",
       "min               0.000000  \n",
       "25%               0.000000  \n",
       "50%               0.000000  \n",
       "75%               1.000000  \n",
       "max               1.000000  "
      ]
     },
     "execution_count": 6,
     "metadata": {},
     "output_type": "execute_result"
    }
   ],
   "source": [
    "df.describe()"
   ]
  },
  {
   "cell_type": "code",
   "execution_count": 7,
   "id": "266328e3",
   "metadata": {
    "scrolled": true
   },
   "outputs": [
    {
     "data": {
      "text/plain": [
       "applicant_id                                                  0\n",
       "Primary_applicant_age_in_years                                0\n",
       "Gender                                                        0\n",
       "Marital_status                                                0\n",
       "Number_of_dependents                                          0\n",
       "Housing                                                       0\n",
       "Years_at_current_residence                                    0\n",
       "Employment_status                                             0\n",
       "Has_been_employed_for_at_least                               62\n",
       "Has_been_employed_for_at_most                               253\n",
       "Telephone                                                   596\n",
       "Foreign_worker                                                0\n",
       "Savings_account_balance                                     183\n",
       "Balance_in_existing_bank_account_(lower_limit_of_bucket)    668\n",
       "Balance_in_existing_bank_account_(upper_limit_of_bucket)    457\n",
       "loan_application_id                                           0\n",
       "Months_loan_taken_for                                         0\n",
       "Purpose                                                      12\n",
       "Principal_loan_amount                                         0\n",
       "EMI_rate_in_percentage_of_disposable_income                   0\n",
       "Property                                                    154\n",
       "Has_coapplicant                                               0\n",
       "Has_guarantor                                                 0\n",
       "Other_EMI_plans                                             814\n",
       "Number_of_existing_loans_at_this_bank                         0\n",
       "Loan_history                                                  0\n",
       "high_risk_applicant                                           0\n",
       "dtype: int64"
      ]
     },
     "execution_count": 7,
     "metadata": {},
     "output_type": "execute_result"
    }
   ],
   "source": [
    "df.isnull().sum()"
   ]
  },
  {
   "cell_type": "markdown",
   "id": "d0d1393a",
   "metadata": {},
   "source": [
    "## Missing values"
   ]
  },
  {
   "cell_type": "code",
   "execution_count": 8,
   "id": "365b91a9",
   "metadata": {
    "scrolled": true
   },
   "outputs": [
    {
     "data": {
      "text/plain": [
       "applicant_id                                                 0.0\n",
       "Primary_applicant_age_in_years                               0.0\n",
       "Gender                                                       0.0\n",
       "Marital_status                                               0.0\n",
       "Number_of_dependents                                         0.0\n",
       "Housing                                                      0.0\n",
       "Years_at_current_residence                                   0.0\n",
       "Employment_status                                            0.0\n",
       "Has_been_employed_for_at_least                               6.2\n",
       "Has_been_employed_for_at_most                               25.3\n",
       "Telephone                                                   59.6\n",
       "Foreign_worker                                               0.0\n",
       "Savings_account_balance                                     18.3\n",
       "Balance_in_existing_bank_account_(lower_limit_of_bucket)    66.8\n",
       "Balance_in_existing_bank_account_(upper_limit_of_bucket)    45.7\n",
       "loan_application_id                                          0.0\n",
       "Months_loan_taken_for                                        0.0\n",
       "Purpose                                                      1.2\n",
       "Principal_loan_amount                                        0.0\n",
       "EMI_rate_in_percentage_of_disposable_income                  0.0\n",
       "Property                                                    15.4\n",
       "Has_coapplicant                                              0.0\n",
       "Has_guarantor                                                0.0\n",
       "Other_EMI_plans                                             81.4\n",
       "Number_of_existing_loans_at_this_bank                        0.0\n",
       "Loan_history                                                 0.0\n",
       "high_risk_applicant                                          0.0\n",
       "dtype: float64"
      ]
     },
     "execution_count": 8,
     "metadata": {},
     "output_type": "execute_result"
    }
   ],
   "source": [
    "df.isnull().sum()/len(df) * 100"
   ]
  },
  {
   "cell_type": "markdown",
   "id": "2766cfd5",
   "metadata": {},
   "source": [
    "The collumns 'Other_EMI_plans', 'Telephone', 'Balance_in_existing_bank_account_(lower_limit_of_bucket)', 'Balance_in_existing_bank_account_(upper_limit_of_bucket)' has too many missing values. "
   ]
  },
  {
   "cell_type": "code",
   "execution_count": 9,
   "id": "6866a51a",
   "metadata": {},
   "outputs": [
    {
     "data": {
      "text/plain": [
       "Registered under the applicant's name    404\n",
       "Name: Telephone, dtype: int64"
      ]
     },
     "execution_count": 9,
     "metadata": {},
     "output_type": "execute_result"
    }
   ],
   "source": [
    "df.Telephone.value_counts()"
   ]
  },
  {
   "cell_type": "markdown",
   "id": "ff5c9664",
   "metadata": {},
   "source": [
    "- Telephone column has only one value. Hence we can drop this column. \n",
    "- Other_EMI_plans column has more than 80% value as missing. Hence we should drop this column too. "
   ]
  },
  {
   "cell_type": "markdown",
   "id": "135afed8",
   "metadata": {},
   "source": [
    "### Chi square test to test independence"
   ]
  },
  {
   "cell_type": "markdown",
   "id": "f0463455",
   "metadata": {},
   "source": [
    "Chi square test is used to measure the independence of two categorical variables. \n",
    "\n",
    "For our Chi-square test for independence here, the null hypothesis is that there is no significant relationship between the columns.\n",
    "\n",
    "When X² is larger than a threshold, we know the p-value (probability of having a such as large X² given the null hypothesis) is extremely low, and we would reject the null hypothesis.\n",
    "\n",
    "We consider the significance level of 0.05. "
   ]
  },
  {
   "cell_type": "code",
   "execution_count": 10,
   "id": "057dee01",
   "metadata": {},
   "outputs": [
    {
     "data": {
      "text/html": [
       "<div>\n",
       "<style scoped>\n",
       "    .dataframe tbody tr th:only-of-type {\n",
       "        vertical-align: middle;\n",
       "    }\n",
       "\n",
       "    .dataframe tbody tr th {\n",
       "        vertical-align: top;\n",
       "    }\n",
       "\n",
       "    .dataframe thead th {\n",
       "        text-align: right;\n",
       "    }\n",
       "</style>\n",
       "<table border=\"1\" class=\"dataframe\">\n",
       "  <thead>\n",
       "    <tr style=\"text-align: right;\">\n",
       "      <th>Balance_in_existing_bank_account_(upper_limit_of_bucket)</th>\n",
       "      <th>2 lac</th>\n",
       "      <th>All</th>\n",
       "    </tr>\n",
       "    <tr>\n",
       "      <th>Balance_in_existing_bank_account_(lower_limit_of_bucket)</th>\n",
       "      <th></th>\n",
       "      <th></th>\n",
       "    </tr>\n",
       "  </thead>\n",
       "  <tbody>\n",
       "    <tr>\n",
       "      <th>0</th>\n",
       "      <td>269</td>\n",
       "      <td>269</td>\n",
       "    </tr>\n",
       "    <tr>\n",
       "      <th>All</th>\n",
       "      <td>269</td>\n",
       "      <td>269</td>\n",
       "    </tr>\n",
       "  </tbody>\n",
       "</table>\n",
       "</div>"
      ],
      "text/plain": [
       "Balance_in_existing_bank_account_(upper_limit_of_bucket)  2 lac  All\n",
       "Balance_in_existing_bank_account_(lower_limit_o...                  \n",
       "0                                                           269  269\n",
       "All                                                         269  269"
      ]
     },
     "execution_count": 10,
     "metadata": {},
     "output_type": "execute_result"
    }
   ],
   "source": [
    "ct = pd.crosstab(df['Balance_in_existing_bank_account_(lower_limit_of_bucket)'], \n",
    "                         df['Balance_in_existing_bank_account_(upper_limit_of_bucket)'], margins=True)\n",
    "ct"
   ]
  },
  {
   "cell_type": "code",
   "execution_count": 11,
   "id": "d72a0cf6",
   "metadata": {},
   "outputs": [
    {
     "data": {
      "text/plain": [
       "(0.0, 1.0, 1)"
      ]
     },
     "execution_count": 11,
     "metadata": {},
     "output_type": "execute_result"
    }
   ],
   "source": [
    "obs = np.array(ct)\n",
    "chi2_contingency(obs)[0:3]"
   ]
  },
  {
   "cell_type": "markdown",
   "id": "4de614aa",
   "metadata": {},
   "source": [
    "the three terms are X² statistic, p-value, and degree of freedom"
   ]
  },
  {
   "cell_type": "markdown",
   "id": "cf08ddc5",
   "metadata": {},
   "source": [
    "- p value = 1 means we fail to reject the null hypothesis that these two columns have no significant relationship between them. \n"
   ]
  },
  {
   "cell_type": "code",
   "execution_count": 12,
   "id": "d263585e",
   "metadata": {},
   "outputs": [
    {
     "data": {
      "text/html": [
       "<div>\n",
       "<style scoped>\n",
       "    .dataframe tbody tr th:only-of-type {\n",
       "        vertical-align: middle;\n",
       "    }\n",
       "\n",
       "    .dataframe tbody tr th {\n",
       "        vertical-align: top;\n",
       "    }\n",
       "\n",
       "    .dataframe thead th {\n",
       "        text-align: right;\n",
       "    }\n",
       "</style>\n",
       "<table border=\"1\" class=\"dataframe\">\n",
       "  <thead>\n",
       "    <tr style=\"text-align: right;\">\n",
       "      <th>high_risk_applicant</th>\n",
       "      <th>0</th>\n",
       "      <th>1</th>\n",
       "      <th>All</th>\n",
       "    </tr>\n",
       "    <tr>\n",
       "      <th>Balance_in_existing_bank_account_(lower_limit_of_bucket)</th>\n",
       "      <th></th>\n",
       "      <th></th>\n",
       "      <th></th>\n",
       "    </tr>\n",
       "  </thead>\n",
       "  <tbody>\n",
       "    <tr>\n",
       "      <th>0</th>\n",
       "      <td>164</td>\n",
       "      <td>105</td>\n",
       "      <td>269</td>\n",
       "    </tr>\n",
       "    <tr>\n",
       "      <th>2 lac</th>\n",
       "      <td>49</td>\n",
       "      <td>14</td>\n",
       "      <td>63</td>\n",
       "    </tr>\n",
       "    <tr>\n",
       "      <th>All</th>\n",
       "      <td>213</td>\n",
       "      <td>119</td>\n",
       "      <td>332</td>\n",
       "    </tr>\n",
       "  </tbody>\n",
       "</table>\n",
       "</div>"
      ],
      "text/plain": [
       "high_risk_applicant                                   0    1  All\n",
       "Balance_in_existing_bank_account_(lower_limit_o...               \n",
       "0                                                   164  105  269\n",
       "2 lac                                                49   14   63\n",
       "All                                                 213  119  332"
      ]
     },
     "execution_count": 12,
     "metadata": {},
     "output_type": "execute_result"
    }
   ],
   "source": [
    "ct_lower = pd.crosstab(df['Balance_in_existing_bank_account_(lower_limit_of_bucket)'], \n",
    "                         df['high_risk_applicant'], margins=True)\n",
    "ct_lower"
   ]
  },
  {
   "cell_type": "code",
   "execution_count": 13,
   "id": "0769ebde",
   "metadata": {},
   "outputs": [
    {
     "data": {
      "text/plain": [
       "(6.273408786986648, 0.1796391858516706, 4)"
      ]
     },
     "execution_count": 13,
     "metadata": {},
     "output_type": "execute_result"
    }
   ],
   "source": [
    "chi2_contingency(ct_lower)[0:3]"
   ]
  },
  {
   "cell_type": "markdown",
   "id": "c85c8507",
   "metadata": {},
   "source": [
    "- p value > 0.05 hence we fail to reject the null hypothesis. \n",
    "- Balance_in_existing_bank_account_(lower_limit_of_bucket) and high_risk_applicant has no significant relationship between them. "
   ]
  },
  {
   "cell_type": "code",
   "execution_count": 14,
   "id": "f6b7f205",
   "metadata": {},
   "outputs": [
    {
     "data": {
      "text/html": [
       "<div>\n",
       "<style scoped>\n",
       "    .dataframe tbody tr th:only-of-type {\n",
       "        vertical-align: middle;\n",
       "    }\n",
       "\n",
       "    .dataframe tbody tr th {\n",
       "        vertical-align: top;\n",
       "    }\n",
       "\n",
       "    .dataframe thead th {\n",
       "        text-align: right;\n",
       "    }\n",
       "</style>\n",
       "<table border=\"1\" class=\"dataframe\">\n",
       "  <thead>\n",
       "    <tr style=\"text-align: right;\">\n",
       "      <th>high_risk_applicant</th>\n",
       "      <th>0</th>\n",
       "      <th>1</th>\n",
       "      <th>All</th>\n",
       "    </tr>\n",
       "    <tr>\n",
       "      <th>Balance_in_existing_bank_account_(upper_limit_of_bucket)</th>\n",
       "      <th></th>\n",
       "      <th></th>\n",
       "      <th></th>\n",
       "    </tr>\n",
       "  </thead>\n",
       "  <tbody>\n",
       "    <tr>\n",
       "      <th>0</th>\n",
       "      <td>139</td>\n",
       "      <td>135</td>\n",
       "      <td>274</td>\n",
       "    </tr>\n",
       "    <tr>\n",
       "      <th>2 lac</th>\n",
       "      <td>164</td>\n",
       "      <td>105</td>\n",
       "      <td>269</td>\n",
       "    </tr>\n",
       "    <tr>\n",
       "      <th>All</th>\n",
       "      <td>303</td>\n",
       "      <td>240</td>\n",
       "      <td>543</td>\n",
       "    </tr>\n",
       "  </tbody>\n",
       "</table>\n",
       "</div>"
      ],
      "text/plain": [
       "high_risk_applicant                                   0    1  All\n",
       "Balance_in_existing_bank_account_(upper_limit_o...               \n",
       "0                                                   139  135  274\n",
       "2 lac                                               164  105  269\n",
       "All                                                 303  240  543"
      ]
     },
     "execution_count": 14,
     "metadata": {},
     "output_type": "execute_result"
    }
   ],
   "source": [
    "ct_upper = pd.crosstab(df['Balance_in_existing_bank_account_(upper_limit_of_bucket)'], \n",
    "                         df['high_risk_applicant'], margins=True)\n",
    "ct_upper"
   ]
  },
  {
   "cell_type": "code",
   "execution_count": 15,
   "id": "5ccc88d4",
   "metadata": {},
   "outputs": [
    {
     "data": {
      "text/plain": [
       "(5.767154747198731, 0.21722520745291207, 4)"
      ]
     },
     "execution_count": 15,
     "metadata": {},
     "output_type": "execute_result"
    }
   ],
   "source": [
    "chi2_contingency(ct_upper)[0:3]"
   ]
  },
  {
   "cell_type": "markdown",
   "id": "de682fcc",
   "metadata": {},
   "source": [
    "- p value > 0.05 hence we fail to reject the null hypothesis. \n",
    "- Balance_in_existing_bank_account_(upper_limit_of_bucket) and high_risk_applicant has no significant relationship between them. "
   ]
  },
  {
   "cell_type": "markdown",
   "id": "b823c2d8",
   "metadata": {},
   "source": [
    "### Feature Selection based on missing values and independence"
   ]
  },
  {
   "cell_type": "markdown",
   "id": "3e9b12f5",
   "metadata": {},
   "source": [
    "##### We can drop the columns 'Telephone', 'Other_EMI_plans', 'Balance_in_existing_bank_account_(lower_limit_of_bucket) ', 'Balance_in_existing_bank_account_(upper_limit_of_bucket)'"
   ]
  },
  {
   "cell_type": "code",
   "execution_count": 16,
   "id": "98cedfde",
   "metadata": {},
   "outputs": [
    {
     "data": {
      "text/plain": [
       "(1000, 23)"
      ]
     },
     "execution_count": 16,
     "metadata": {},
     "output_type": "execute_result"
    }
   ],
   "source": [
    "df_new = df.drop(['Telephone', 'Other_EMI_plans', 'Balance_in_existing_bank_account_(lower_limit_of_bucket)',\n",
    "                   'Balance_in_existing_bank_account_(upper_limit_of_bucket)'], axis = 1)\n",
    "df_new.shape"
   ]
  },
  {
   "cell_type": "markdown",
   "id": "ec0826ea",
   "metadata": {},
   "source": [
    "- For rest of the columns with missing values we will impute them"
   ]
  },
  {
   "cell_type": "markdown",
   "id": "3eb98b70",
   "metadata": {},
   "source": [
    "### Imputing missing values"
   ]
  },
  {
   "cell_type": "code",
   "execution_count": 17,
   "id": "33155999",
   "metadata": {},
   "outputs": [
    {
     "data": {
      "text/plain": [
       "applicant_id                                     0\n",
       "Primary_applicant_age_in_years                   0\n",
       "Gender                                           0\n",
       "Marital_status                                   0\n",
       "Number_of_dependents                             0\n",
       "Housing                                          0\n",
       "Years_at_current_residence                       0\n",
       "Employment_status                                0\n",
       "Has_been_employed_for_at_least                  62\n",
       "Has_been_employed_for_at_most                  253\n",
       "Foreign_worker                                   0\n",
       "Savings_account_balance                        183\n",
       "loan_application_id                              0\n",
       "Months_loan_taken_for                            0\n",
       "Purpose                                         12\n",
       "Principal_loan_amount                            0\n",
       "EMI_rate_in_percentage_of_disposable_income      0\n",
       "Property                                       154\n",
       "Has_coapplicant                                  0\n",
       "Has_guarantor                                    0\n",
       "Number_of_existing_loans_at_this_bank            0\n",
       "Loan_history                                     0\n",
       "high_risk_applicant                              0\n",
       "dtype: int64"
      ]
     },
     "execution_count": 17,
     "metadata": {},
     "output_type": "execute_result"
    }
   ],
   "source": [
    "df_new.isnull().sum()"
   ]
  },
  {
   "cell_type": "code",
   "execution_count": 18,
   "id": "552bed0f",
   "metadata": {},
   "outputs": [],
   "source": [
    "cat_columns = ['Has_been_employed_for_at_least', 'Has_been_employed_for_at_most', 'Savings_account_balance',\n",
    "              'Purpose', 'Property']\n",
    "\n",
    "imputer = CategoricalImputer(variables= cat_columns, imputation_method = 'frequent')\n",
    "\n",
    "df_new = imputer.fit_transform(df_new)"
   ]
  },
  {
   "cell_type": "code",
   "execution_count": 19,
   "id": "69f4d674",
   "metadata": {
    "scrolled": false
   },
   "outputs": [
    {
     "data": {
      "text/plain": [
       "applicant_id                                   0\n",
       "Primary_applicant_age_in_years                 0\n",
       "Gender                                         0\n",
       "Marital_status                                 0\n",
       "Number_of_dependents                           0\n",
       "Housing                                        0\n",
       "Years_at_current_residence                     0\n",
       "Employment_status                              0\n",
       "Has_been_employed_for_at_least                 0\n",
       "Has_been_employed_for_at_most                  0\n",
       "Foreign_worker                                 0\n",
       "Savings_account_balance                        0\n",
       "loan_application_id                            0\n",
       "Months_loan_taken_for                          0\n",
       "Purpose                                        0\n",
       "Principal_loan_amount                          0\n",
       "EMI_rate_in_percentage_of_disposable_income    0\n",
       "Property                                       0\n",
       "Has_coapplicant                                0\n",
       "Has_guarantor                                  0\n",
       "Number_of_existing_loans_at_this_bank          0\n",
       "Loan_history                                   0\n",
       "high_risk_applicant                            0\n",
       "dtype: int64"
      ]
     },
     "execution_count": 19,
     "metadata": {},
     "output_type": "execute_result"
    }
   ],
   "source": [
    "df_new.isnull().sum()"
   ]
  },
  {
   "cell_type": "markdown",
   "id": "c8432243",
   "metadata": {},
   "source": [
    "## Finding outliers for continuous variables"
   ]
  },
  {
   "cell_type": "code",
   "execution_count": 20,
   "id": "9b2c092a",
   "metadata": {},
   "outputs": [
    {
     "data": {
      "text/plain": [
       "<AxesSubplot:xlabel='Primary_applicant_age_in_years'>"
      ]
     },
     "execution_count": 20,
     "metadata": {},
     "output_type": "execute_result"
    },
    {
     "data": {
      "image/png": "[encoded data removed]",
      "text/plain": [
       "<Figure size 432x288 with 1 Axes>"
      ]
     },
     "metadata": {
      "needs_background": "light"
     },
     "output_type": "display_data"
    }
   ],
   "source": [
    "sns.boxplot(df_new['Primary_applicant_age_in_years'])"
   ]
  },
  {
   "cell_type": "code",
   "execution_count": 21,
   "id": "215e222b",
   "metadata": {},
   "outputs": [
    {
     "data": {
      "text/plain": [
       "<AxesSubplot:xlabel='Months_loan_taken_for'>"
      ]
     },
     "execution_count": 21,
     "metadata": {},
     "output_type": "execute_result"
    },
    {
     "data": {
      "image/png": "[encoded data removed]",
      "text/plain": [
       "<Figure size 432x288 with 1 Axes>"
      ]
     },
     "metadata": {
      "needs_background": "light"
     },
     "output_type": "display_data"
    }
   ],
   "source": [
    "sns.boxplot(df_new['Months_loan_taken_for'])"
   ]
  },
  {
   "cell_type": "code",
   "execution_count": 22,
   "id": "1239de3b",
   "metadata": {},
   "outputs": [
    {
     "data": {
      "text/plain": [
       "<AxesSubplot:xlabel='Principal_loan_amount'>"
      ]
     },
     "execution_count": 22,
     "metadata": {},
     "output_type": "execute_result"
    },
    {
     "data": {
      "image/png": "[encoded data removed]",
      "text/plain": [
       "<Figure size 432x288 with 1 Axes>"
      ]
     },
     "metadata": {
      "needs_background": "light"
     },
     "output_type": "display_data"
    }
   ],
   "source": [
    "sns.boxplot(df_new['Principal_loan_amount'])"
   ]
  },
  {
   "cell_type": "markdown",
   "id": "5a876c73",
   "metadata": {},
   "source": [
    "All of the continuous data are rightly skewed.\n",
    "\n",
    "We will use IQR method for finding the outliers."
   ]
  },
  {
   "cell_type": "code",
   "execution_count": 23,
   "id": "4ea21394",
   "metadata": {},
   "outputs": [],
   "source": [
    "#function to find the outliers\n",
    "def find_outliers(data):\n",
    "    q1 = data.quantile(0.25)\n",
    "    q3 = data.quantile(0.75)\n",
    "    IQR = q3 - q1\n",
    "    outliers = data[((data < (q1-1.5*IQR))|(data >( q3+1.5*IQR)))]\n",
    "    return outliers"
   ]
  },
  {
   "cell_type": "code",
   "execution_count": 24,
   "id": "6867b078",
   "metadata": {},
   "outputs": [
    {
     "name": "stdout",
     "output_type": "stream",
     "text": [
      "number of outliers in Primary_applicant_age_in_years : 23\n",
      "number of outliers in Months_loan_taken_for : 70\n",
      "number of outliers in Principal_loan_amount : 72\n"
     ]
    }
   ],
   "source": [
    "columns = ['Primary_applicant_age_in_years', 'Months_loan_taken_for', 'Principal_loan_amount']\n",
    "for col in columns:\n",
    "    outliers = find_outliers(df_new[col])\n",
    "    #percent = len(outliers)/len(df) * 100\n",
    "    print('number of outliers in '+ col + ' : '+ str(len(outliers)) )"
   ]
  },
  {
   "cell_type": "code",
   "execution_count": 25,
   "id": "d741553f",
   "metadata": {},
   "outputs": [],
   "source": [
    "# cap the outliers\n",
    "\n",
    "'''To cap the outliers, calculate a upper limit and lower limit. For the upper limit, we will use \n",
    "the mean plus three standard deviations. For the lower limit, we will calculate it as \n",
    "the mean minus 3 standard deviations.'''\n",
    "\n",
    "def cap_outliers(data):\n",
    "    upper_limit = int(data.mean() + 3*data.std())\n",
    "    lower_limit = int(data.mean() - 3*data.std())\n",
    "    \n",
    "    data = np.where(data > upper_limit, upper_limit,\n",
    "                   np.where(data < lower_limit, lower_limit, data))\n",
    "    return data"
   ]
  },
  {
   "cell_type": "code",
   "execution_count": 26,
   "id": "11eb15fb",
   "metadata": {
    "scrolled": true
   },
   "outputs": [],
   "source": [
    "columns = ['Primary_applicant_age_in_years', 'Months_loan_taken_for', 'Principal_loan_amount']\n",
    "for col in columns:\n",
    "    #print (col)\n",
    "    df_new[col] = cap_outliers(df_new[col])"
   ]
  },
  {
   "cell_type": "markdown",
   "id": "571e96f4",
   "metadata": {},
   "source": [
    "## Multicolinearity"
   ]
  },
  {
   "cell_type": "code",
   "execution_count": 27,
   "id": "dad3cee8",
   "metadata": {},
   "outputs": [
    {
     "data": {
      "image/png": "[encoded data removed]",
      "text/plain": [
       "<Figure size 720x432 with 2 Axes>"
      ]
     },
     "metadata": {
      "needs_background": "light"
     },
     "output_type": "display_data"
    }
   ],
   "source": [
    "fig , ax = plt.subplots(figsize=(10,6))\n",
    "sns.heatmap(df_new.corr(), annot=True, vmin=-1, vmax=1)\n",
    "plt.title('Correlation Coefficient')\n",
    "plt.show()"
   ]
  },
  {
   "cell_type": "markdown",
   "id": "9ec46cde",
   "metadata": {},
   "source": [
    "- 'Principal_loan_amount' is moderately correlated with 'Months_loan_taken_for'. \n",
    "    - EMI payment is directly proportional to the loan amount but inversely proportional to the tenure of the loan. More the principal of loan, the amount the borrower has to pay more amount on schedule dent payments. Hence more the tenure of the loan, the amount of scheduled debt decreases. This explains the postive correlation. \n",
    "\n",
    "-  'EMI_rate_in_percentage_of_disposable_income' shows a weak negative linear relationship with 'Principal_loan_amount'.\n",
    "    - EMI payment is directly proportional to both the interest rate and the loan amount. Hence if the loan provider wants to keep the amount of EMI fixed, for a smaller loan amount they have to increase the EMI rate and vice versa. This explains the negative correlation. \n",
    "\n",
    "- 'Years_at_current_residence' has a weak positive correlation with 'Primary_applicant_age_in_years'\n",
    "    - It is more likely for an old age applicant to be in their current residence for more years than that of a young age applicant. \n",
    "    \n",
    "- 'Months_loan_taken_for' shows a weak positive correlation with 'high_risk_applicant'. \n",
    "     - This may be due to the fact that with months there is a probability of default - the likelihood that borrower will not maintain the financial capability to make scheduled debt payments.  \n",
    "\n",
    "- 'Number_of_dependents' is weakly correlated with 'Primary_applicant_age_in_years' \n",
    "    - This can be explained from the fact that more the age of the applicant it is more likely for that person to have children or family members(spouse) who qualify as their dependent. Hence the positive correlation. "
   ]
  },
  {
   "cell_type": "markdown",
   "id": "7c0e36f6",
   "metadata": {},
   "source": [
    "#### Calculating VIF"
   ]
  },
  {
   "cell_type": "code",
   "execution_count": 28,
   "id": "a6e0a4d1",
   "metadata": {
    "scrolled": true
   },
   "outputs": [
    {
     "data": {
      "text/plain": [
       "Index(['applicant_id', 'Primary_applicant_age_in_years',\n",
       "       'Number_of_dependents', 'Years_at_current_residence', 'Foreign_worker',\n",
       "       'Months_loan_taken_for', 'Principal_loan_amount',\n",
       "       'EMI_rate_in_percentage_of_disposable_income', 'Has_coapplicant',\n",
       "       'Has_guarantor', 'Number_of_existing_loans_at_this_bank',\n",
       "       'high_risk_applicant'],\n",
       "      dtype='object')"
      ]
     },
     "execution_count": 28,
     "metadata": {},
     "output_type": "execute_result"
    }
   ],
   "source": [
    "df.select_dtypes(include=['int64']).columns"
   ]
  },
  {
   "cell_type": "code",
   "execution_count": 29,
   "id": "427f0a6e",
   "metadata": {},
   "outputs": [
    {
     "data": {
      "text/html": [
       "<div>\n",
       "<style scoped>\n",
       "    .dataframe tbody tr th:only-of-type {\n",
       "        vertical-align: middle;\n",
       "    }\n",
       "\n",
       "    .dataframe tbody tr th {\n",
       "        vertical-align: top;\n",
       "    }\n",
       "\n",
       "    .dataframe thead th {\n",
       "        text-align: right;\n",
       "    }\n",
       "</style>\n",
       "<table border=\"1\" class=\"dataframe\">\n",
       "  <thead>\n",
       "    <tr style=\"text-align: right;\">\n",
       "      <th></th>\n",
       "      <th>feature</th>\n",
       "      <th>VIF</th>\n",
       "    </tr>\n",
       "  </thead>\n",
       "  <tbody>\n",
       "    <tr>\n",
       "      <th>3</th>\n",
       "      <td>Foreign_worker</td>\n",
       "      <td>16.935367</td>\n",
       "    </tr>\n",
       "    <tr>\n",
       "      <th>0</th>\n",
       "      <td>Primary_applicant_age_in_years</td>\n",
       "      <td>11.662373</td>\n",
       "    </tr>\n",
       "    <tr>\n",
       "      <th>1</th>\n",
       "      <td>Number_of_dependents</td>\n",
       "      <td>9.629448</td>\n",
       "    </tr>\n",
       "    <tr>\n",
       "      <th>6</th>\n",
       "      <td>EMI_rate_in_percentage_of_disposable_income</td>\n",
       "      <td>9.312624</td>\n",
       "    </tr>\n",
       "    <tr>\n",
       "      <th>2</th>\n",
       "      <td>Years_at_current_residence</td>\n",
       "      <td>8.081224</td>\n",
       "    </tr>\n",
       "    <tr>\n",
       "      <th>4</th>\n",
       "      <td>Months_loan_taken_for</td>\n",
       "      <td>8.078294</td>\n",
       "    </tr>\n",
       "    <tr>\n",
       "      <th>9</th>\n",
       "      <td>Number_of_existing_loans_at_this_bank</td>\n",
       "      <td>6.936133</td>\n",
       "    </tr>\n",
       "    <tr>\n",
       "      <th>5</th>\n",
       "      <td>Principal_loan_amount</td>\n",
       "      <td>5.202227</td>\n",
       "    </tr>\n",
       "    <tr>\n",
       "      <th>10</th>\n",
       "      <td>high_risk_applicant</td>\n",
       "      <td>1.533963</td>\n",
       "    </tr>\n",
       "    <tr>\n",
       "      <th>8</th>\n",
       "      <td>Has_guarantor</td>\n",
       "      <td>1.062786</td>\n",
       "    </tr>\n",
       "    <tr>\n",
       "      <th>7</th>\n",
       "      <td>Has_coapplicant</td>\n",
       "      <td>1.056522</td>\n",
       "    </tr>\n",
       "  </tbody>\n",
       "</table>\n",
       "</div>"
      ],
      "text/plain": [
       "                                        feature        VIF\n",
       "3                                Foreign_worker  16.935367\n",
       "0                Primary_applicant_age_in_years  11.662373\n",
       "1                          Number_of_dependents   9.629448\n",
       "6   EMI_rate_in_percentage_of_disposable_income   9.312624\n",
       "2                    Years_at_current_residence   8.081224\n",
       "4                         Months_loan_taken_for   8.078294\n",
       "9         Number_of_existing_loans_at_this_bank   6.936133\n",
       "5                         Principal_loan_amount   5.202227\n",
       "10                          high_risk_applicant   1.533963\n",
       "8                                 Has_guarantor   1.062786\n",
       "7                               Has_coapplicant   1.056522"
      ]
     },
     "execution_count": 29,
     "metadata": {},
     "output_type": "execute_result"
    }
   ],
   "source": [
    "X_variables = df_new[['Primary_applicant_age_in_years',\n",
    "       'Number_of_dependents', 'Years_at_current_residence', 'Foreign_worker',\n",
    "       'Months_loan_taken_for', 'Principal_loan_amount',\n",
    "       'EMI_rate_in_percentage_of_disposable_income', 'Has_coapplicant',\n",
    "       'Has_guarantor', 'Number_of_existing_loans_at_this_bank',\n",
    "       'high_risk_applicant' ]]\n",
    "\n",
    "vif_data = pd.DataFrame()\n",
    "vif_data['feature'] = X_variables.columns\n",
    "vif_data['VIF'] = [variance_inflation_factor(X_variables.values, i) for i in range(len(X_variables.columns))]\n",
    "\n",
    "vif_data.sort_values('VIF', ascending = False)"
   ]
  },
  {
   "cell_type": "markdown",
   "id": "252b570b",
   "metadata": {},
   "source": [
    "As shown in the table 'Foreign_worker', 'Primary_applicant_age_in_years', 'Number_of_dependents', 'EMI_rate_in_percentage_of_disposable_income', 'Years_at_current_residence', 'Months_loan_taken_for', 'Number_of_existing_loans_at_this_bank', 'Principal_loan_amount' all have VIF value exceeding 5. \n",
    "\n",
    "- We will try removing features one at a time and calculate the VIF "
   ]
  },
  {
   "cell_type": "code",
   "execution_count": 30,
   "id": "dce050f0",
   "metadata": {},
   "outputs": [
    {
     "data": {
      "text/html": [
       "<div>\n",
       "<style scoped>\n",
       "    .dataframe tbody tr th:only-of-type {\n",
       "        vertical-align: middle;\n",
       "    }\n",
       "\n",
       "    .dataframe tbody tr th {\n",
       "        vertical-align: top;\n",
       "    }\n",
       "\n",
       "    .dataframe thead th {\n",
       "        text-align: right;\n",
       "    }\n",
       "</style>\n",
       "<table border=\"1\" class=\"dataframe\">\n",
       "  <thead>\n",
       "    <tr style=\"text-align: right;\">\n",
       "      <th></th>\n",
       "      <th>feature</th>\n",
       "      <th>VIF</th>\n",
       "    </tr>\n",
       "  </thead>\n",
       "  <tbody>\n",
       "    <tr>\n",
       "      <th>0</th>\n",
       "      <td>Primary_applicant_age_in_years</td>\n",
       "      <td>11.149086</td>\n",
       "    </tr>\n",
       "    <tr>\n",
       "      <th>1</th>\n",
       "      <td>Number_of_dependents</td>\n",
       "      <td>8.923146</td>\n",
       "    </tr>\n",
       "    <tr>\n",
       "      <th>5</th>\n",
       "      <td>EMI_rate_in_percentage_of_disposable_income</td>\n",
       "      <td>8.241615</td>\n",
       "    </tr>\n",
       "    <tr>\n",
       "      <th>3</th>\n",
       "      <td>Months_loan_taken_for</td>\n",
       "      <td>7.957676</td>\n",
       "    </tr>\n",
       "    <tr>\n",
       "      <th>2</th>\n",
       "      <td>Years_at_current_residence</td>\n",
       "      <td>7.763350</td>\n",
       "    </tr>\n",
       "    <tr>\n",
       "      <th>8</th>\n",
       "      <td>Number_of_existing_loans_at_this_bank</td>\n",
       "      <td>6.707530</td>\n",
       "    </tr>\n",
       "    <tr>\n",
       "      <th>4</th>\n",
       "      <td>Principal_loan_amount</td>\n",
       "      <td>5.154377</td>\n",
       "    </tr>\n",
       "    <tr>\n",
       "      <th>9</th>\n",
       "      <td>high_risk_applicant</td>\n",
       "      <td>1.524850</td>\n",
       "    </tr>\n",
       "    <tr>\n",
       "      <th>7</th>\n",
       "      <td>Has_guarantor</td>\n",
       "      <td>1.062123</td>\n",
       "    </tr>\n",
       "    <tr>\n",
       "      <th>6</th>\n",
       "      <td>Has_coapplicant</td>\n",
       "      <td>1.055229</td>\n",
       "    </tr>\n",
       "  </tbody>\n",
       "</table>\n",
       "</div>"
      ],
      "text/plain": [
       "                                       feature        VIF\n",
       "0               Primary_applicant_age_in_years  11.149086\n",
       "1                         Number_of_dependents   8.923146\n",
       "5  EMI_rate_in_percentage_of_disposable_income   8.241615\n",
       "3                        Months_loan_taken_for   7.957676\n",
       "2                   Years_at_current_residence   7.763350\n",
       "8        Number_of_existing_loans_at_this_bank   6.707530\n",
       "4                        Principal_loan_amount   5.154377\n",
       "9                          high_risk_applicant   1.524850\n",
       "7                                Has_guarantor   1.062123\n",
       "6                              Has_coapplicant   1.055229"
      ]
     },
     "execution_count": 30,
     "metadata": {},
     "output_type": "execute_result"
    }
   ],
   "source": [
    "#remove Foreign_worker\n",
    "X_variables = df_new[['Primary_applicant_age_in_years',\n",
    "       'Number_of_dependents', 'Years_at_current_residence',\n",
    "       'Months_loan_taken_for', 'Principal_loan_amount',\n",
    "       'EMI_rate_in_percentage_of_disposable_income', 'Has_coapplicant',\n",
    "       'Has_guarantor', 'Number_of_existing_loans_at_this_bank',\n",
    "       'high_risk_applicant' ]]\n",
    "\n",
    "vif_data = pd.DataFrame()\n",
    "vif_data['feature'] = X_variables.columns\n",
    "vif_data['VIF'] = [variance_inflation_factor(X_variables.values, i) for i in range(len(X_variables.columns))]\n",
    "\n",
    "vif_data.sort_values('VIF', ascending = False)"
   ]
  },
  {
   "cell_type": "code",
   "execution_count": 31,
   "id": "d9e57f03",
   "metadata": {},
   "outputs": [
    {
     "data": {
      "text/html": [
       "<div>\n",
       "<style scoped>\n",
       "    .dataframe tbody tr th:only-of-type {\n",
       "        vertical-align: middle;\n",
       "    }\n",
       "\n",
       "    .dataframe tbody tr th {\n",
       "        vertical-align: top;\n",
       "    }\n",
       "\n",
       "    .dataframe thead th {\n",
       "        text-align: right;\n",
       "    }\n",
       "</style>\n",
       "<table border=\"1\" class=\"dataframe\">\n",
       "  <thead>\n",
       "    <tr style=\"text-align: right;\">\n",
       "      <th></th>\n",
       "      <th>feature</th>\n",
       "      <th>VIF</th>\n",
       "    </tr>\n",
       "  </thead>\n",
       "  <tbody>\n",
       "    <tr>\n",
       "      <th>0</th>\n",
       "      <td>Number_of_dependents</td>\n",
       "      <td>8.103050</td>\n",
       "    </tr>\n",
       "    <tr>\n",
       "      <th>2</th>\n",
       "      <td>Months_loan_taken_for</td>\n",
       "      <td>7.930322</td>\n",
       "    </tr>\n",
       "    <tr>\n",
       "      <th>4</th>\n",
       "      <td>EMI_rate_in_percentage_of_disposable_income</td>\n",
       "      <td>7.616082</td>\n",
       "    </tr>\n",
       "    <tr>\n",
       "      <th>1</th>\n",
       "      <td>Years_at_current_residence</td>\n",
       "      <td>6.728636</td>\n",
       "    </tr>\n",
       "    <tr>\n",
       "      <th>7</th>\n",
       "      <td>Number_of_existing_loans_at_this_bank</td>\n",
       "      <td>6.406723</td>\n",
       "    </tr>\n",
       "    <tr>\n",
       "      <th>3</th>\n",
       "      <td>Principal_loan_amount</td>\n",
       "      <td>5.039221</td>\n",
       "    </tr>\n",
       "    <tr>\n",
       "      <th>8</th>\n",
       "      <td>high_risk_applicant</td>\n",
       "      <td>1.515665</td>\n",
       "    </tr>\n",
       "    <tr>\n",
       "      <th>6</th>\n",
       "      <td>Has_guarantor</td>\n",
       "      <td>1.062113</td>\n",
       "    </tr>\n",
       "    <tr>\n",
       "      <th>5</th>\n",
       "      <td>Has_coapplicant</td>\n",
       "      <td>1.055221</td>\n",
       "    </tr>\n",
       "  </tbody>\n",
       "</table>\n",
       "</div>"
      ],
      "text/plain": [
       "                                       feature       VIF\n",
       "0                         Number_of_dependents  8.103050\n",
       "2                        Months_loan_taken_for  7.930322\n",
       "4  EMI_rate_in_percentage_of_disposable_income  7.616082\n",
       "1                   Years_at_current_residence  6.728636\n",
       "7        Number_of_existing_loans_at_this_bank  6.406723\n",
       "3                        Principal_loan_amount  5.039221\n",
       "8                          high_risk_applicant  1.515665\n",
       "6                                Has_guarantor  1.062113\n",
       "5                              Has_coapplicant  1.055221"
      ]
     },
     "execution_count": 31,
     "metadata": {},
     "output_type": "execute_result"
    }
   ],
   "source": [
    "#remove Primary_applicant_age_in_years\n",
    "\n",
    "X_variables = df_new[['Number_of_dependents', 'Years_at_current_residence',\n",
    "       'Months_loan_taken_for', 'Principal_loan_amount',\n",
    "       'EMI_rate_in_percentage_of_disposable_income', 'Has_coapplicant',\n",
    "       'Has_guarantor', 'Number_of_existing_loans_at_this_bank',\n",
    "       'high_risk_applicant' ]]\n",
    "\n",
    "vif_data = pd.DataFrame()\n",
    "vif_data['feature'] = X_variables.columns\n",
    "vif_data['VIF'] = [variance_inflation_factor(X_variables.values, i) for i in range(len(X_variables.columns))]\n",
    "\n",
    "vif_data.sort_values('VIF', ascending = False)"
   ]
  },
  {
   "cell_type": "code",
   "execution_count": 32,
   "id": "ebd89f67",
   "metadata": {},
   "outputs": [
    {
     "data": {
      "text/html": [
       "<div>\n",
       "<style scoped>\n",
       "    .dataframe tbody tr th:only-of-type {\n",
       "        vertical-align: middle;\n",
       "    }\n",
       "\n",
       "    .dataframe tbody tr th {\n",
       "        vertical-align: top;\n",
       "    }\n",
       "\n",
       "    .dataframe thead th {\n",
       "        text-align: right;\n",
       "    }\n",
       "</style>\n",
       "<table border=\"1\" class=\"dataframe\">\n",
       "  <thead>\n",
       "    <tr style=\"text-align: right;\">\n",
       "      <th></th>\n",
       "      <th>feature</th>\n",
       "      <th>VIF</th>\n",
       "    </tr>\n",
       "  </thead>\n",
       "  <tbody>\n",
       "    <tr>\n",
       "      <th>1</th>\n",
       "      <td>Months_loan_taken_for</td>\n",
       "      <td>7.929794</td>\n",
       "    </tr>\n",
       "    <tr>\n",
       "      <th>3</th>\n",
       "      <td>EMI_rate_in_percentage_of_disposable_income</td>\n",
       "      <td>7.000491</td>\n",
       "    </tr>\n",
       "    <tr>\n",
       "      <th>0</th>\n",
       "      <td>Years_at_current_residence</td>\n",
       "      <td>6.125008</td>\n",
       "    </tr>\n",
       "    <tr>\n",
       "      <th>6</th>\n",
       "      <td>Number_of_existing_loans_at_this_bank</td>\n",
       "      <td>5.622514</td>\n",
       "    </tr>\n",
       "    <tr>\n",
       "      <th>2</th>\n",
       "      <td>Principal_loan_amount</td>\n",
       "      <td>4.925006</td>\n",
       "    </tr>\n",
       "    <tr>\n",
       "      <th>7</th>\n",
       "      <td>high_risk_applicant</td>\n",
       "      <td>1.513602</td>\n",
       "    </tr>\n",
       "    <tr>\n",
       "      <th>4</th>\n",
       "      <td>Has_coapplicant</td>\n",
       "      <td>1.054997</td>\n",
       "    </tr>\n",
       "    <tr>\n",
       "      <th>5</th>\n",
       "      <td>Has_guarantor</td>\n",
       "      <td>1.053273</td>\n",
       "    </tr>\n",
       "  </tbody>\n",
       "</table>\n",
       "</div>"
      ],
      "text/plain": [
       "                                       feature       VIF\n",
       "1                        Months_loan_taken_for  7.929794\n",
       "3  EMI_rate_in_percentage_of_disposable_income  7.000491\n",
       "0                   Years_at_current_residence  6.125008\n",
       "6        Number_of_existing_loans_at_this_bank  5.622514\n",
       "2                        Principal_loan_amount  4.925006\n",
       "7                          high_risk_applicant  1.513602\n",
       "4                              Has_coapplicant  1.054997\n",
       "5                                Has_guarantor  1.053273"
      ]
     },
     "execution_count": 32,
     "metadata": {},
     "output_type": "execute_result"
    }
   ],
   "source": [
    "#remove Number_of_dependents\n",
    "\n",
    "X_variables = df_new[['Years_at_current_residence',\n",
    "       'Months_loan_taken_for', 'Principal_loan_amount',\n",
    "       'EMI_rate_in_percentage_of_disposable_income', 'Has_coapplicant',\n",
    "       'Has_guarantor', 'Number_of_existing_loans_at_this_bank',\n",
    "       'high_risk_applicant' ]]\n",
    "\n",
    "vif_data = pd.DataFrame()\n",
    "vif_data['feature'] = X_variables.columns\n",
    "vif_data['VIF'] = [variance_inflation_factor(X_variables.values, i) for i in range(len(X_variables.columns))]\n",
    "\n",
    "vif_data.sort_values('VIF', ascending = False)"
   ]
  },
  {
   "cell_type": "code",
   "execution_count": 33,
   "id": "e066333d",
   "metadata": {},
   "outputs": [
    {
     "data": {
      "text/html": [
       "<div>\n",
       "<style scoped>\n",
       "    .dataframe tbody tr th:only-of-type {\n",
       "        vertical-align: middle;\n",
       "    }\n",
       "\n",
       "    .dataframe tbody tr th {\n",
       "        vertical-align: top;\n",
       "    }\n",
       "\n",
       "    .dataframe thead th {\n",
       "        text-align: right;\n",
       "    }\n",
       "</style>\n",
       "<table border=\"1\" class=\"dataframe\">\n",
       "  <thead>\n",
       "    <tr style=\"text-align: right;\">\n",
       "      <th></th>\n",
       "      <th>feature</th>\n",
       "      <th>VIF</th>\n",
       "    </tr>\n",
       "  </thead>\n",
       "  <tbody>\n",
       "    <tr>\n",
       "      <th>0</th>\n",
       "      <td>Years_at_current_residence</td>\n",
       "      <td>6.117190</td>\n",
       "    </tr>\n",
       "    <tr>\n",
       "      <th>2</th>\n",
       "      <td>EMI_rate_in_percentage_of_disposable_income</td>\n",
       "      <td>5.651144</td>\n",
       "    </tr>\n",
       "    <tr>\n",
       "      <th>5</th>\n",
       "      <td>Number_of_existing_loans_at_this_bank</td>\n",
       "      <td>5.620141</td>\n",
       "    </tr>\n",
       "    <tr>\n",
       "      <th>1</th>\n",
       "      <td>Principal_loan_amount</td>\n",
       "      <td>2.418149</td>\n",
       "    </tr>\n",
       "    <tr>\n",
       "      <th>6</th>\n",
       "      <td>high_risk_applicant</td>\n",
       "      <td>1.488643</td>\n",
       "    </tr>\n",
       "    <tr>\n",
       "      <th>3</th>\n",
       "      <td>Has_coapplicant</td>\n",
       "      <td>1.053508</td>\n",
       "    </tr>\n",
       "    <tr>\n",
       "      <th>4</th>\n",
       "      <td>Has_guarantor</td>\n",
       "      <td>1.052743</td>\n",
       "    </tr>\n",
       "  </tbody>\n",
       "</table>\n",
       "</div>"
      ],
      "text/plain": [
       "                                       feature       VIF\n",
       "0                   Years_at_current_residence  6.117190\n",
       "2  EMI_rate_in_percentage_of_disposable_income  5.651144\n",
       "5        Number_of_existing_loans_at_this_bank  5.620141\n",
       "1                        Principal_loan_amount  2.418149\n",
       "6                          high_risk_applicant  1.488643\n",
       "3                              Has_coapplicant  1.053508\n",
       "4                                Has_guarantor  1.052743"
      ]
     },
     "execution_count": 33,
     "metadata": {},
     "output_type": "execute_result"
    }
   ],
   "source": [
    "#remove Months_loan_taken_for\n",
    "\n",
    "X_variables = df_new[['Years_at_current_residence',\n",
    "        'Principal_loan_amount',\n",
    "       'EMI_rate_in_percentage_of_disposable_income', 'Has_coapplicant',\n",
    "       'Has_guarantor', 'Number_of_existing_loans_at_this_bank',\n",
    "       'high_risk_applicant' ]]\n",
    "\n",
    "vif_data = pd.DataFrame()\n",
    "vif_data['feature'] = X_variables.columns\n",
    "vif_data['VIF'] = [variance_inflation_factor(X_variables.values, i) for i in range(len(X_variables.columns))]\n",
    "\n",
    "vif_data.sort_values('VIF', ascending = False)"
   ]
  },
  {
   "cell_type": "code",
   "execution_count": 34,
   "id": "001479fa",
   "metadata": {},
   "outputs": [
    {
     "data": {
      "text/html": [
       "<div>\n",
       "<style scoped>\n",
       "    .dataframe tbody tr th:only-of-type {\n",
       "        vertical-align: middle;\n",
       "    }\n",
       "\n",
       "    .dataframe tbody tr th {\n",
       "        vertical-align: top;\n",
       "    }\n",
       "\n",
       "    .dataframe thead th {\n",
       "        text-align: right;\n",
       "    }\n",
       "</style>\n",
       "<table border=\"1\" class=\"dataframe\">\n",
       "  <thead>\n",
       "    <tr style=\"text-align: right;\">\n",
       "      <th></th>\n",
       "      <th>feature</th>\n",
       "      <th>VIF</th>\n",
       "    </tr>\n",
       "  </thead>\n",
       "  <tbody>\n",
       "    <tr>\n",
       "      <th>4</th>\n",
       "      <td>Number_of_existing_loans_at_this_bank</td>\n",
       "      <td>4.862685</td>\n",
       "    </tr>\n",
       "    <tr>\n",
       "      <th>1</th>\n",
       "      <td>EMI_rate_in_percentage_of_disposable_income</td>\n",
       "      <td>4.384847</td>\n",
       "    </tr>\n",
       "    <tr>\n",
       "      <th>0</th>\n",
       "      <td>Principal_loan_amount</td>\n",
       "      <td>2.252794</td>\n",
       "    </tr>\n",
       "    <tr>\n",
       "      <th>5</th>\n",
       "      <td>high_risk_applicant</td>\n",
       "      <td>1.487890</td>\n",
       "    </tr>\n",
       "    <tr>\n",
       "      <th>2</th>\n",
       "      <td>Has_coapplicant</td>\n",
       "      <td>1.053392</td>\n",
       "    </tr>\n",
       "    <tr>\n",
       "      <th>3</th>\n",
       "      <td>Has_guarantor</td>\n",
       "      <td>1.051831</td>\n",
       "    </tr>\n",
       "  </tbody>\n",
       "</table>\n",
       "</div>"
      ],
      "text/plain": [
       "                                       feature       VIF\n",
       "4        Number_of_existing_loans_at_this_bank  4.862685\n",
       "1  EMI_rate_in_percentage_of_disposable_income  4.384847\n",
       "0                        Principal_loan_amount  2.252794\n",
       "5                          high_risk_applicant  1.487890\n",
       "2                              Has_coapplicant  1.053392\n",
       "3                                Has_guarantor  1.051831"
      ]
     },
     "execution_count": 34,
     "metadata": {},
     "output_type": "execute_result"
    }
   ],
   "source": [
    "#remove Years_at_current_residence\n",
    "\n",
    "X_variables = df_new[['Principal_loan_amount',\n",
    "       'EMI_rate_in_percentage_of_disposable_income', 'Has_coapplicant',\n",
    "       'Has_guarantor', 'Number_of_existing_loans_at_this_bank',\n",
    "       'high_risk_applicant' ]]\n",
    "\n",
    "vif_data = pd.DataFrame()\n",
    "vif_data['feature'] = X_variables.columns\n",
    "vif_data['VIF'] = [variance_inflation_factor(X_variables.values, i) for i in range(len(X_variables.columns))]\n",
    "\n",
    "vif_data.sort_values('VIF', ascending = False)"
   ]
  },
  {
   "cell_type": "markdown",
   "id": "214c708b",
   "metadata": {},
   "source": [
    "Now the VIF is all within the acceptable range and the model will give a statistically significant result. \n",
    "\n",
    "- But for training the model in our case we will consider the features as long as the VIF values are not exceeding 10 (for simplicity and for avoidiing dropping too many columns) "
   ]
  },
  {
   "cell_type": "markdown",
   "id": "05d73a5b",
   "metadata": {},
   "source": [
    "### Feature Selection based on VIF"
   ]
  },
  {
   "cell_type": "code",
   "execution_count": 35,
   "id": "ef93f771",
   "metadata": {},
   "outputs": [
    {
     "data": {
      "text/plain": [
       "(1000, 21)"
      ]
     },
     "execution_count": 35,
     "metadata": {},
     "output_type": "execute_result"
    }
   ],
   "source": [
    "#drop Foreign_worker and Primary_applicant_age_in_years\n",
    "\n",
    "df_final = df_new.drop(['Foreign_worker', 'Primary_applicant_age_in_years'], axis = 1)\n",
    "df_final.shape"
   ]
  },
  {
   "cell_type": "markdown",
   "id": "cf1c4043",
   "metadata": {},
   "source": [
    "### Removing redundant features"
   ]
  },
  {
   "cell_type": "code",
   "execution_count": 121,
   "id": "517653b3",
   "metadata": {},
   "outputs": [
    {
     "data": {
      "text/plain": [
       "(1000, 19)"
      ]
     },
     "execution_count": 121,
     "metadata": {},
     "output_type": "execute_result"
    }
   ],
   "source": [
    "#drop applicant_id and loan_application_id as these are just ids\n",
    "df_final = df_final.drop(['applicant_id', 'loan_application_id'], axis = 1)\n",
    "df_final.shape"
   ]
  },
  {
   "cell_type": "markdown",
   "id": "47ef5b4e",
   "metadata": {},
   "source": [
    "## Label encoding the categorical features"
   ]
  },
  {
   "cell_type": "code",
   "execution_count": 122,
   "id": "0935e50a",
   "metadata": {},
   "outputs": [],
   "source": [
    "#LABEL ENCODING\n",
    "\n",
    "#selecting categorical columns to encode from dataset\n",
    "\n",
    "cat_columns = list(df_final.select_dtypes(\"object\").columns)\n",
    "\n",
    "#setting up the imputer \n",
    "\n",
    "transformer = ColumnTransformer(transformers = [(\"L\", OrdinalEncoder(),cat_columns)], remainder = 'passthrough')\n",
    "cat_columns_imputed = transformer.fit_transform(df_final[cat_columns])\n",
    "\n",
    "#passing the imputer values in each of the categorical columns in the original dataset\n",
    "\n",
    "df_final[cat_columns] = cat_columns_imputed"
   ]
  },
  {
   "cell_type": "code",
   "execution_count": 123,
   "id": "41b6a2d6",
   "metadata": {},
   "outputs": [
    {
     "data": {
      "text/html": [
       "<div>\n",
       "<style scoped>\n",
       "    .dataframe tbody tr th:only-of-type {\n",
       "        vertical-align: middle;\n",
       "    }\n",
       "\n",
       "    .dataframe tbody tr th {\n",
       "        vertical-align: top;\n",
       "    }\n",
       "\n",
       "    .dataframe thead th {\n",
       "        text-align: right;\n",
       "    }\n",
       "</style>\n",
       "<table border=\"1\" class=\"dataframe\">\n",
       "  <thead>\n",
       "    <tr style=\"text-align: right;\">\n",
       "      <th></th>\n",
       "      <th>Gender</th>\n",
       "      <th>Marital_status</th>\n",
       "      <th>Number_of_dependents</th>\n",
       "      <th>Housing</th>\n",
       "      <th>Years_at_current_residence</th>\n",
       "      <th>Employment_status</th>\n",
       "      <th>Has_been_employed_for_at_least</th>\n",
       "      <th>Has_been_employed_for_at_most</th>\n",
       "      <th>Savings_account_balance</th>\n",
       "      <th>Months_loan_taken_for</th>\n",
       "      <th>Purpose</th>\n",
       "      <th>Principal_loan_amount</th>\n",
       "      <th>EMI_rate_in_percentage_of_disposable_income</th>\n",
       "      <th>Property</th>\n",
       "      <th>Has_coapplicant</th>\n",
       "      <th>Has_guarantor</th>\n",
       "      <th>Number_of_existing_loans_at_this_bank</th>\n",
       "      <th>Loan_history</th>\n",
       "      <th>high_risk_applicant</th>\n",
       "    </tr>\n",
       "  </thead>\n",
       "  <tbody>\n",
       "    <tr>\n",
       "      <th>0</th>\n",
       "      <td>1.0</td>\n",
       "      <td>3.0</td>\n",
       "      <td>1</td>\n",
       "      <td>1.0</td>\n",
       "      <td>4</td>\n",
       "      <td>1.0</td>\n",
       "      <td>3.0</td>\n",
       "      <td>2.0</td>\n",
       "      <td>1.0</td>\n",
       "      <td>6</td>\n",
       "      <td>5.0</td>\n",
       "      <td>1169000</td>\n",
       "      <td>4</td>\n",
       "      <td>2.0</td>\n",
       "      <td>0</td>\n",
       "      <td>0</td>\n",
       "      <td>2</td>\n",
       "      <td>1.0</td>\n",
       "      <td>0</td>\n",
       "    </tr>\n",
       "    <tr>\n",
       "      <th>1</th>\n",
       "      <td>0.0</td>\n",
       "      <td>1.0</td>\n",
       "      <td>1</td>\n",
       "      <td>1.0</td>\n",
       "      <td>2</td>\n",
       "      <td>1.0</td>\n",
       "      <td>1.0</td>\n",
       "      <td>2.0</td>\n",
       "      <td>1.0</td>\n",
       "      <td>48</td>\n",
       "      <td>5.0</td>\n",
       "      <td>5951000</td>\n",
       "      <td>2</td>\n",
       "      <td>2.0</td>\n",
       "      <td>0</td>\n",
       "      <td>0</td>\n",
       "      <td>1</td>\n",
       "      <td>3.0</td>\n",
       "      <td>1</td>\n",
       "    </tr>\n",
       "    <tr>\n",
       "      <th>2</th>\n",
       "      <td>1.0</td>\n",
       "      <td>3.0</td>\n",
       "      <td>2</td>\n",
       "      <td>1.0</td>\n",
       "      <td>3</td>\n",
       "      <td>3.0</td>\n",
       "      <td>2.0</td>\n",
       "      <td>3.0</td>\n",
       "      <td>1.0</td>\n",
       "      <td>12</td>\n",
       "      <td>4.0</td>\n",
       "      <td>2096000</td>\n",
       "      <td>2</td>\n",
       "      <td>2.0</td>\n",
       "      <td>0</td>\n",
       "      <td>0</td>\n",
       "      <td>1</td>\n",
       "      <td>1.0</td>\n",
       "      <td>0</td>\n",
       "    </tr>\n",
       "    <tr>\n",
       "      <th>3</th>\n",
       "      <td>1.0</td>\n",
       "      <td>3.0</td>\n",
       "      <td>2</td>\n",
       "      <td>0.0</td>\n",
       "      <td>4</td>\n",
       "      <td>1.0</td>\n",
       "      <td>2.0</td>\n",
       "      <td>3.0</td>\n",
       "      <td>1.0</td>\n",
       "      <td>42</td>\n",
       "      <td>0.0</td>\n",
       "      <td>7882000</td>\n",
       "      <td>2</td>\n",
       "      <td>0.0</td>\n",
       "      <td>0</td>\n",
       "      <td>1</td>\n",
       "      <td>1</td>\n",
       "      <td>3.0</td>\n",
       "      <td>0</td>\n",
       "    </tr>\n",
       "    <tr>\n",
       "      <th>4</th>\n",
       "      <td>1.0</td>\n",
       "      <td>3.0</td>\n",
       "      <td>2</td>\n",
       "      <td>0.0</td>\n",
       "      <td>4</td>\n",
       "      <td>1.0</td>\n",
       "      <td>1.0</td>\n",
       "      <td>2.0</td>\n",
       "      <td>1.0</td>\n",
       "      <td>24</td>\n",
       "      <td>6.0</td>\n",
       "      <td>4870000</td>\n",
       "      <td>3</td>\n",
       "      <td>1.0</td>\n",
       "      <td>0</td>\n",
       "      <td>0</td>\n",
       "      <td>2</td>\n",
       "      <td>2.0</td>\n",
       "      <td>1</td>\n",
       "    </tr>\n",
       "  </tbody>\n",
       "</table>\n",
       "</div>"
      ],
      "text/plain": [
       "   Gender  Marital_status  Number_of_dependents  Housing  \\\n",
       "0     1.0             3.0                     1      1.0   \n",
       "1     0.0             1.0                     1      1.0   \n",
       "2     1.0             3.0                     2      1.0   \n",
       "3     1.0             3.0                     2      0.0   \n",
       "4     1.0             3.0                     2      0.0   \n",
       "\n",
       "   Years_at_current_residence  Employment_status  \\\n",
       "0                           4                1.0   \n",
       "1                           2                1.0   \n",
       "2                           3                3.0   \n",
       "3                           4                1.0   \n",
       "4                           4                1.0   \n",
       "\n",
       "   Has_been_employed_for_at_least  Has_been_employed_for_at_most  \\\n",
       "0                             3.0                            2.0   \n",
       "1                             1.0                            2.0   \n",
       "2                             2.0                            3.0   \n",
       "3                             2.0                            3.0   \n",
       "4                             1.0                            2.0   \n",
       "\n",
       "   Savings_account_balance  Months_loan_taken_for  Purpose  \\\n",
       "0                      1.0                      6      5.0   \n",
       "1                      1.0                     48      5.0   \n",
       "2                      1.0                     12      4.0   \n",
       "3                      1.0                     42      0.0   \n",
       "4                      1.0                     24      6.0   \n",
       "\n",
       "   Principal_loan_amount  EMI_rate_in_percentage_of_disposable_income  \\\n",
       "0                1169000                                            4   \n",
       "1                5951000                                            2   \n",
       "2                2096000                                            2   \n",
       "3                7882000                                            2   \n",
       "4                4870000                                            3   \n",
       "\n",
       "   Property  Has_coapplicant  Has_guarantor  \\\n",
       "0       2.0                0              0   \n",
       "1       2.0                0              0   \n",
       "2       2.0                0              0   \n",
       "3       0.0                0              1   \n",
       "4       1.0                0              0   \n",
       "\n",
       "   Number_of_existing_loans_at_this_bank  Loan_history  high_risk_applicant  \n",
       "0                                      2           1.0                    0  \n",
       "1                                      1           3.0                    1  \n",
       "2                                      1           1.0                    0  \n",
       "3                                      1           3.0                    0  \n",
       "4                                      2           2.0                    1  "
      ]
     },
     "execution_count": 123,
     "metadata": {},
     "output_type": "execute_result"
    }
   ],
   "source": [
    "df_final.head()"
   ]
  },
  {
   "cell_type": "markdown",
   "id": "f5abcc8b",
   "metadata": {},
   "source": [
    "## Train Test Splitting"
   ]
  },
  {
   "cell_type": "code",
   "execution_count": 124,
   "id": "479c12f8",
   "metadata": {},
   "outputs": [],
   "source": [
    "X = df_final.drop(['high_risk_applicant'], axis = 1)\n",
    "y = df_final.high_risk_applicant"
   ]
  },
  {
   "cell_type": "code",
   "execution_count": 125,
   "id": "831d33d9",
   "metadata": {},
   "outputs": [],
   "source": [
    "X_train, X_test, y_train, y_test = train_test_split(X, y, test_size = 0.2, random_state = 100 )"
   ]
  },
  {
   "cell_type": "markdown",
   "id": "6745c954",
   "metadata": {},
   "source": [
    "## ML model fitting"
   ]
  },
  {
   "cell_type": "markdown",
   "id": "275e67aa",
   "metadata": {},
   "source": [
    "##### Business Constraint:\n",
    "- Note that it is worse to state an applicant as a low credit risk when they are actually a high risk, than it is to state an applicant to be a high credit risk when they aren’t.\n",
    "\n",
    "It means False Positive is more acceptable than False Negative. \n",
    "\n",
    "- To favour the false negatives we have used scorer = 'recall'. \n",
    "- We have also used SMOTE and SMOTEEN for countering the class imbalance."
   ]
  },
  {
   "cell_type": "markdown",
   "id": "969dbaca",
   "metadata": {},
   "source": [
    "### 1. Fitting Decision Tree with randomized search cv for hyperparamter tuning\n"
   ]
  },
  {
   "cell_type": "code",
   "execution_count": 126,
   "id": "d9e10425",
   "metadata": {},
   "outputs": [],
   "source": [
    "kf = KFold(n_splits=5, shuffle=False)"
   ]
  },
  {
   "cell_type": "code",
   "execution_count": 127,
   "id": "002d36e5",
   "metadata": {},
   "outputs": [],
   "source": [
    "params = {\"decisiontreeclassifier__max_depth\": range(2,50,5),\n",
    "              \"decisiontreeclassifier__min_samples_split\": [10, 20, 50],\n",
    "              \"decisiontreeclassifier__min_samples_leaf\": [2, 4, 8],\n",
    "              \"decisiontreeclassifier__criterion\": [\"gini\", \"entropy\"]}"
   ]
  },
  {
   "cell_type": "code",
   "execution_count": 128,
   "id": "1bdf46ab",
   "metadata": {},
   "outputs": [
    {
     "name": "stdout",
     "output_type": "stream",
     "text": [
      "Fitting 5 folds for each of 10 candidates, totalling 50 fits\n",
      "[CV 1/5; 1/10] START decisiontreeclassifier__criterion=entropy, decisiontreeclassifier__max_depth=22, decisiontreeclassifier__min_samples_leaf=8, decisiontreeclassifier__min_samples_split=10\n",
      "[CV 1/5; 1/10] END decisiontreeclassifier__criterion=entropy, decisiontreeclassifier__max_depth=22, decisiontreeclassifier__min_samples_leaf=8, decisiontreeclassifier__min_samples_split=10;, score=(train=0.718, test=0.452) total time=   0.0s\n",
      "[CV 2/5; 1/10] START decisiontreeclassifier__criterion=entropy, decisiontreeclassifier__max_depth=22, decisiontreeclassifier__min_samples_leaf=8, decisiontreeclassifier__min_samples_split=10\n",
      "[CV 2/5; 1/10] END decisiontreeclassifier__criterion=entropy, decisiontreeclassifier__max_depth=22, decisiontreeclassifier__min_samples_leaf=8, decisiontreeclassifier__min_samples_split=10;, score=(train=0.678, test=0.489) total time=   0.0s\n",
      "[CV 3/5; 1/10] START decisiontreeclassifier__criterion=entropy, decisiontreeclassifier__max_depth=22, decisiontreeclassifier__min_samples_leaf=8, decisiontreeclassifier__min_samples_split=10\n",
      "[CV 3/5; 1/10] END decisiontreeclassifier__criterion=entropy, decisiontreeclassifier__max_depth=22, decisiontreeclassifier__min_samples_leaf=8, decisiontreeclassifier__min_samples_split=10;, score=(train=0.652, test=0.333) total time=   0.0s\n",
      "[CV 4/5; 1/10] START decisiontreeclassifier__criterion=entropy, decisiontreeclassifier__max_depth=22, decisiontreeclassifier__min_samples_leaf=8, decisiontreeclassifier__min_samples_split=10\n",
      "[CV 4/5; 1/10] END decisiontreeclassifier__criterion=entropy, decisiontreeclassifier__max_depth=22, decisiontreeclassifier__min_samples_leaf=8, decisiontreeclassifier__min_samples_split=10;, score=(train=0.646, test=0.327) total time=   0.0s\n",
      "[CV 5/5; 1/10] START decisiontreeclassifier__criterion=entropy, decisiontreeclassifier__max_depth=22, decisiontreeclassifier__min_samples_leaf=8, decisiontreeclassifier__min_samples_split=10\n",
      "[CV 5/5; 1/10] END decisiontreeclassifier__criterion=entropy, decisiontreeclassifier__max_depth=22, decisiontreeclassifier__min_samples_leaf=8, decisiontreeclassifier__min_samples_split=10;, score=(train=0.668, test=0.392) total time=   0.0s\n",
      "[CV 1/5; 2/10] START decisiontreeclassifier__criterion=gini, decisiontreeclassifier__max_depth=32, decisiontreeclassifier__min_samples_leaf=8, decisiontreeclassifier__min_samples_split=20\n",
      "[CV 1/5; 2/10] END decisiontreeclassifier__criterion=gini, decisiontreeclassifier__max_depth=32, decisiontreeclassifier__min_samples_leaf=8, decisiontreeclassifier__min_samples_split=20;, score=(train=0.634, test=0.429) total time=   0.0s\n",
      "[CV 2/5; 2/10] START decisiontreeclassifier__criterion=gini, decisiontreeclassifier__max_depth=32, decisiontreeclassifier__min_samples_leaf=8, decisiontreeclassifier__min_samples_split=20\n",
      "[CV 2/5; 2/10] END decisiontreeclassifier__criterion=gini, decisiontreeclassifier__max_depth=32, decisiontreeclassifier__min_samples_leaf=8, decisiontreeclassifier__min_samples_split=20;, score=(train=0.673, test=0.422) total time=   0.0s\n",
      "[CV 3/5; 2/10] START decisiontreeclassifier__criterion=gini, decisiontreeclassifier__max_depth=32, decisiontreeclassifier__min_samples_leaf=8, decisiontreeclassifier__min_samples_split=20\n",
      "[CV 3/5; 2/10] END decisiontreeclassifier__criterion=gini, decisiontreeclassifier__max_depth=32, decisiontreeclassifier__min_samples_leaf=8, decisiontreeclassifier__min_samples_split=20;, score=(train=0.631, test=0.281) total time=   0.0s\n",
      "[CV 4/5; 2/10] START decisiontreeclassifier__criterion=gini, decisiontreeclassifier__max_depth=32, decisiontreeclassifier__min_samples_leaf=8, decisiontreeclassifier__min_samples_split=20\n",
      "[CV 4/5; 2/10] END decisiontreeclassifier__criterion=gini, decisiontreeclassifier__max_depth=32, decisiontreeclassifier__min_samples_leaf=8, decisiontreeclassifier__min_samples_split=20;, score=(train=0.569, test=0.327) total time=   0.0s\n",
      "[CV 5/5; 2/10] START decisiontreeclassifier__criterion=gini, decisiontreeclassifier__max_depth=32, decisiontreeclassifier__min_samples_leaf=8, decisiontreeclassifier__min_samples_split=20\n",
      "[CV 5/5; 2/10] END decisiontreeclassifier__criterion=gini, decisiontreeclassifier__max_depth=32, decisiontreeclassifier__min_samples_leaf=8, decisiontreeclassifier__min_samples_split=20;, score=(train=0.580, test=0.353) total time=   0.0s\n",
      "[CV 1/5; 3/10] START decisiontreeclassifier__criterion=entropy, decisiontreeclassifier__max_depth=32, decisiontreeclassifier__min_samples_leaf=8, decisiontreeclassifier__min_samples_split=10\n",
      "[CV 1/5; 3/10] END decisiontreeclassifier__criterion=entropy, decisiontreeclassifier__max_depth=32, decisiontreeclassifier__min_samples_leaf=8, decisiontreeclassifier__min_samples_split=10;, score=(train=0.718, test=0.452) total time=   0.0s\n",
      "[CV 2/5; 3/10] START decisiontreeclassifier__criterion=entropy, decisiontreeclassifier__max_depth=32, decisiontreeclassifier__min_samples_leaf=8, decisiontreeclassifier__min_samples_split=10\n",
      "[CV 2/5; 3/10] END decisiontreeclassifier__criterion=entropy, decisiontreeclassifier__max_depth=32, decisiontreeclassifier__min_samples_leaf=8, decisiontreeclassifier__min_samples_split=10;, score=(train=0.678, test=0.489) total time=   0.0s\n",
      "[CV 3/5; 3/10] START decisiontreeclassifier__criterion=entropy, decisiontreeclassifier__max_depth=32, decisiontreeclassifier__min_samples_leaf=8, decisiontreeclassifier__min_samples_split=10\n",
      "[CV 3/5; 3/10] END decisiontreeclassifier__criterion=entropy, decisiontreeclassifier__max_depth=32, decisiontreeclassifier__min_samples_leaf=8, decisiontreeclassifier__min_samples_split=10;, score=(train=0.652, test=0.333) total time=   0.0s\n",
      "[CV 4/5; 3/10] START decisiontreeclassifier__criterion=entropy, decisiontreeclassifier__max_depth=32, decisiontreeclassifier__min_samples_leaf=8, decisiontreeclassifier__min_samples_split=10\n",
      "[CV 4/5; 3/10] END decisiontreeclassifier__criterion=entropy, decisiontreeclassifier__max_depth=32, decisiontreeclassifier__min_samples_leaf=8, decisiontreeclassifier__min_samples_split=10;, score=(train=0.646, test=0.327) total time=   0.0s\n",
      "[CV 5/5; 3/10] START decisiontreeclassifier__criterion=entropy, decisiontreeclassifier__max_depth=32, decisiontreeclassifier__min_samples_leaf=8, decisiontreeclassifier__min_samples_split=10\n",
      "[CV 5/5; 3/10] END decisiontreeclassifier__criterion=entropy, decisiontreeclassifier__max_depth=32, decisiontreeclassifier__min_samples_leaf=8, decisiontreeclassifier__min_samples_split=10;, score=(train=0.668, test=0.392) total time=   0.0s\n",
      "[CV 1/5; 4/10] START decisiontreeclassifier__criterion=entropy, decisiontreeclassifier__max_depth=27, decisiontreeclassifier__min_samples_leaf=2, decisiontreeclassifier__min_samples_split=50\n",
      "[CV 1/5; 4/10] END decisiontreeclassifier__criterion=entropy, decisiontreeclassifier__max_depth=27, decisiontreeclassifier__min_samples_leaf=2, decisiontreeclassifier__min_samples_split=50;, score=(train=0.619, test=0.524) total time=   0.0s\n",
      "[CV 2/5; 4/10] START decisiontreeclassifier__criterion=entropy, decisiontreeclassifier__max_depth=27, decisiontreeclassifier__min_samples_leaf=2, decisiontreeclassifier__min_samples_split=50\n",
      "[CV 2/5; 4/10] END decisiontreeclassifier__criterion=entropy, decisiontreeclassifier__max_depth=27, decisiontreeclassifier__min_samples_leaf=2, decisiontreeclassifier__min_samples_split=50;, score=(train=0.593, test=0.378) total time=   0.0s\n",
      "[CV 3/5; 4/10] START decisiontreeclassifier__criterion=entropy, decisiontreeclassifier__max_depth=27, decisiontreeclassifier__min_samples_leaf=2, decisiontreeclassifier__min_samples_split=50\n",
      "[CV 3/5; 4/10] END decisiontreeclassifier__criterion=entropy, decisiontreeclassifier__max_depth=27, decisiontreeclassifier__min_samples_leaf=2, decisiontreeclassifier__min_samples_split=50;, score=(train=0.524, test=0.281) total time=   0.0s\n",
      "[CV 4/5; 4/10] START decisiontreeclassifier__criterion=entropy, decisiontreeclassifier__max_depth=27, decisiontreeclassifier__min_samples_leaf=2, decisiontreeclassifier__min_samples_split=50\n",
      "[CV 4/5; 4/10] END decisiontreeclassifier__criterion=entropy, decisiontreeclassifier__max_depth=27, decisiontreeclassifier__min_samples_leaf=2, decisiontreeclassifier__min_samples_split=50;, score=(train=0.615, test=0.429) total time=   0.0s\n",
      "[CV 5/5; 4/10] START decisiontreeclassifier__criterion=entropy, decisiontreeclassifier__max_depth=27, decisiontreeclassifier__min_samples_leaf=2, decisiontreeclassifier__min_samples_split=50\n",
      "[CV 5/5; 4/10] END decisiontreeclassifier__criterion=entropy, decisiontreeclassifier__max_depth=27, decisiontreeclassifier__min_samples_leaf=2, decisiontreeclassifier__min_samples_split=50;, score=(train=0.472, test=0.333) total time=   0.0s\n",
      "[CV 1/5; 5/10] START decisiontreeclassifier__criterion=entropy, decisiontreeclassifier__max_depth=7, decisiontreeclassifier__min_samples_leaf=4, decisiontreeclassifier__min_samples_split=10\n",
      "[CV 1/5; 5/10] END decisiontreeclassifier__criterion=entropy, decisiontreeclassifier__max_depth=7, decisiontreeclassifier__min_samples_leaf=4, decisiontreeclassifier__min_samples_split=10;, score=(train=0.663, test=0.524) total time=   0.0s\n",
      "[CV 2/5; 5/10] START decisiontreeclassifier__criterion=entropy, decisiontreeclassifier__max_depth=7, decisiontreeclassifier__min_samples_leaf=4, decisiontreeclassifier__min_samples_split=10\n",
      "[CV 2/5; 5/10] END decisiontreeclassifier__criterion=entropy, decisiontreeclassifier__max_depth=7, decisiontreeclassifier__min_samples_leaf=4, decisiontreeclassifier__min_samples_split=10;, score=(train=0.623, test=0.556) total time=   0.0s\n",
      "[CV 3/5; 5/10] START decisiontreeclassifier__criterion=entropy, decisiontreeclassifier__max_depth=7, decisiontreeclassifier__min_samples_leaf=4, decisiontreeclassifier__min_samples_split=10\n",
      "[CV 3/5; 5/10] END decisiontreeclassifier__criterion=entropy, decisiontreeclassifier__max_depth=7, decisiontreeclassifier__min_samples_leaf=4, decisiontreeclassifier__min_samples_split=10;, score=(train=0.695, test=0.509) total time=   0.0s\n",
      "[CV 4/5; 5/10] START decisiontreeclassifier__criterion=entropy, decisiontreeclassifier__max_depth=7, decisiontreeclassifier__min_samples_leaf=4, decisiontreeclassifier__min_samples_split=10\n",
      "[CV 4/5; 5/10] END decisiontreeclassifier__criterion=entropy, decisiontreeclassifier__max_depth=7, decisiontreeclassifier__min_samples_leaf=4, decisiontreeclassifier__min_samples_split=10;, score=(train=0.800, test=0.612) total time=   0.0s\n",
      "[CV 5/5; 5/10] START decisiontreeclassifier__criterion=entropy, decisiontreeclassifier__max_depth=7, decisiontreeclassifier__min_samples_leaf=4, decisiontreeclassifier__min_samples_split=10\n",
      "[CV 5/5; 5/10] END decisiontreeclassifier__criterion=entropy, decisiontreeclassifier__max_depth=7, decisiontreeclassifier__min_samples_leaf=4, decisiontreeclassifier__min_samples_split=10;, score=(train=0.653, test=0.529) total time=   0.0s\n",
      "[CV 1/5; 6/10] START decisiontreeclassifier__criterion=entropy, decisiontreeclassifier__max_depth=22, decisiontreeclassifier__min_samples_leaf=4, decisiontreeclassifier__min_samples_split=50\n",
      "[CV 1/5; 6/10] END decisiontreeclassifier__criterion=entropy, decisiontreeclassifier__max_depth=22, decisiontreeclassifier__min_samples_leaf=4, decisiontreeclassifier__min_samples_split=50;, score=(train=0.609, test=0.548) total time=   0.0s\n",
      "[CV 2/5; 6/10] START decisiontreeclassifier__criterion=entropy, decisiontreeclassifier__max_depth=22, decisiontreeclassifier__min_samples_leaf=4, decisiontreeclassifier__min_samples_split=50\n",
      "[CV 2/5; 6/10] END decisiontreeclassifier__criterion=entropy, decisiontreeclassifier__max_depth=22, decisiontreeclassifier__min_samples_leaf=4, decisiontreeclassifier__min_samples_split=50;, score=(train=0.588, test=0.378) total time=   0.0s\n",
      "[CV 3/5; 6/10] START decisiontreeclassifier__criterion=entropy, decisiontreeclassifier__max_depth=22, decisiontreeclassifier__min_samples_leaf=4, decisiontreeclassifier__min_samples_split=50\n",
      "[CV 3/5; 6/10] END decisiontreeclassifier__criterion=entropy, decisiontreeclassifier__max_depth=22, decisiontreeclassifier__min_samples_leaf=4, decisiontreeclassifier__min_samples_split=50;, score=(train=0.508, test=0.298) total time=   0.0s\n",
      "[CV 4/5; 6/10] START decisiontreeclassifier__criterion=entropy, decisiontreeclassifier__max_depth=22, decisiontreeclassifier__min_samples_leaf=4, decisiontreeclassifier__min_samples_split=50\n",
      "[CV 4/5; 6/10] END decisiontreeclassifier__criterion=entropy, decisiontreeclassifier__max_depth=22, decisiontreeclassifier__min_samples_leaf=4, decisiontreeclassifier__min_samples_split=50;, score=(train=0.574, test=0.367) total time=   0.0s\n",
      "[CV 5/5; 6/10] START decisiontreeclassifier__criterion=entropy, decisiontreeclassifier__max_depth=22, decisiontreeclassifier__min_samples_leaf=4, decisiontreeclassifier__min_samples_split=50\n",
      "[CV 5/5; 6/10] END decisiontreeclassifier__criterion=entropy, decisiontreeclassifier__max_depth=22, decisiontreeclassifier__min_samples_leaf=4, decisiontreeclassifier__min_samples_split=50;, score=(train=0.472, test=0.333) total time=   0.0s\n",
      "[CV 1/5; 7/10] START decisiontreeclassifier__criterion=entropy, decisiontreeclassifier__max_depth=12, decisiontreeclassifier__min_samples_leaf=2, decisiontreeclassifier__min_samples_split=10\n",
      "[CV 1/5; 7/10] END decisiontreeclassifier__criterion=entropy, decisiontreeclassifier__max_depth=12, decisiontreeclassifier__min_samples_leaf=2, decisiontreeclassifier__min_samples_split=10;, score=(train=0.743, test=0.381) total time=   0.0s\n",
      "[CV 2/5; 7/10] START decisiontreeclassifier__criterion=entropy, decisiontreeclassifier__max_depth=12, decisiontreeclassifier__min_samples_leaf=2, decisiontreeclassifier__min_samples_split=10\n",
      "[CV 2/5; 7/10] END decisiontreeclassifier__criterion=entropy, decisiontreeclassifier__max_depth=12, decisiontreeclassifier__min_samples_leaf=2, decisiontreeclassifier__min_samples_split=10;, score=(train=0.698, test=0.333) total time=   0.0s\n",
      "[CV 3/5; 7/10] START decisiontreeclassifier__criterion=entropy, decisiontreeclassifier__max_depth=12, decisiontreeclassifier__min_samples_leaf=2, decisiontreeclassifier__min_samples_split=10\n",
      "[CV 3/5; 7/10] END decisiontreeclassifier__criterion=entropy, decisiontreeclassifier__max_depth=12, decisiontreeclassifier__min_samples_leaf=2, decisiontreeclassifier__min_samples_split=10;, score=(train=0.615, test=0.404) total time=   0.0s\n",
      "[CV 4/5; 7/10] START decisiontreeclassifier__criterion=entropy, decisiontreeclassifier__max_depth=12, decisiontreeclassifier__min_samples_leaf=2, decisiontreeclassifier__min_samples_split=10\n",
      "[CV 4/5; 7/10] END decisiontreeclassifier__criterion=entropy, decisiontreeclassifier__max_depth=12, decisiontreeclassifier__min_samples_leaf=2, decisiontreeclassifier__min_samples_split=10;, score=(train=0.769, test=0.347) total time=   0.0s\n",
      "[CV 5/5; 7/10] START decisiontreeclassifier__criterion=entropy, decisiontreeclassifier__max_depth=12, decisiontreeclassifier__min_samples_leaf=2, decisiontreeclassifier__min_samples_split=10\n",
      "[CV 5/5; 7/10] END decisiontreeclassifier__criterion=entropy, decisiontreeclassifier__max_depth=12, decisiontreeclassifier__min_samples_leaf=2, decisiontreeclassifier__min_samples_split=10;, score=(train=0.855, test=0.490) total time=   0.0s\n",
      "[CV 1/5; 8/10] START decisiontreeclassifier__criterion=gini, decisiontreeclassifier__max_depth=42, decisiontreeclassifier__min_samples_leaf=2, decisiontreeclassifier__min_samples_split=10\n",
      "[CV 1/5; 8/10] END decisiontreeclassifier__criterion=gini, decisiontreeclassifier__max_depth=42, decisiontreeclassifier__min_samples_leaf=2, decisiontreeclassifier__min_samples_split=10;, score=(train=0.782, test=0.405) total time=   0.0s\n",
      "[CV 2/5; 8/10] START decisiontreeclassifier__criterion=gini, decisiontreeclassifier__max_depth=42, decisiontreeclassifier__min_samples_leaf=2, decisiontreeclassifier__min_samples_split=10\n",
      "[CV 2/5; 8/10] END decisiontreeclassifier__criterion=gini, decisiontreeclassifier__max_depth=42, decisiontreeclassifier__min_samples_leaf=2, decisiontreeclassifier__min_samples_split=10;, score=(train=0.819, test=0.333) total time=   0.0s\n",
      "[CV 3/5; 8/10] START decisiontreeclassifier__criterion=gini, decisiontreeclassifier__max_depth=42, decisiontreeclassifier__min_samples_leaf=2, decisiontreeclassifier__min_samples_split=10\n",
      "[CV 3/5; 8/10] END decisiontreeclassifier__criterion=gini, decisiontreeclassifier__max_depth=42, decisiontreeclassifier__min_samples_leaf=2, decisiontreeclassifier__min_samples_split=10;, score=(train=0.717, test=0.281) total time=   0.0s\n",
      "[CV 4/5; 8/10] START decisiontreeclassifier__criterion=gini, decisiontreeclassifier__max_depth=42, decisiontreeclassifier__min_samples_leaf=2, decisiontreeclassifier__min_samples_split=10\n",
      "[CV 4/5; 8/10] END decisiontreeclassifier__criterion=gini, decisiontreeclassifier__max_depth=42, decisiontreeclassifier__min_samples_leaf=2, decisiontreeclassifier__min_samples_split=10;, score=(train=0.723, test=0.367) total time=   0.0s\n",
      "[CV 5/5; 8/10] START decisiontreeclassifier__criterion=gini, decisiontreeclassifier__max_depth=42, decisiontreeclassifier__min_samples_leaf=2, decisiontreeclassifier__min_samples_split=10\n",
      "[CV 5/5; 8/10] END decisiontreeclassifier__criterion=gini, decisiontreeclassifier__max_depth=42, decisiontreeclassifier__min_samples_leaf=2, decisiontreeclassifier__min_samples_split=10;, score=(train=0.715, test=0.333) total time=   0.0s\n",
      "[CV 1/5; 9/10] START decisiontreeclassifier__criterion=gini, decisiontreeclassifier__max_depth=12, decisiontreeclassifier__min_samples_leaf=4, decisiontreeclassifier__min_samples_split=50\n",
      "[CV 1/5; 9/10] END decisiontreeclassifier__criterion=gini, decisiontreeclassifier__max_depth=12, decisiontreeclassifier__min_samples_leaf=4, decisiontreeclassifier__min_samples_split=50;, score=(train=0.460, test=0.405) total time=   0.0s\n",
      "[CV 2/5; 9/10] START decisiontreeclassifier__criterion=gini, decisiontreeclassifier__max_depth=12, decisiontreeclassifier__min_samples_leaf=4, decisiontreeclassifier__min_samples_split=50\n",
      "[CV 2/5; 9/10] END decisiontreeclassifier__criterion=gini, decisiontreeclassifier__max_depth=12, decisiontreeclassifier__min_samples_leaf=4, decisiontreeclassifier__min_samples_split=50;, score=(train=0.543, test=0.333) total time=   0.0s\n",
      "[CV 3/5; 9/10] START decisiontreeclassifier__criterion=gini, decisiontreeclassifier__max_depth=12, decisiontreeclassifier__min_samples_leaf=4, decisiontreeclassifier__min_samples_split=50\n",
      "[CV 3/5; 9/10] END decisiontreeclassifier__criterion=gini, decisiontreeclassifier__max_depth=12, decisiontreeclassifier__min_samples_leaf=4, decisiontreeclassifier__min_samples_split=50;, score=(train=0.524, test=0.246) total time=   0.0s\n",
      "[CV 4/5; 9/10] START decisiontreeclassifier__criterion=gini, decisiontreeclassifier__max_depth=12, decisiontreeclassifier__min_samples_leaf=4, decisiontreeclassifier__min_samples_split=50\n",
      "[CV 4/5; 9/10] END decisiontreeclassifier__criterion=gini, decisiontreeclassifier__max_depth=12, decisiontreeclassifier__min_samples_leaf=4, decisiontreeclassifier__min_samples_split=50;, score=(train=0.559, test=0.388) total time=   0.0s\n",
      "[CV 5/5; 9/10] START decisiontreeclassifier__criterion=gini, decisiontreeclassifier__max_depth=12, decisiontreeclassifier__min_samples_leaf=4, decisiontreeclassifier__min_samples_split=50\n",
      "[CV 5/5; 9/10] END decisiontreeclassifier__criterion=gini, decisiontreeclassifier__max_depth=12, decisiontreeclassifier__min_samples_leaf=4, decisiontreeclassifier__min_samples_split=50;, score=(train=0.565, test=0.431) total time=   0.0s\n",
      "[CV 1/5; 10/10] START decisiontreeclassifier__criterion=gini, decisiontreeclassifier__max_depth=7, decisiontreeclassifier__min_samples_leaf=8, decisiontreeclassifier__min_samples_split=10\n",
      "[CV 1/5; 10/10] END decisiontreeclassifier__criterion=gini, decisiontreeclassifier__max_depth=7, decisiontreeclassifier__min_samples_leaf=8, decisiontreeclassifier__min_samples_split=10;, score=(train=0.589, test=0.429) total time=   0.0s\n",
      "[CV 2/5; 10/10] START decisiontreeclassifier__criterion=gini, decisiontreeclassifier__max_depth=7, decisiontreeclassifier__min_samples_leaf=8, decisiontreeclassifier__min_samples_split=10\n",
      "[CV 2/5; 10/10] END decisiontreeclassifier__criterion=gini, decisiontreeclassifier__max_depth=7, decisiontreeclassifier__min_samples_leaf=8, decisiontreeclassifier__min_samples_split=10;, score=(train=0.709, test=0.533) total time=   0.0s\n",
      "[CV 3/5; 10/10] START decisiontreeclassifier__criterion=gini, decisiontreeclassifier__max_depth=7, decisiontreeclassifier__min_samples_leaf=8, decisiontreeclassifier__min_samples_split=10\n",
      "[CV 3/5; 10/10] END decisiontreeclassifier__criterion=gini, decisiontreeclassifier__max_depth=7, decisiontreeclassifier__min_samples_leaf=8, decisiontreeclassifier__min_samples_split=10;, score=(train=0.706, test=0.456) total time=   0.0s\n",
      "[CV 4/5; 10/10] START decisiontreeclassifier__criterion=gini, decisiontreeclassifier__max_depth=7, decisiontreeclassifier__min_samples_leaf=8, decisiontreeclassifier__min_samples_split=10\n",
      "[CV 4/5; 10/10] END decisiontreeclassifier__criterion=gini, decisiontreeclassifier__max_depth=7, decisiontreeclassifier__min_samples_leaf=8, decisiontreeclassifier__min_samples_split=10;, score=(train=0.595, test=0.388) total time=   0.0s\n",
      "[CV 5/5; 10/10] START decisiontreeclassifier__criterion=gini, decisiontreeclassifier__max_depth=7, decisiontreeclassifier__min_samples_leaf=8, decisiontreeclassifier__min_samples_split=10\n",
      "[CV 5/5; 10/10] END decisiontreeclassifier__criterion=gini, decisiontreeclassifier__max_depth=7, decisiontreeclassifier__min_samples_leaf=8, decisiontreeclassifier__min_samples_split=10;, score=(train=0.565, test=0.451) total time=   0.0s\n"
     ]
    },
    {
     "data": {
      "text/html": [
       "<style>#sk-container-id-11 {color: black;background-color: white;}#sk-container-id-11 pre{padding: 0;}#sk-container-id-11 div.sk-toggleable {background-color: white;}#sk-container-id-11 label.sk-toggleable__label {cursor: pointer;display: block;width: 100%;margin-bottom: 0;padding: 0.3em;box-sizing: border-box;text-align: center;}#sk-container-id-11 label.sk-toggleable__label-arrow:before {content: \"▸\";float: left;margin-right: 0.25em;color: #696969;}#sk-container-id-11 label.sk-toggleable__label-arrow:hover:before {color: black;}#sk-container-id-11 div.sk-estimator:hover label.sk-toggleable__label-arrow:before {color: black;}#sk-container-id-11 div.sk-toggleable__content {max-height: 0;max-width: 0;overflow: hidden;text-align: left;background-color: #f0f8ff;}#sk-container-id-11 div.sk-toggleable__content pre {margin: 0.2em;color: black;border-radius: 0.25em;background-color: #f0f8ff;}#sk-container-id-11 input.sk-toggleable__control:checked~div.sk-toggleable__content {max-height: 200px;max-width: 100%;overflow: auto;}#sk-container-id-11 input.sk-toggleable__control:checked~label.sk-toggleable__label-arrow:before {content: \"▾\";}#sk-container-id-11 div.sk-estimator input.sk-toggleable__control:checked~label.sk-toggleable__label {background-color: #d4ebff;}#sk-container-id-11 div.sk-label input.sk-toggleable__control:checked~label.sk-toggleable__label {background-color: #d4ebff;}#sk-container-id-11 input.sk-hidden--visually {border: 0;clip: rect(1px 1px 1px 1px);clip: rect(1px, 1px, 1px, 1px);height: 1px;margin: -1px;overflow: hidden;padding: 0;position: absolute;width: 1px;}#sk-container-id-11 div.sk-estimator {font-family: monospace;background-color: #f0f8ff;border: 1px dotted black;border-radius: 0.25em;box-sizing: border-box;margin-bottom: 0.5em;}#sk-container-id-11 div.sk-estimator:hover {background-color: #d4ebff;}#sk-container-id-11 div.sk-parallel-item::after {content: \"\";width: 100%;border-bottom: 1px solid gray;flex-grow: 1;}#sk-container-id-11 div.sk-label:hover label.sk-toggleable__label {background-color: #d4ebff;}#sk-container-id-11 div.sk-serial::before {content: \"\";position: absolute;border-left: 1px solid gray;box-sizing: border-box;top: 0;bottom: 0;left: 50%;z-index: 0;}#sk-container-id-11 div.sk-serial {display: flex;flex-direction: column;align-items: center;background-color: white;padding-right: 0.2em;padding-left: 0.2em;position: relative;}#sk-container-id-11 div.sk-item {position: relative;z-index: 1;}#sk-container-id-11 div.sk-parallel {display: flex;align-items: stretch;justify-content: center;background-color: white;position: relative;}#sk-container-id-11 div.sk-item::before, #sk-container-id-11 div.sk-parallel-item::before {content: \"\";position: absolute;border-left: 1px solid gray;box-sizing: border-box;top: 0;bottom: 0;left: 50%;z-index: -1;}#sk-container-id-11 div.sk-parallel-item {display: flex;flex-direction: column;z-index: 1;position: relative;background-color: white;}#sk-container-id-11 div.sk-parallel-item:first-child::after {align-self: flex-end;width: 50%;}#sk-container-id-11 div.sk-parallel-item:last-child::after {align-self: flex-start;width: 50%;}#sk-container-id-11 div.sk-parallel-item:only-child::after {width: 0;}#sk-container-id-11 div.sk-dashed-wrapped {border: 1px dashed gray;margin: 0 0.4em 0.5em 0.4em;box-sizing: border-box;padding-bottom: 0.4em;background-color: white;}#sk-container-id-11 div.sk-label label {font-family: monospace;font-weight: bold;display: inline-block;line-height: 1.2em;}#sk-container-id-11 div.sk-label-container {text-align: center;}#sk-container-id-11 div.sk-container {/* jupyter's `normalize.less` sets `[hidden] { display: none; }` but bootstrap.min.css set `[hidden] { display: none !important; }` so we also need the `!important` here to be able to override the default hidden behavior on the sphinx rendered scikit-learn.org. See: https://github.com/scikit-learn/scikit-learn/issues/21755 */display: inline-block !important;position: relative;}#sk-container-id-11 div.sk-text-repr-fallback {display: none;}</style><div id=\"sk-container-id-11\" class=\"sk-top-container\"><div class=\"sk-text-repr-fallback\"><pre>RandomizedSearchCV(cv=KFold(n_splits=5, random_state=None, shuffle=False),\n",
       "                   estimator=Pipeline(steps=[(&#x27;smote&#x27;, SMOTE(random_state=42)),\n",
       "                                             (&#x27;decisiontreeclassifier&#x27;,\n",
       "                                              DecisionTreeClassifier(random_state=10))]),\n",
       "                   param_distributions={&#x27;decisiontreeclassifier__criterion&#x27;: [&#x27;gini&#x27;,\n",
       "                                                                              &#x27;entropy&#x27;],\n",
       "                                        &#x27;decisiontreeclassifier__max_depth&#x27;: range(2, 50, 5),\n",
       "                                        &#x27;decisiontreeclassifier__min_samples_leaf&#x27;: [2,\n",
       "                                                                                     4,\n",
       "                                                                                     8],\n",
       "                                        &#x27;decisiontreeclassifier__min_samples_split&#x27;: [10,\n",
       "                                                                                      20,\n",
       "                                                                                      50]},\n",
       "                   return_train_score=True, scoring=&#x27;recall&#x27;, verbose=10)</pre><b>In a Jupyter environment, please rerun this cell to show the HTML representation or trust the notebook. <br />On GitHub, the HTML representation is unable to render, please try loading this page with nbviewer.org.</b></div><div class=\"sk-container\" hidden><div class=\"sk-item sk-dashed-wrapped\"><div class=\"sk-label-container\"><div class=\"sk-label sk-toggleable\"><input class=\"sk-toggleable__control sk-hidden--visually\" id=\"sk-estimator-id-33\" type=\"checkbox\" ><label for=\"sk-estimator-id-33\" class=\"sk-toggleable__label sk-toggleable__label-arrow\">RandomizedSearchCV</label><div class=\"sk-toggleable__content\"><pre>RandomizedSearchCV(cv=KFold(n_splits=5, random_state=None, shuffle=False),\n",
       "                   estimator=Pipeline(steps=[(&#x27;smote&#x27;, SMOTE(random_state=42)),\n",
       "                                             (&#x27;decisiontreeclassifier&#x27;,\n",
       "                                              DecisionTreeClassifier(random_state=10))]),\n",
       "                   param_distributions={&#x27;decisiontreeclassifier__criterion&#x27;: [&#x27;gini&#x27;,\n",
       "                                                                              &#x27;entropy&#x27;],\n",
       "                                        &#x27;decisiontreeclassifier__max_depth&#x27;: range(2, 50, 5),\n",
       "                                        &#x27;decisiontreeclassifier__min_samples_leaf&#x27;: [2,\n",
       "                                                                                     4,\n",
       "                                                                                     8],\n",
       "                                        &#x27;decisiontreeclassifier__min_samples_split&#x27;: [10,\n",
       "                                                                                      20,\n",
       "                                                                                      50]},\n",
       "                   return_train_score=True, scoring=&#x27;recall&#x27;, verbose=10)</pre></div></div></div><div class=\"sk-parallel\"><div class=\"sk-parallel-item\"><div class=\"sk-item\"><div class=\"sk-label-container\"><div class=\"sk-label sk-toggleable\"><input class=\"sk-toggleable__control sk-hidden--visually\" id=\"sk-estimator-id-34\" type=\"checkbox\" ><label for=\"sk-estimator-id-34\" class=\"sk-toggleable__label sk-toggleable__label-arrow\">estimator: Pipeline</label><div class=\"sk-toggleable__content\"><pre>Pipeline(steps=[(&#x27;smote&#x27;, SMOTE(random_state=42)),\n",
       "                (&#x27;decisiontreeclassifier&#x27;,\n",
       "                 DecisionTreeClassifier(random_state=10))])</pre></div></div></div><div class=\"sk-serial\"><div class=\"sk-item\"><div class=\"sk-serial\"><div class=\"sk-item\"><div class=\"sk-estimator sk-toggleable\"><input class=\"sk-toggleable__control sk-hidden--visually\" id=\"sk-estimator-id-35\" type=\"checkbox\" ><label for=\"sk-estimator-id-35\" class=\"sk-toggleable__label sk-toggleable__label-arrow\">SMOTE</label><div class=\"sk-toggleable__content\"><pre>SMOTE(random_state=42)</pre></div></div></div><div class=\"sk-item\"><div class=\"sk-estimator sk-toggleable\"><input class=\"sk-toggleable__control sk-hidden--visually\" id=\"sk-estimator-id-36\" type=\"checkbox\" ><label for=\"sk-estimator-id-36\" class=\"sk-toggleable__label sk-toggleable__label-arrow\">DecisionTreeClassifier</label><div class=\"sk-toggleable__content\"><pre>DecisionTreeClassifier(random_state=10)</pre></div></div></div></div></div></div></div></div></div></div></div></div>"
      ],
      "text/plain": [
       "RandomizedSearchCV(cv=KFold(n_splits=5, random_state=None, shuffle=False),\n",
       "                   estimator=Pipeline(steps=[('smote', SMOTE(random_state=42)),\n",
       "                                             ('decisiontreeclassifier',\n",
       "                                              DecisionTreeClassifier(random_state=10))]),\n",
       "                   param_distributions={'decisiontreeclassifier__criterion': ['gini',\n",
       "                                                                              'entropy'],\n",
       "                                        'decisiontreeclassifier__max_depth': range(2, 50, 5),\n",
       "                                        'decisiontreeclassifier__min_samples_leaf': [2,\n",
       "                                                                                     4,\n",
       "                                                                                     8],\n",
       "                                        'decisiontreeclassifier__min_samples_split': [10,\n",
       "                                                                                      20,\n",
       "                                                                                      50]},\n",
       "                   return_train_score=True, scoring='recall', verbose=10)"
      ]
     },
     "execution_count": 128,
     "metadata": {},
     "output_type": "execute_result"
    }
   ],
   "source": [
    "#As the data is moderately imbalanced we are using SMOTE for minority oversampling technique\n",
    "\n",
    "\n",
    "DT_pipeline = make_pipeline(SMOTE(random_state=42), \n",
    "                              DecisionTreeClassifier(random_state=10))\n",
    "\n",
    "clf = RandomizedSearchCV(DT_pipeline, param_distributions=params, cv = kf,\n",
    "                         scoring='recall', return_train_score = True, verbose = 10)\n",
    "\n",
    "clf.fit(X_train, y_train)"
   ]
  },
  {
   "cell_type": "code",
   "execution_count": 129,
   "id": "5c883d13",
   "metadata": {
    "scrolled": true
   },
   "outputs": [
    {
     "data": {
      "text/plain": [
       "{'decisiontreeclassifier__min_samples_split': 10,\n",
       " 'decisiontreeclassifier__min_samples_leaf': 4,\n",
       " 'decisiontreeclassifier__max_depth': 7,\n",
       " 'decisiontreeclassifier__criterion': 'entropy'}"
      ]
     },
     "execution_count": 129,
     "metadata": {},
     "output_type": "execute_result"
    }
   ],
   "source": [
    "clf.best_params_"
   ]
  },
  {
   "cell_type": "code",
   "execution_count": 130,
   "id": "83b6a7ba",
   "metadata": {},
   "outputs": [],
   "source": [
    "DT_model = make_pipeline(SMOTE(random_state=42), \n",
    "                              DecisionTreeClassifier(min_samples_split= 10,\n",
    "                                                     min_samples_leaf= 4,\n",
    "                                                     max_depth= 7,\n",
    "                                                     criterion= 'entropy',\n",
    "                                                     random_state=10))"
   ]
  },
  {
   "cell_type": "code",
   "execution_count": 131,
   "id": "88fce647",
   "metadata": {},
   "outputs": [
    {
     "data": {
      "text/html": [
       "<style>#sk-container-id-12 {color: black;background-color: white;}#sk-container-id-12 pre{padding: 0;}#sk-container-id-12 div.sk-toggleable {background-color: white;}#sk-container-id-12 label.sk-toggleable__label {cursor: pointer;display: block;width: 100%;margin-bottom: 0;padding: 0.3em;box-sizing: border-box;text-align: center;}#sk-container-id-12 label.sk-toggleable__label-arrow:before {content: \"▸\";float: left;margin-right: 0.25em;color: #696969;}#sk-container-id-12 label.sk-toggleable__label-arrow:hover:before {color: black;}#sk-container-id-12 div.sk-estimator:hover label.sk-toggleable__label-arrow:before {color: black;}#sk-container-id-12 div.sk-toggleable__content {max-height: 0;max-width: 0;overflow: hidden;text-align: left;background-color: #f0f8ff;}#sk-container-id-12 div.sk-toggleable__content pre {margin: 0.2em;color: black;border-radius: 0.25em;background-color: #f0f8ff;}#sk-container-id-12 input.sk-toggleable__control:checked~div.sk-toggleable__content {max-height: 200px;max-width: 100%;overflow: auto;}#sk-container-id-12 input.sk-toggleable__control:checked~label.sk-toggleable__label-arrow:before {content: \"▾\";}#sk-container-id-12 div.sk-estimator input.sk-toggleable__control:checked~label.sk-toggleable__label {background-color: #d4ebff;}#sk-container-id-12 div.sk-label input.sk-toggleable__control:checked~label.sk-toggleable__label {background-color: #d4ebff;}#sk-container-id-12 input.sk-hidden--visually {border: 0;clip: rect(1px 1px 1px 1px);clip: rect(1px, 1px, 1px, 1px);height: 1px;margin: -1px;overflow: hidden;padding: 0;position: absolute;width: 1px;}#sk-container-id-12 div.sk-estimator {font-family: monospace;background-color: #f0f8ff;border: 1px dotted black;border-radius: 0.25em;box-sizing: border-box;margin-bottom: 0.5em;}#sk-container-id-12 div.sk-estimator:hover {background-color: #d4ebff;}#sk-container-id-12 div.sk-parallel-item::after {content: \"\";width: 100%;border-bottom: 1px solid gray;flex-grow: 1;}#sk-container-id-12 div.sk-label:hover label.sk-toggleable__label {background-color: #d4ebff;}#sk-container-id-12 div.sk-serial::before {content: \"\";position: absolute;border-left: 1px solid gray;box-sizing: border-box;top: 0;bottom: 0;left: 50%;z-index: 0;}#sk-container-id-12 div.sk-serial {display: flex;flex-direction: column;align-items: center;background-color: white;padding-right: 0.2em;padding-left: 0.2em;position: relative;}#sk-container-id-12 div.sk-item {position: relative;z-index: 1;}#sk-container-id-12 div.sk-parallel {display: flex;align-items: stretch;justify-content: center;background-color: white;position: relative;}#sk-container-id-12 div.sk-item::before, #sk-container-id-12 div.sk-parallel-item::before {content: \"\";position: absolute;border-left: 1px solid gray;box-sizing: border-box;top: 0;bottom: 0;left: 50%;z-index: -1;}#sk-container-id-12 div.sk-parallel-item {display: flex;flex-direction: column;z-index: 1;position: relative;background-color: white;}#sk-container-id-12 div.sk-parallel-item:first-child::after {align-self: flex-end;width: 50%;}#sk-container-id-12 div.sk-parallel-item:last-child::after {align-self: flex-start;width: 50%;}#sk-container-id-12 div.sk-parallel-item:only-child::after {width: 0;}#sk-container-id-12 div.sk-dashed-wrapped {border: 1px dashed gray;margin: 0 0.4em 0.5em 0.4em;box-sizing: border-box;padding-bottom: 0.4em;background-color: white;}#sk-container-id-12 div.sk-label label {font-family: monospace;font-weight: bold;display: inline-block;line-height: 1.2em;}#sk-container-id-12 div.sk-label-container {text-align: center;}#sk-container-id-12 div.sk-container {/* jupyter's `normalize.less` sets `[hidden] { display: none; }` but bootstrap.min.css set `[hidden] { display: none !important; }` so we also need the `!important` here to be able to override the default hidden behavior on the sphinx rendered scikit-learn.org. See: https://github.com/scikit-learn/scikit-learn/issues/21755 */display: inline-block !important;position: relative;}#sk-container-id-12 div.sk-text-repr-fallback {display: none;}</style><div id=\"sk-container-id-12\" class=\"sk-top-container\"><div class=\"sk-text-repr-fallback\"><pre>Pipeline(steps=[(&#x27;smote&#x27;, SMOTE(random_state=42)),\n",
       "                (&#x27;decisiontreeclassifier&#x27;,\n",
       "                 DecisionTreeClassifier(criterion=&#x27;entropy&#x27;, max_depth=7,\n",
       "                                        min_samples_leaf=4,\n",
       "                                        min_samples_split=10,\n",
       "                                        random_state=10))])</pre><b>In a Jupyter environment, please rerun this cell to show the HTML representation or trust the notebook. <br />On GitHub, the HTML representation is unable to render, please try loading this page with nbviewer.org.</b></div><div class=\"sk-container\" hidden><div class=\"sk-item sk-dashed-wrapped\"><div class=\"sk-label-container\"><div class=\"sk-label sk-toggleable\"><input class=\"sk-toggleable__control sk-hidden--visually\" id=\"sk-estimator-id-37\" type=\"checkbox\" ><label for=\"sk-estimator-id-37\" class=\"sk-toggleable__label sk-toggleable__label-arrow\">Pipeline</label><div class=\"sk-toggleable__content\"><pre>Pipeline(steps=[(&#x27;smote&#x27;, SMOTE(random_state=42)),\n",
       "                (&#x27;decisiontreeclassifier&#x27;,\n",
       "                 DecisionTreeClassifier(criterion=&#x27;entropy&#x27;, max_depth=7,\n",
       "                                        min_samples_leaf=4,\n",
       "                                        min_samples_split=10,\n",
       "                                        random_state=10))])</pre></div></div></div><div class=\"sk-serial\"><div class=\"sk-item\"><div class=\"sk-estimator sk-toggleable\"><input class=\"sk-toggleable__control sk-hidden--visually\" id=\"sk-estimator-id-38\" type=\"checkbox\" ><label for=\"sk-estimator-id-38\" class=\"sk-toggleable__label sk-toggleable__label-arrow\">SMOTE</label><div class=\"sk-toggleable__content\"><pre>SMOTE(random_state=42)</pre></div></div></div><div class=\"sk-item\"><div class=\"sk-estimator sk-toggleable\"><input class=\"sk-toggleable__control sk-hidden--visually\" id=\"sk-estimator-id-39\" type=\"checkbox\" ><label for=\"sk-estimator-id-39\" class=\"sk-toggleable__label sk-toggleable__label-arrow\">DecisionTreeClassifier</label><div class=\"sk-toggleable__content\"><pre>DecisionTreeClassifier(criterion=&#x27;entropy&#x27;, max_depth=7, min_samples_leaf=4,\n",
       "                       min_samples_split=10, random_state=10)</pre></div></div></div></div></div></div></div>"
      ],
      "text/plain": [
       "Pipeline(steps=[('smote', SMOTE(random_state=42)),\n",
       "                ('decisiontreeclassifier',\n",
       "                 DecisionTreeClassifier(criterion='entropy', max_depth=7,\n",
       "                                        min_samples_leaf=4,\n",
       "                                        min_samples_split=10,\n",
       "                                        random_state=10))])"
      ]
     },
     "execution_count": 131,
     "metadata": {},
     "output_type": "execute_result"
    }
   ],
   "source": [
    "DT_model.fit(X_train, y_train)"
   ]
  },
  {
   "cell_type": "code",
   "execution_count": 132,
   "id": "83a86e06",
   "metadata": {},
   "outputs": [],
   "source": [
    "y_pred=DT_model.predict(X_test)"
   ]
  },
  {
   "cell_type": "markdown",
   "id": "ac091c1a",
   "metadata": {},
   "source": [
    "#### DT Model Evaluation"
   ]
  },
  {
   "cell_type": "code",
   "execution_count": 133,
   "id": "bc3dd332",
   "metadata": {},
   "outputs": [
    {
     "data": {
      "text/plain": [
       "array([[119,  25],\n",
       "       [ 40,  16]])"
      ]
     },
     "execution_count": 133,
     "metadata": {},
     "output_type": "execute_result"
    }
   ],
   "source": [
    "confusion_matrix(y_test, y_pred)"
   ]
  },
  {
   "cell_type": "code",
   "execution_count": 134,
   "id": "e205f17f",
   "metadata": {},
   "outputs": [
    {
     "data": {
      "text/plain": [
       "<AxesSubplot:>"
      ]
     },
     "execution_count": 134,
     "metadata": {},
     "output_type": "execute_result"
    },
    {
     "data": {
      "image/png": "[encoded data removed]",
      "text/plain": [
       "<Figure size 432x288 with 2 Axes>"
      ]
     },
     "metadata": {
      "needs_background": "light"
     },
     "output_type": "display_data"
    }
   ],
   "source": [
    "cf = confusion_matrix(y_test, y_pred)\n",
    "sns.heatmap(cf/np.sum(cf), annot=True, \n",
    "            fmt='.2%', cmap='Blues')"
   ]
  },
  {
   "cell_type": "code",
   "execution_count": 135,
   "id": "fb4401b2",
   "metadata": {},
   "outputs": [
    {
     "name": "stdout",
     "output_type": "stream",
     "text": [
      "              precision    recall  f1-score   support\n",
      "\n",
      "           0       0.75      0.83      0.79       144\n",
      "           1       0.39      0.29      0.33        56\n",
      "\n",
      "    accuracy                           0.68       200\n",
      "   macro avg       0.57      0.56      0.56       200\n",
      "weighted avg       0.65      0.68      0.66       200\n",
      "\n"
     ]
    }
   ],
   "source": [
    "print(classification_report(y_test, y_pred))"
   ]
  },
  {
   "cell_type": "code",
   "execution_count": 136,
   "id": "eb356020",
   "metadata": {},
   "outputs": [
    {
     "name": "stdout",
     "output_type": "stream",
     "text": [
      "Accuracy score for DT model:  0.675\n"
     ]
    }
   ],
   "source": [
    "print('Accuracy score for DT model: ', accuracy_score (y_test, y_pred))"
   ]
  },
  {
   "cell_type": "markdown",
   "id": "c3153099",
   "metadata": {},
   "source": [
    "## 2. Random Forest with RandomizedSearchCV for hyperparameter tuning"
   ]
  },
  {
   "cell_type": "code",
   "execution_count": 137,
   "id": "d9b69811",
   "metadata": {},
   "outputs": [],
   "source": [
    "# Number of trees in random forest\n",
    "n_estimators = [int(x) for x in np.linspace(start = 200, stop = 2000, num = 10)]\n",
    "# Number of features to consider at every split\n",
    "max_features = ['auto', 'sqrt']\n",
    "# Maximum number of levels in tree\n",
    "max_depth = [int(x) for x in np.linspace(10, 110, num = 11)]\n",
    "max_depth.append(None)\n",
    "# Minimum number of samples required to split a node\n",
    "min_samples_split = [2, 5, 10]\n",
    "# Minimum number of samples required at each leaf node\n",
    "min_samples_leaf = [1, 2, 4]\n",
    "# Method of selecting samples for training each tree\n",
    "bootstrap = [True, False]\n",
    "# Create the random grid\n",
    "random_grid = {'randomforestclassifier__n_estimators': n_estimators,\n",
    "               'randomforestclassifier__max_features': max_features,\n",
    "               'randomforestclassifier__max_depth': max_depth,\n",
    "               'randomforestclassifier__min_samples_split': min_samples_split,\n",
    "               'randomforestclassifier__min_samples_leaf': min_samples_leaf,\n",
    "               'randomforestclassifier__bootstrap': bootstrap}"
   ]
  },
  {
   "cell_type": "code",
   "execution_count": 138,
   "id": "fea0dd1b",
   "metadata": {},
   "outputs": [
    {
     "name": "stdout",
     "output_type": "stream",
     "text": [
      "Fitting 5 folds for each of 10 candidates, totalling 50 fits\n",
      "[CV 1/5; 1/10] START randomforestclassifier__bootstrap=True, randomforestclassifier__max_depth=10, randomforestclassifier__max_features=auto, randomforestclassifier__min_samples_leaf=4, randomforestclassifier__min_samples_split=5, randomforestclassifier__n_estimators=800\n",
      "[CV 1/5; 1/10] END randomforestclassifier__bootstrap=True, randomforestclassifier__max_depth=10, randomforestclassifier__max_features=auto, randomforestclassifier__min_samples_leaf=4, randomforestclassifier__min_samples_split=5, randomforestclassifier__n_estimators=800;, score=(train=0.470, test=0.333) total time=   0.5s\n",
      "[CV 2/5; 1/10] START randomforestclassifier__bootstrap=True, randomforestclassifier__max_depth=10, randomforestclassifier__max_features=auto, randomforestclassifier__min_samples_leaf=4, randomforestclassifier__min_samples_split=5, randomforestclassifier__n_estimators=800\n",
      "[CV 2/5; 1/10] END randomforestclassifier__bootstrap=True, randomforestclassifier__max_depth=10, randomforestclassifier__max_features=auto, randomforestclassifier__min_samples_leaf=4, randomforestclassifier__min_samples_split=5, randomforestclassifier__n_estimators=800;, score=(train=0.392, test=0.333) total time=   0.5s\n",
      "[CV 3/5; 1/10] START randomforestclassifier__bootstrap=True, randomforestclassifier__max_depth=10, randomforestclassifier__max_features=auto, randomforestclassifier__min_samples_leaf=4, randomforestclassifier__min_samples_split=5, randomforestclassifier__n_estimators=800\n",
      "[CV 3/5; 1/10] END randomforestclassifier__bootstrap=True, randomforestclassifier__max_depth=10, randomforestclassifier__max_features=auto, randomforestclassifier__min_samples_leaf=4, randomforestclassifier__min_samples_split=5, randomforestclassifier__n_estimators=800;, score=(train=0.551, test=0.386) total time=   0.5s\n",
      "[CV 4/5; 1/10] START randomforestclassifier__bootstrap=True, randomforestclassifier__max_depth=10, randomforestclassifier__max_features=auto, randomforestclassifier__min_samples_leaf=4, randomforestclassifier__min_samples_split=5, randomforestclassifier__n_estimators=800\n",
      "[CV 4/5; 1/10] END randomforestclassifier__bootstrap=True, randomforestclassifier__max_depth=10, randomforestclassifier__max_features=auto, randomforestclassifier__min_samples_leaf=4, randomforestclassifier__min_samples_split=5, randomforestclassifier__n_estimators=800;, score=(train=0.544, test=0.429) total time=   0.5s\n",
      "[CV 5/5; 1/10] START randomforestclassifier__bootstrap=True, randomforestclassifier__max_depth=10, randomforestclassifier__max_features=auto, randomforestclassifier__min_samples_leaf=4, randomforestclassifier__min_samples_split=5, randomforestclassifier__n_estimators=800\n",
      "[CV 5/5; 1/10] END randomforestclassifier__bootstrap=True, randomforestclassifier__max_depth=10, randomforestclassifier__max_features=auto, randomforestclassifier__min_samples_leaf=4, randomforestclassifier__min_samples_split=5, randomforestclassifier__n_estimators=800;, score=(train=0.399, test=0.392) total time=   0.5s\n",
      "[CV 1/5; 2/10] START randomforestclassifier__bootstrap=True, randomforestclassifier__max_depth=40, randomforestclassifier__max_features=auto, randomforestclassifier__min_samples_leaf=4, randomforestclassifier__min_samples_split=2, randomforestclassifier__n_estimators=2000\n",
      "[CV 1/5; 2/10] END randomforestclassifier__bootstrap=True, randomforestclassifier__max_depth=40, randomforestclassifier__max_features=auto, randomforestclassifier__min_samples_leaf=4, randomforestclassifier__min_samples_split=2, randomforestclassifier__n_estimators=2000;, score=(train=0.470, test=0.333) total time=   1.1s\n",
      "[CV 2/5; 2/10] START randomforestclassifier__bootstrap=True, randomforestclassifier__max_depth=40, randomforestclassifier__max_features=auto, randomforestclassifier__min_samples_leaf=4, randomforestclassifier__min_samples_split=2, randomforestclassifier__n_estimators=2000\n",
      "[CV 2/5; 2/10] END randomforestclassifier__bootstrap=True, randomforestclassifier__max_depth=40, randomforestclassifier__max_features=auto, randomforestclassifier__min_samples_leaf=4, randomforestclassifier__min_samples_split=2, randomforestclassifier__n_estimators=2000;, score=(train=0.387, test=0.333) total time=   1.0s\n",
      "[CV 3/5; 2/10] START randomforestclassifier__bootstrap=True, randomforestclassifier__max_depth=40, randomforestclassifier__max_features=auto, randomforestclassifier__min_samples_leaf=4, randomforestclassifier__min_samples_split=2, randomforestclassifier__n_estimators=2000\n",
      "[CV 3/5; 2/10] END randomforestclassifier__bootstrap=True, randomforestclassifier__max_depth=40, randomforestclassifier__max_features=auto, randomforestclassifier__min_samples_leaf=4, randomforestclassifier__min_samples_split=2, randomforestclassifier__n_estimators=2000;, score=(train=0.551, test=0.404) total time=   1.1s\n",
      "[CV 4/5; 2/10] START randomforestclassifier__bootstrap=True, randomforestclassifier__max_depth=40, randomforestclassifier__max_features=auto, randomforestclassifier__min_samples_leaf=4, randomforestclassifier__min_samples_split=2, randomforestclassifier__n_estimators=2000\n",
      "[CV 4/5; 2/10] END randomforestclassifier__bootstrap=True, randomforestclassifier__max_depth=40, randomforestclassifier__max_features=auto, randomforestclassifier__min_samples_leaf=4, randomforestclassifier__min_samples_split=2, randomforestclassifier__n_estimators=2000;, score=(train=0.544, test=0.429) total time=   1.1s\n",
      "[CV 5/5; 2/10] START randomforestclassifier__bootstrap=True, randomforestclassifier__max_depth=40, randomforestclassifier__max_features=auto, randomforestclassifier__min_samples_leaf=4, randomforestclassifier__min_samples_split=2, randomforestclassifier__n_estimators=2000\n",
      "[CV 5/5; 2/10] END randomforestclassifier__bootstrap=True, randomforestclassifier__max_depth=40, randomforestclassifier__max_features=auto, randomforestclassifier__min_samples_leaf=4, randomforestclassifier__min_samples_split=2, randomforestclassifier__n_estimators=2000;, score=(train=0.399, test=0.373) total time=   1.2s\n",
      "[CV 1/5; 3/10] START randomforestclassifier__bootstrap=True, randomforestclassifier__max_depth=20, randomforestclassifier__max_features=auto, randomforestclassifier__min_samples_leaf=1, randomforestclassifier__min_samples_split=5, randomforestclassifier__n_estimators=400\n",
      "[CV 1/5; 3/10] END randomforestclassifier__bootstrap=True, randomforestclassifier__max_depth=20, randomforestclassifier__max_features=auto, randomforestclassifier__min_samples_leaf=1, randomforestclassifier__min_samples_split=5, randomforestclassifier__n_estimators=400;, score=(train=0.480, test=0.405) total time=   0.3s\n",
      "[CV 2/5; 3/10] START randomforestclassifier__bootstrap=True, randomforestclassifier__max_depth=20, randomforestclassifier__max_features=auto, randomforestclassifier__min_samples_leaf=1, randomforestclassifier__min_samples_split=5, randomforestclassifier__n_estimators=400\n",
      "[CV 2/5; 3/10] END randomforestclassifier__bootstrap=True, randomforestclassifier__max_depth=20, randomforestclassifier__max_features=auto, randomforestclassifier__min_samples_leaf=1, randomforestclassifier__min_samples_split=5, randomforestclassifier__n_estimators=400;, score=(train=0.417, test=0.311) total time=   0.4s\n",
      "[CV 3/5; 3/10] START randomforestclassifier__bootstrap=True, randomforestclassifier__max_depth=20, randomforestclassifier__max_features=auto, randomforestclassifier__min_samples_leaf=1, randomforestclassifier__min_samples_split=5, randomforestclassifier__n_estimators=400\n",
      "[CV 3/5; 3/10] END randomforestclassifier__bootstrap=True, randomforestclassifier__max_depth=20, randomforestclassifier__max_features=auto, randomforestclassifier__min_samples_leaf=1, randomforestclassifier__min_samples_split=5, randomforestclassifier__n_estimators=400;, score=(train=0.578, test=0.368) total time=   0.3s\n",
      "[CV 4/5; 3/10] START randomforestclassifier__bootstrap=True, randomforestclassifier__max_depth=20, randomforestclassifier__max_features=auto, randomforestclassifier__min_samples_leaf=1, randomforestclassifier__min_samples_split=5, randomforestclassifier__n_estimators=400\n",
      "[CV 4/5; 3/10] END randomforestclassifier__bootstrap=True, randomforestclassifier__max_depth=20, randomforestclassifier__max_features=auto, randomforestclassifier__min_samples_leaf=1, randomforestclassifier__min_samples_split=5, randomforestclassifier__n_estimators=400;, score=(train=0.574, test=0.408) total time=   0.3s\n",
      "[CV 5/5; 3/10] START randomforestclassifier__bootstrap=True, randomforestclassifier__max_depth=20, randomforestclassifier__max_features=auto, randomforestclassifier__min_samples_leaf=1, randomforestclassifier__min_samples_split=5, randomforestclassifier__n_estimators=400\n",
      "[CV 5/5; 3/10] END randomforestclassifier__bootstrap=True, randomforestclassifier__max_depth=20, randomforestclassifier__max_features=auto, randomforestclassifier__min_samples_leaf=1, randomforestclassifier__min_samples_split=5, randomforestclassifier__n_estimators=400;, score=(train=0.482, test=0.353) total time=   0.3s\n",
      "[CV 1/5; 4/10] START randomforestclassifier__bootstrap=True, randomforestclassifier__max_depth=40, randomforestclassifier__max_features=auto, randomforestclassifier__min_samples_leaf=1, randomforestclassifier__min_samples_split=10, randomforestclassifier__n_estimators=1800\n",
      "[CV 1/5; 4/10] END randomforestclassifier__bootstrap=True, randomforestclassifier__max_depth=40, randomforestclassifier__max_features=auto, randomforestclassifier__min_samples_leaf=1, randomforestclassifier__min_samples_split=10, randomforestclassifier__n_estimators=1800;, score=(train=0.470, test=0.310) total time=   1.1s\n",
      "[CV 2/5; 4/10] START randomforestclassifier__bootstrap=True, randomforestclassifier__max_depth=40, randomforestclassifier__max_features=auto, randomforestclassifier__min_samples_leaf=1, randomforestclassifier__min_samples_split=10, randomforestclassifier__n_estimators=1800\n",
      "[CV 2/5; 4/10] END randomforestclassifier__bootstrap=True, randomforestclassifier__max_depth=40, randomforestclassifier__max_features=auto, randomforestclassifier__min_samples_leaf=1, randomforestclassifier__min_samples_split=10, randomforestclassifier__n_estimators=1800;, score=(train=0.412, test=0.311) total time=   1.0s\n",
      "[CV 3/5; 4/10] START randomforestclassifier__bootstrap=True, randomforestclassifier__max_depth=40, randomforestclassifier__max_features=auto, randomforestclassifier__min_samples_leaf=1, randomforestclassifier__min_samples_split=10, randomforestclassifier__n_estimators=1800\n",
      "[CV 3/5; 4/10] END randomforestclassifier__bootstrap=True, randomforestclassifier__max_depth=40, randomforestclassifier__max_features=auto, randomforestclassifier__min_samples_leaf=1, randomforestclassifier__min_samples_split=10, randomforestclassifier__n_estimators=1800;, score=(train=0.556, test=0.386) total time=   1.2s\n",
      "[CV 4/5; 4/10] START randomforestclassifier__bootstrap=True, randomforestclassifier__max_depth=40, randomforestclassifier__max_features=auto, randomforestclassifier__min_samples_leaf=1, randomforestclassifier__min_samples_split=10, randomforestclassifier__n_estimators=1800\n",
      "[CV 4/5; 4/10] END randomforestclassifier__bootstrap=True, randomforestclassifier__max_depth=40, randomforestclassifier__max_features=auto, randomforestclassifier__min_samples_leaf=1, randomforestclassifier__min_samples_split=10, randomforestclassifier__n_estimators=1800;, score=(train=0.544, test=0.449) total time=   1.3s\n",
      "[CV 5/5; 4/10] START randomforestclassifier__bootstrap=True, randomforestclassifier__max_depth=40, randomforestclassifier__max_features=auto, randomforestclassifier__min_samples_leaf=1, randomforestclassifier__min_samples_split=10, randomforestclassifier__n_estimators=1800\n",
      "[CV 5/5; 4/10] END randomforestclassifier__bootstrap=True, randomforestclassifier__max_depth=40, randomforestclassifier__max_features=auto, randomforestclassifier__min_samples_leaf=1, randomforestclassifier__min_samples_split=10, randomforestclassifier__n_estimators=1800;, score=(train=0.420, test=0.373) total time=   1.1s\n",
      "[CV 1/5; 5/10] START randomforestclassifier__bootstrap=False, randomforestclassifier__max_depth=80, randomforestclassifier__max_features=auto, randomforestclassifier__min_samples_leaf=4, randomforestclassifier__min_samples_split=10, randomforestclassifier__n_estimators=400\n",
      "[CV 1/5; 5/10] END randomforestclassifier__bootstrap=False, randomforestclassifier__max_depth=80, randomforestclassifier__max_features=auto, randomforestclassifier__min_samples_leaf=4, randomforestclassifier__min_samples_split=10, randomforestclassifier__n_estimators=400;, score=(train=0.505, test=0.333) total time=   0.4s\n",
      "[CV 2/5; 5/10] START randomforestclassifier__bootstrap=False, randomforestclassifier__max_depth=80, randomforestclassifier__max_features=auto, randomforestclassifier__min_samples_leaf=4, randomforestclassifier__min_samples_split=10, randomforestclassifier__n_estimators=400\n",
      "[CV 2/5; 5/10] END randomforestclassifier__bootstrap=False, randomforestclassifier__max_depth=80, randomforestclassifier__max_features=auto, randomforestclassifier__min_samples_leaf=4, randomforestclassifier__min_samples_split=10, randomforestclassifier__n_estimators=400;, score=(train=0.422, test=0.289) total time=   0.4s\n",
      "[CV 3/5; 5/10] START randomforestclassifier__bootstrap=False, randomforestclassifier__max_depth=80, randomforestclassifier__max_features=auto, randomforestclassifier__min_samples_leaf=4, randomforestclassifier__min_samples_split=10, randomforestclassifier__n_estimators=400\n",
      "[CV 3/5; 5/10] END randomforestclassifier__bootstrap=False, randomforestclassifier__max_depth=80, randomforestclassifier__max_features=auto, randomforestclassifier__min_samples_leaf=4, randomforestclassifier__min_samples_split=10, randomforestclassifier__n_estimators=400;, score=(train=0.561, test=0.404) total time=   0.3s\n",
      "[CV 4/5; 5/10] START randomforestclassifier__bootstrap=False, randomforestclassifier__max_depth=80, randomforestclassifier__max_features=auto, randomforestclassifier__min_samples_leaf=4, randomforestclassifier__min_samples_split=10, randomforestclassifier__n_estimators=400\n",
      "[CV 4/5; 5/10] END randomforestclassifier__bootstrap=False, randomforestclassifier__max_depth=80, randomforestclassifier__max_features=auto, randomforestclassifier__min_samples_leaf=4, randomforestclassifier__min_samples_split=10, randomforestclassifier__n_estimators=400;, score=(train=0.549, test=0.449) total time=   0.3s\n",
      "[CV 5/5; 5/10] START randomforestclassifier__bootstrap=False, randomforestclassifier__max_depth=80, randomforestclassifier__max_features=auto, randomforestclassifier__min_samples_leaf=4, randomforestclassifier__min_samples_split=10, randomforestclassifier__n_estimators=400\n",
      "[CV 5/5; 5/10] END randomforestclassifier__bootstrap=False, randomforestclassifier__max_depth=80, randomforestclassifier__max_features=auto, randomforestclassifier__min_samples_leaf=4, randomforestclassifier__min_samples_split=10, randomforestclassifier__n_estimators=400;, score=(train=0.430, test=0.353) total time=   0.6s\n",
      "[CV 1/5; 6/10] START randomforestclassifier__bootstrap=False, randomforestclassifier__max_depth=80, randomforestclassifier__max_features=sqrt, randomforestclassifier__min_samples_leaf=2, randomforestclassifier__min_samples_split=10, randomforestclassifier__n_estimators=1800\n",
      "[CV 1/5; 6/10] END randomforestclassifier__bootstrap=False, randomforestclassifier__max_depth=80, randomforestclassifier__max_features=sqrt, randomforestclassifier__min_samples_leaf=2, randomforestclassifier__min_samples_split=10, randomforestclassifier__n_estimators=1800;, score=(train=0.510, test=0.357) total time=   0.9s\n",
      "[CV 2/5; 6/10] START randomforestclassifier__bootstrap=False, randomforestclassifier__max_depth=80, randomforestclassifier__max_features=sqrt, randomforestclassifier__min_samples_leaf=2, randomforestclassifier__min_samples_split=10, randomforestclassifier__n_estimators=1800\n",
      "[CV 2/5; 6/10] END randomforestclassifier__bootstrap=False, randomforestclassifier__max_depth=80, randomforestclassifier__max_features=sqrt, randomforestclassifier__min_samples_leaf=2, randomforestclassifier__min_samples_split=10, randomforestclassifier__n_estimators=1800;, score=(train=0.427, test=0.267) total time=   0.9s\n",
      "[CV 3/5; 6/10] START randomforestclassifier__bootstrap=False, randomforestclassifier__max_depth=80, randomforestclassifier__max_features=sqrt, randomforestclassifier__min_samples_leaf=2, randomforestclassifier__min_samples_split=10, randomforestclassifier__n_estimators=1800\n",
      "[CV 3/5; 6/10] END randomforestclassifier__bootstrap=False, randomforestclassifier__max_depth=80, randomforestclassifier__max_features=sqrt, randomforestclassifier__min_samples_leaf=2, randomforestclassifier__min_samples_split=10, randomforestclassifier__n_estimators=1800;, score=(train=0.561, test=0.386) total time=   0.9s\n",
      "[CV 4/5; 6/10] START randomforestclassifier__bootstrap=False, randomforestclassifier__max_depth=80, randomforestclassifier__max_features=sqrt, randomforestclassifier__min_samples_leaf=2, randomforestclassifier__min_samples_split=10, randomforestclassifier__n_estimators=1800\n",
      "[CV 4/5; 6/10] END randomforestclassifier__bootstrap=False, randomforestclassifier__max_depth=80, randomforestclassifier__max_features=sqrt, randomforestclassifier__min_samples_leaf=2, randomforestclassifier__min_samples_split=10, randomforestclassifier__n_estimators=1800;, score=(train=0.559, test=0.429) total time=   1.1s\n",
      "[CV 5/5; 6/10] START randomforestclassifier__bootstrap=False, randomforestclassifier__max_depth=80, randomforestclassifier__max_features=sqrt, randomforestclassifier__min_samples_leaf=2, randomforestclassifier__min_samples_split=10, randomforestclassifier__n_estimators=1800\n",
      "[CV 5/5; 6/10] END randomforestclassifier__bootstrap=False, randomforestclassifier__max_depth=80, randomforestclassifier__max_features=sqrt, randomforestclassifier__min_samples_leaf=2, randomforestclassifier__min_samples_split=10, randomforestclassifier__n_estimators=1800;, score=(train=0.420, test=0.373) total time=   0.9s\n",
      "[CV 1/5; 7/10] START randomforestclassifier__bootstrap=True, randomforestclassifier__max_depth=40, randomforestclassifier__max_features=auto, randomforestclassifier__min_samples_leaf=2, randomforestclassifier__min_samples_split=10, randomforestclassifier__n_estimators=1000\n",
      "[CV 1/5; 7/10] END randomforestclassifier__bootstrap=True, randomforestclassifier__max_depth=40, randomforestclassifier__max_features=auto, randomforestclassifier__min_samples_leaf=2, randomforestclassifier__min_samples_split=10, randomforestclassifier__n_estimators=1000;, score=(train=0.470, test=0.333) total time=   0.6s\n",
      "[CV 2/5; 7/10] START randomforestclassifier__bootstrap=True, randomforestclassifier__max_depth=40, randomforestclassifier__max_features=auto, randomforestclassifier__min_samples_leaf=2, randomforestclassifier__min_samples_split=10, randomforestclassifier__n_estimators=1000\n",
      "[CV 2/5; 7/10] END randomforestclassifier__bootstrap=True, randomforestclassifier__max_depth=40, randomforestclassifier__max_features=auto, randomforestclassifier__min_samples_leaf=2, randomforestclassifier__min_samples_split=10, randomforestclassifier__n_estimators=1000;, score=(train=0.407, test=0.311) total time=   0.6s\n",
      "[CV 3/5; 7/10] START randomforestclassifier__bootstrap=True, randomforestclassifier__max_depth=40, randomforestclassifier__max_features=auto, randomforestclassifier__min_samples_leaf=2, randomforestclassifier__min_samples_split=10, randomforestclassifier__n_estimators=1000\n",
      "[CV 3/5; 7/10] END randomforestclassifier__bootstrap=True, randomforestclassifier__max_depth=40, randomforestclassifier__max_features=auto, randomforestclassifier__min_samples_leaf=2, randomforestclassifier__min_samples_split=10, randomforestclassifier__n_estimators=1000;, score=(train=0.561, test=0.386) total time=   0.6s\n",
      "[CV 4/5; 7/10] START randomforestclassifier__bootstrap=True, randomforestclassifier__max_depth=40, randomforestclassifier__max_features=auto, randomforestclassifier__min_samples_leaf=2, randomforestclassifier__min_samples_split=10, randomforestclassifier__n_estimators=1000\n",
      "[CV 4/5; 7/10] END randomforestclassifier__bootstrap=True, randomforestclassifier__max_depth=40, randomforestclassifier__max_features=auto, randomforestclassifier__min_samples_leaf=2, randomforestclassifier__min_samples_split=10, randomforestclassifier__n_estimators=1000;, score=(train=0.544, test=0.429) total time=   0.7s\n",
      "[CV 5/5; 7/10] START randomforestclassifier__bootstrap=True, randomforestclassifier__max_depth=40, randomforestclassifier__max_features=auto, randomforestclassifier__min_samples_leaf=2, randomforestclassifier__min_samples_split=10, randomforestclassifier__n_estimators=1000\n",
      "[CV 5/5; 7/10] END randomforestclassifier__bootstrap=True, randomforestclassifier__max_depth=40, randomforestclassifier__max_features=auto, randomforestclassifier__min_samples_leaf=2, randomforestclassifier__min_samples_split=10, randomforestclassifier__n_estimators=1000;, score=(train=0.409, test=0.353) total time=   0.6s\n",
      "[CV 1/5; 8/10] START randomforestclassifier__bootstrap=True, randomforestclassifier__max_depth=10, randomforestclassifier__max_features=sqrt, randomforestclassifier__min_samples_leaf=1, randomforestclassifier__min_samples_split=10, randomforestclassifier__n_estimators=800\n",
      "[CV 1/5; 8/10] END randomforestclassifier__bootstrap=True, randomforestclassifier__max_depth=10, randomforestclassifier__max_features=sqrt, randomforestclassifier__min_samples_leaf=1, randomforestclassifier__min_samples_split=10, randomforestclassifier__n_estimators=800;, score=(train=0.475, test=0.357) total time=   0.5s\n",
      "[CV 2/5; 8/10] START randomforestclassifier__bootstrap=True, randomforestclassifier__max_depth=10, randomforestclassifier__max_features=sqrt, randomforestclassifier__min_samples_leaf=1, randomforestclassifier__min_samples_split=10, randomforestclassifier__n_estimators=800\n",
      "[CV 2/5; 8/10] END randomforestclassifier__bootstrap=True, randomforestclassifier__max_depth=10, randomforestclassifier__max_features=sqrt, randomforestclassifier__min_samples_leaf=1, randomforestclassifier__min_samples_split=10, randomforestclassifier__n_estimators=800;, score=(train=0.422, test=0.311) total time=   0.5s\n",
      "[CV 3/5; 8/10] START randomforestclassifier__bootstrap=True, randomforestclassifier__max_depth=10, randomforestclassifier__max_features=sqrt, randomforestclassifier__min_samples_leaf=1, randomforestclassifier__min_samples_split=10, randomforestclassifier__n_estimators=800\n",
      "[CV 3/5; 8/10] END randomforestclassifier__bootstrap=True, randomforestclassifier__max_depth=10, randomforestclassifier__max_features=sqrt, randomforestclassifier__min_samples_leaf=1, randomforestclassifier__min_samples_split=10, randomforestclassifier__n_estimators=800;, score=(train=0.556, test=0.386) total time=   0.4s\n",
      "[CV 4/5; 8/10] START randomforestclassifier__bootstrap=True, randomforestclassifier__max_depth=10, randomforestclassifier__max_features=sqrt, randomforestclassifier__min_samples_leaf=1, randomforestclassifier__min_samples_split=10, randomforestclassifier__n_estimators=800\n",
      "[CV 4/5; 8/10] END randomforestclassifier__bootstrap=True, randomforestclassifier__max_depth=10, randomforestclassifier__max_features=sqrt, randomforestclassifier__min_samples_leaf=1, randomforestclassifier__min_samples_split=10, randomforestclassifier__n_estimators=800;, score=(train=0.544, test=0.429) total time=   0.5s\n",
      "[CV 5/5; 8/10] START randomforestclassifier__bootstrap=True, randomforestclassifier__max_depth=10, randomforestclassifier__max_features=sqrt, randomforestclassifier__min_samples_leaf=1, randomforestclassifier__min_samples_split=10, randomforestclassifier__n_estimators=800\n",
      "[CV 5/5; 8/10] END randomforestclassifier__bootstrap=True, randomforestclassifier__max_depth=10, randomforestclassifier__max_features=sqrt, randomforestclassifier__min_samples_leaf=1, randomforestclassifier__min_samples_split=10, randomforestclassifier__n_estimators=800;, score=(train=0.409, test=0.392) total time=   0.5s\n",
      "[CV 1/5; 9/10] START randomforestclassifier__bootstrap=True, randomforestclassifier__max_depth=100, randomforestclassifier__max_features=sqrt, randomforestclassifier__min_samples_leaf=2, randomforestclassifier__min_samples_split=2, randomforestclassifier__n_estimators=800\n",
      "[CV 1/5; 9/10] END randomforestclassifier__bootstrap=True, randomforestclassifier__max_depth=100, randomforestclassifier__max_features=sqrt, randomforestclassifier__min_samples_leaf=2, randomforestclassifier__min_samples_split=2, randomforestclassifier__n_estimators=800;, score=(train=0.480, test=0.357) total time=   0.5s\n",
      "[CV 2/5; 9/10] START randomforestclassifier__bootstrap=True, randomforestclassifier__max_depth=100, randomforestclassifier__max_features=sqrt, randomforestclassifier__min_samples_leaf=2, randomforestclassifier__min_samples_split=2, randomforestclassifier__n_estimators=800\n",
      "[CV 2/5; 9/10] END randomforestclassifier__bootstrap=True, randomforestclassifier__max_depth=100, randomforestclassifier__max_features=sqrt, randomforestclassifier__min_samples_leaf=2, randomforestclassifier__min_samples_split=2, randomforestclassifier__n_estimators=800;, score=(train=0.432, test=0.311) total time=   0.4s\n",
      "[CV 3/5; 9/10] START randomforestclassifier__bootstrap=True, randomforestclassifier__max_depth=100, randomforestclassifier__max_features=sqrt, randomforestclassifier__min_samples_leaf=2, randomforestclassifier__min_samples_split=2, randomforestclassifier__n_estimators=800\n",
      "[CV 3/5; 9/10] END randomforestclassifier__bootstrap=True, randomforestclassifier__max_depth=100, randomforestclassifier__max_features=sqrt, randomforestclassifier__min_samples_leaf=2, randomforestclassifier__min_samples_split=2, randomforestclassifier__n_estimators=800;, score=(train=0.583, test=0.386) total time=   0.5s\n",
      "[CV 4/5; 9/10] START randomforestclassifier__bootstrap=True, randomforestclassifier__max_depth=100, randomforestclassifier__max_features=sqrt, randomforestclassifier__min_samples_leaf=2, randomforestclassifier__min_samples_split=2, randomforestclassifier__n_estimators=800\n",
      "[CV 4/5; 9/10] END randomforestclassifier__bootstrap=True, randomforestclassifier__max_depth=100, randomforestclassifier__max_features=sqrt, randomforestclassifier__min_samples_leaf=2, randomforestclassifier__min_samples_split=2, randomforestclassifier__n_estimators=800;, score=(train=0.569, test=0.429) total time=   0.5s\n",
      "[CV 5/5; 9/10] START randomforestclassifier__bootstrap=True, randomforestclassifier__max_depth=100, randomforestclassifier__max_features=sqrt, randomforestclassifier__min_samples_leaf=2, randomforestclassifier__min_samples_split=2, randomforestclassifier__n_estimators=800\n",
      "[CV 5/5; 9/10] END randomforestclassifier__bootstrap=True, randomforestclassifier__max_depth=100, randomforestclassifier__max_features=sqrt, randomforestclassifier__min_samples_leaf=2, randomforestclassifier__min_samples_split=2, randomforestclassifier__n_estimators=800;, score=(train=0.451, test=0.333) total time=   0.5s\n",
      "[CV 1/5; 10/10] START randomforestclassifier__bootstrap=False, randomforestclassifier__max_depth=80, randomforestclassifier__max_features=auto, randomforestclassifier__min_samples_leaf=4, randomforestclassifier__min_samples_split=5, randomforestclassifier__n_estimators=800\n",
      "[CV 1/5; 10/10] END randomforestclassifier__bootstrap=False, randomforestclassifier__max_depth=80, randomforestclassifier__max_features=auto, randomforestclassifier__min_samples_leaf=4, randomforestclassifier__min_samples_split=5, randomforestclassifier__n_estimators=800;, score=(train=0.495, test=0.333) total time=   0.4s\n",
      "[CV 2/5; 10/10] START randomforestclassifier__bootstrap=False, randomforestclassifier__max_depth=80, randomforestclassifier__max_features=auto, randomforestclassifier__min_samples_leaf=4, randomforestclassifier__min_samples_split=5, randomforestclassifier__n_estimators=800\n",
      "[CV 2/5; 10/10] END randomforestclassifier__bootstrap=False, randomforestclassifier__max_depth=80, randomforestclassifier__max_features=auto, randomforestclassifier__min_samples_leaf=4, randomforestclassifier__min_samples_split=5, randomforestclassifier__n_estimators=800;, score=(train=0.427, test=0.289) total time=   0.4s\n",
      "[CV 3/5; 10/10] START randomforestclassifier__bootstrap=False, randomforestclassifier__max_depth=80, randomforestclassifier__max_features=auto, randomforestclassifier__min_samples_leaf=4, randomforestclassifier__min_samples_split=5, randomforestclassifier__n_estimators=800\n",
      "[CV 3/5; 10/10] END randomforestclassifier__bootstrap=False, randomforestclassifier__max_depth=80, randomforestclassifier__max_features=auto, randomforestclassifier__min_samples_leaf=4, randomforestclassifier__min_samples_split=5, randomforestclassifier__n_estimators=800;, score=(train=0.578, test=0.404) total time=   0.4s\n",
      "[CV 4/5; 10/10] START randomforestclassifier__bootstrap=False, randomforestclassifier__max_depth=80, randomforestclassifier__max_features=auto, randomforestclassifier__min_samples_leaf=4, randomforestclassifier__min_samples_split=5, randomforestclassifier__n_estimators=800\n",
      "[CV 4/5; 10/10] END randomforestclassifier__bootstrap=False, randomforestclassifier__max_depth=80, randomforestclassifier__max_features=auto, randomforestclassifier__min_samples_leaf=4, randomforestclassifier__min_samples_split=5, randomforestclassifier__n_estimators=800;, score=(train=0.569, test=0.449) total time=   0.4s\n",
      "[CV 5/5; 10/10] START randomforestclassifier__bootstrap=False, randomforestclassifier__max_depth=80, randomforestclassifier__max_features=auto, randomforestclassifier__min_samples_leaf=4, randomforestclassifier__min_samples_split=5, randomforestclassifier__n_estimators=800\n",
      "[CV 5/5; 10/10] END randomforestclassifier__bootstrap=False, randomforestclassifier__max_depth=80, randomforestclassifier__max_features=auto, randomforestclassifier__min_samples_leaf=4, randomforestclassifier__min_samples_split=5, randomforestclassifier__n_estimators=800;, score=(train=0.430, test=0.353) total time=   0.5s\n"
     ]
    },
    {
     "data": {
      "text/html": [
       "<style>#sk-container-id-13 {color: black;background-color: white;}#sk-container-id-13 pre{padding: 0;}#sk-container-id-13 div.sk-toggleable {background-color: white;}#sk-container-id-13 label.sk-toggleable__label {cursor: pointer;display: block;width: 100%;margin-bottom: 0;padding: 0.3em;box-sizing: border-box;text-align: center;}#sk-container-id-13 label.sk-toggleable__label-arrow:before {content: \"▸\";float: left;margin-right: 0.25em;color: #696969;}#sk-container-id-13 label.sk-toggleable__label-arrow:hover:before {color: black;}#sk-container-id-13 div.sk-estimator:hover label.sk-toggleable__label-arrow:before {color: black;}#sk-container-id-13 div.sk-toggleable__content {max-height: 0;max-width: 0;overflow: hidden;text-align: left;background-color: #f0f8ff;}#sk-container-id-13 div.sk-toggleable__content pre {margin: 0.2em;color: black;border-radius: 0.25em;background-color: #f0f8ff;}#sk-container-id-13 input.sk-toggleable__control:checked~div.sk-toggleable__content {max-height: 200px;max-width: 100%;overflow: auto;}#sk-container-id-13 input.sk-toggleable__control:checked~label.sk-toggleable__label-arrow:before {content: \"▾\";}#sk-container-id-13 div.sk-estimator input.sk-toggleable__control:checked~label.sk-toggleable__label {background-color: #d4ebff;}#sk-container-id-13 div.sk-label input.sk-toggleable__control:checked~label.sk-toggleable__label {background-color: #d4ebff;}#sk-container-id-13 input.sk-hidden--visually {border: 0;clip: rect(1px 1px 1px 1px);clip: rect(1px, 1px, 1px, 1px);height: 1px;margin: -1px;overflow: hidden;padding: 0;position: absolute;width: 1px;}#sk-container-id-13 div.sk-estimator {font-family: monospace;background-color: #f0f8ff;border: 1px dotted black;border-radius: 0.25em;box-sizing: border-box;margin-bottom: 0.5em;}#sk-container-id-13 div.sk-estimator:hover {background-color: #d4ebff;}#sk-container-id-13 div.sk-parallel-item::after {content: \"\";width: 100%;border-bottom: 1px solid gray;flex-grow: 1;}#sk-container-id-13 div.sk-label:hover label.sk-toggleable__label {background-color: #d4ebff;}#sk-container-id-13 div.sk-serial::before {content: \"\";position: absolute;border-left: 1px solid gray;box-sizing: border-box;top: 0;bottom: 0;left: 50%;z-index: 0;}#sk-container-id-13 div.sk-serial {display: flex;flex-direction: column;align-items: center;background-color: white;padding-right: 0.2em;padding-left: 0.2em;position: relative;}#sk-container-id-13 div.sk-item {position: relative;z-index: 1;}#sk-container-id-13 div.sk-parallel {display: flex;align-items: stretch;justify-content: center;background-color: white;position: relative;}#sk-container-id-13 div.sk-item::before, #sk-container-id-13 div.sk-parallel-item::before {content: \"\";position: absolute;border-left: 1px solid gray;box-sizing: border-box;top: 0;bottom: 0;left: 50%;z-index: -1;}#sk-container-id-13 div.sk-parallel-item {display: flex;flex-direction: column;z-index: 1;position: relative;background-color: white;}#sk-container-id-13 div.sk-parallel-item:first-child::after {align-self: flex-end;width: 50%;}#sk-container-id-13 div.sk-parallel-item:last-child::after {align-self: flex-start;width: 50%;}#sk-container-id-13 div.sk-parallel-item:only-child::after {width: 0;}#sk-container-id-13 div.sk-dashed-wrapped {border: 1px dashed gray;margin: 0 0.4em 0.5em 0.4em;box-sizing: border-box;padding-bottom: 0.4em;background-color: white;}#sk-container-id-13 div.sk-label label {font-family: monospace;font-weight: bold;display: inline-block;line-height: 1.2em;}#sk-container-id-13 div.sk-label-container {text-align: center;}#sk-container-id-13 div.sk-container {/* jupyter's `normalize.less` sets `[hidden] { display: none; }` but bootstrap.min.css set `[hidden] { display: none !important; }` so we also need the `!important` here to be able to override the default hidden behavior on the sphinx rendered scikit-learn.org. See: https://github.com/scikit-learn/scikit-learn/issues/21755 */display: inline-block !important;position: relative;}#sk-container-id-13 div.sk-text-repr-fallback {display: none;}</style><div id=\"sk-container-id-13\" class=\"sk-top-container\"><div class=\"sk-text-repr-fallback\"><pre>RandomizedSearchCV(cv=KFold(n_splits=5, random_state=None, shuffle=False),\n",
       "                   estimator=Pipeline(steps=[(&#x27;smoteenn&#x27;,\n",
       "                                              SMOTEENN(random_state=42)),\n",
       "                                             (&#x27;randomforestclassifier&#x27;,\n",
       "                                              RandomForestClassifier(random_state=10))]),\n",
       "                   param_distributions={&#x27;randomforestclassifier__bootstrap&#x27;: [True,\n",
       "                                                                              False],\n",
       "                                        &#x27;randomforestclassifier__max_depth&#x27;: [10,\n",
       "                                                                              20,\n",
       "                                                                              30,\n",
       "                                                                              40,\n",
       "                                                                              50,\n",
       "                                                                              60,\n",
       "                                                                              70,\n",
       "                                                                              80,\n",
       "                                                                              90,\n",
       "                                                                              100,\n",
       "                                                                              110,\n",
       "                                                                              None],\n",
       "                                        &#x27;randomforestclassifier__max_features&#x27;: [&#x27;auto&#x27;,\n",
       "                                                                                 &#x27;sqrt&#x27;],\n",
       "                                        &#x27;randomforestclassifier__min_samples_leaf&#x27;: [1,\n",
       "                                                                                     2,\n",
       "                                                                                     4],\n",
       "                                        &#x27;randomforestclassifier__min_samples_split&#x27;: [2,\n",
       "                                                                                      5,\n",
       "                                                                                      10],\n",
       "                                        &#x27;randomforestclassifier__n_estimators&#x27;: [200,\n",
       "                                                                                 400,\n",
       "                                                                                 600,\n",
       "                                                                                 800,\n",
       "                                                                                 1000,\n",
       "                                                                                 1200,\n",
       "                                                                                 1400,\n",
       "                                                                                 1600,\n",
       "                                                                                 1800,\n",
       "                                                                                 2000]},\n",
       "                   return_train_score=True, scoring=&#x27;recall&#x27;, verbose=10)</pre><b>In a Jupyter environment, please rerun this cell to show the HTML representation or trust the notebook. <br />On GitHub, the HTML representation is unable to render, please try loading this page with nbviewer.org.</b></div><div class=\"sk-container\" hidden><div class=\"sk-item sk-dashed-wrapped\"><div class=\"sk-label-container\"><div class=\"sk-label sk-toggleable\"><input class=\"sk-toggleable__control sk-hidden--visually\" id=\"sk-estimator-id-40\" type=\"checkbox\" ><label for=\"sk-estimator-id-40\" class=\"sk-toggleable__label sk-toggleable__label-arrow\">RandomizedSearchCV</label><div class=\"sk-toggleable__content\"><pre>RandomizedSearchCV(cv=KFold(n_splits=5, random_state=None, shuffle=False),\n",
       "                   estimator=Pipeline(steps=[(&#x27;smoteenn&#x27;,\n",
       "                                              SMOTEENN(random_state=42)),\n",
       "                                             (&#x27;randomforestclassifier&#x27;,\n",
       "                                              RandomForestClassifier(random_state=10))]),\n",
       "                   param_distributions={&#x27;randomforestclassifier__bootstrap&#x27;: [True,\n",
       "                                                                              False],\n",
       "                                        &#x27;randomforestclassifier__max_depth&#x27;: [10,\n",
       "                                                                              20,\n",
       "                                                                              30,\n",
       "                                                                              40,\n",
       "                                                                              50,\n",
       "                                                                              60,\n",
       "                                                                              70,\n",
       "                                                                              80,\n",
       "                                                                              90,\n",
       "                                                                              100,\n",
       "                                                                              110,\n",
       "                                                                              None],\n",
       "                                        &#x27;randomforestclassifier__max_features&#x27;: [&#x27;auto&#x27;,\n",
       "                                                                                 &#x27;sqrt&#x27;],\n",
       "                                        &#x27;randomforestclassifier__min_samples_leaf&#x27;: [1,\n",
       "                                                                                     2,\n",
       "                                                                                     4],\n",
       "                                        &#x27;randomforestclassifier__min_samples_split&#x27;: [2,\n",
       "                                                                                      5,\n",
       "                                                                                      10],\n",
       "                                        &#x27;randomforestclassifier__n_estimators&#x27;: [200,\n",
       "                                                                                 400,\n",
       "                                                                                 600,\n",
       "                                                                                 800,\n",
       "                                                                                 1000,\n",
       "                                                                                 1200,\n",
       "                                                                                 1400,\n",
       "                                                                                 1600,\n",
       "                                                                                 1800,\n",
       "                                                                                 2000]},\n",
       "                   return_train_score=True, scoring=&#x27;recall&#x27;, verbose=10)</pre></div></div></div><div class=\"sk-parallel\"><div class=\"sk-parallel-item\"><div class=\"sk-item\"><div class=\"sk-label-container\"><div class=\"sk-label sk-toggleable\"><input class=\"sk-toggleable__control sk-hidden--visually\" id=\"sk-estimator-id-41\" type=\"checkbox\" ><label for=\"sk-estimator-id-41\" class=\"sk-toggleable__label sk-toggleable__label-arrow\">estimator: Pipeline</label><div class=\"sk-toggleable__content\"><pre>Pipeline(steps=[(&#x27;smoteenn&#x27;, SMOTEENN(random_state=42)),\n",
       "                (&#x27;randomforestclassifier&#x27;,\n",
       "                 RandomForestClassifier(random_state=10))])</pre></div></div></div><div class=\"sk-serial\"><div class=\"sk-item\"><div class=\"sk-serial\"><div class=\"sk-item\"><div class=\"sk-estimator sk-toggleable\"><input class=\"sk-toggleable__control sk-hidden--visually\" id=\"sk-estimator-id-42\" type=\"checkbox\" ><label for=\"sk-estimator-id-42\" class=\"sk-toggleable__label sk-toggleable__label-arrow\">SMOTEENN</label><div class=\"sk-toggleable__content\"><pre>SMOTEENN(random_state=42)</pre></div></div></div><div class=\"sk-item\"><div class=\"sk-estimator sk-toggleable\"><input class=\"sk-toggleable__control sk-hidden--visually\" id=\"sk-estimator-id-43\" type=\"checkbox\" ><label for=\"sk-estimator-id-43\" class=\"sk-toggleable__label sk-toggleable__label-arrow\">RandomForestClassifier</label><div class=\"sk-toggleable__content\"><pre>RandomForestClassifier(random_state=10)</pre></div></div></div></div></div></div></div></div></div></div></div></div>"
      ],
      "text/plain": [
       "RandomizedSearchCV(cv=KFold(n_splits=5, random_state=None, shuffle=False),\n",
       "                   estimator=Pipeline(steps=[('smoteenn',\n",
       "                                              SMOTEENN(random_state=42)),\n",
       "                                             ('randomforestclassifier',\n",
       "                                              RandomForestClassifier(random_state=10))]),\n",
       "                   param_distributions={'randomforestclassifier__bootstrap': [True,\n",
       "                                                                              False],\n",
       "                                        'randomforestclassifier__max_depth': [10,\n",
       "                                                                              20,\n",
       "                                                                              30,\n",
       "                                                                              40,\n",
       "                                                                              50,\n",
       "                                                                              60,\n",
       "                                                                              70,\n",
       "                                                                              80,\n",
       "                                                                              90,\n",
       "                                                                              100,\n",
       "                                                                              110,\n",
       "                                                                              None],\n",
       "                                        'randomforestclassifier__max_features': ['auto',\n",
       "                                                                                 'sqrt'],\n",
       "                                        'randomforestclassifier__min_samples_leaf': [1,\n",
       "                                                                                     2,\n",
       "                                                                                     4],\n",
       "                                        'randomforestclassifier__min_samples_split': [2,\n",
       "                                                                                      5,\n",
       "                                                                                      10],\n",
       "                                        'randomforestclassifier__n_estimators': [200,\n",
       "                                                                                 400,\n",
       "                                                                                 600,\n",
       "                                                                                 800,\n",
       "                                                                                 1000,\n",
       "                                                                                 1200,\n",
       "                                                                                 1400,\n",
       "                                                                                 1600,\n",
       "                                                                                 1800,\n",
       "                                                                                 2000]},\n",
       "                   return_train_score=True, scoring='recall', verbose=10)"
      ]
     },
     "execution_count": 138,
     "metadata": {},
     "output_type": "execute_result"
    }
   ],
   "source": [
    "RF_pipeline = make_pipeline(SMOTEENN (random_state=42), \n",
    "                              RandomForestClassifier(random_state=10))\n",
    "\n",
    "clf_rf = RandomizedSearchCV(RF_pipeline, param_distributions=random_grid, cv = kf,\n",
    "                         scoring='recall', return_train_score = True, verbose = 10)\n",
    "\n",
    "clf_rf.fit(X_train, y_train)"
   ]
  },
  {
   "cell_type": "code",
   "execution_count": 139,
   "id": "542ee373",
   "metadata": {},
   "outputs": [
    {
     "data": {
      "text/plain": [
       "{'randomforestclassifier__n_estimators': 800,\n",
       " 'randomforestclassifier__min_samples_split': 10,\n",
       " 'randomforestclassifier__min_samples_leaf': 1,\n",
       " 'randomforestclassifier__max_features': 'sqrt',\n",
       " 'randomforestclassifier__max_depth': 10,\n",
       " 'randomforestclassifier__bootstrap': True}"
      ]
     },
     "execution_count": 139,
     "metadata": {},
     "output_type": "execute_result"
    }
   ],
   "source": [
    "clf_rf.best_params_"
   ]
  },
  {
   "cell_type": "code",
   "execution_count": 140,
   "id": "997029b0",
   "metadata": {},
   "outputs": [],
   "source": [
    "RF_model = make_pipeline(SMOTEENN(random_state=42), \n",
    "                              RandomForestClassifier(n_estimators = 800,\n",
    "                                                    min_samples_split= 10,\n",
    "                                                     min_samples_leaf= 1,\n",
    "                                                     max_features = 'sqrt',\n",
    "                                                     max_depth= 10,\n",
    "                                                     bootstrap = True,\n",
    "                                                     random_state=10))"
   ]
  },
  {
   "cell_type": "code",
   "execution_count": 141,
   "id": "eb5a5a93",
   "metadata": {},
   "outputs": [
    {
     "data": {
      "text/html": [
       "<style>#sk-container-id-14 {color: black;background-color: white;}#sk-container-id-14 pre{padding: 0;}#sk-container-id-14 div.sk-toggleable {background-color: white;}#sk-container-id-14 label.sk-toggleable__label {cursor: pointer;display: block;width: 100%;margin-bottom: 0;padding: 0.3em;box-sizing: border-box;text-align: center;}#sk-container-id-14 label.sk-toggleable__label-arrow:before {content: \"▸\";float: left;margin-right: 0.25em;color: #696969;}#sk-container-id-14 label.sk-toggleable__label-arrow:hover:before {color: black;}#sk-container-id-14 div.sk-estimator:hover label.sk-toggleable__label-arrow:before {color: black;}#sk-container-id-14 div.sk-toggleable__content {max-height: 0;max-width: 0;overflow: hidden;text-align: left;background-color: #f0f8ff;}#sk-container-id-14 div.sk-toggleable__content pre {margin: 0.2em;color: black;border-radius: 0.25em;background-color: #f0f8ff;}#sk-container-id-14 input.sk-toggleable__control:checked~div.sk-toggleable__content {max-height: 200px;max-width: 100%;overflow: auto;}#sk-container-id-14 input.sk-toggleable__control:checked~label.sk-toggleable__label-arrow:before {content: \"▾\";}#sk-container-id-14 div.sk-estimator input.sk-toggleable__control:checked~label.sk-toggleable__label {background-color: #d4ebff;}#sk-container-id-14 div.sk-label input.sk-toggleable__control:checked~label.sk-toggleable__label {background-color: #d4ebff;}#sk-container-id-14 input.sk-hidden--visually {border: 0;clip: rect(1px 1px 1px 1px);clip: rect(1px, 1px, 1px, 1px);height: 1px;margin: -1px;overflow: hidden;padding: 0;position: absolute;width: 1px;}#sk-container-id-14 div.sk-estimator {font-family: monospace;background-color: #f0f8ff;border: 1px dotted black;border-radius: 0.25em;box-sizing: border-box;margin-bottom: 0.5em;}#sk-container-id-14 div.sk-estimator:hover {background-color: #d4ebff;}#sk-container-id-14 div.sk-parallel-item::after {content: \"\";width: 100%;border-bottom: 1px solid gray;flex-grow: 1;}#sk-container-id-14 div.sk-label:hover label.sk-toggleable__label {background-color: #d4ebff;}#sk-container-id-14 div.sk-serial::before {content: \"\";position: absolute;border-left: 1px solid gray;box-sizing: border-box;top: 0;bottom: 0;left: 50%;z-index: 0;}#sk-container-id-14 div.sk-serial {display: flex;flex-direction: column;align-items: center;background-color: white;padding-right: 0.2em;padding-left: 0.2em;position: relative;}#sk-container-id-14 div.sk-item {position: relative;z-index: 1;}#sk-container-id-14 div.sk-parallel {display: flex;align-items: stretch;justify-content: center;background-color: white;position: relative;}#sk-container-id-14 div.sk-item::before, #sk-container-id-14 div.sk-parallel-item::before {content: \"\";position: absolute;border-left: 1px solid gray;box-sizing: border-box;top: 0;bottom: 0;left: 50%;z-index: -1;}#sk-container-id-14 div.sk-parallel-item {display: flex;flex-direction: column;z-index: 1;position: relative;background-color: white;}#sk-container-id-14 div.sk-parallel-item:first-child::after {align-self: flex-end;width: 50%;}#sk-container-id-14 div.sk-parallel-item:last-child::after {align-self: flex-start;width: 50%;}#sk-container-id-14 div.sk-parallel-item:only-child::after {width: 0;}#sk-container-id-14 div.sk-dashed-wrapped {border: 1px dashed gray;margin: 0 0.4em 0.5em 0.4em;box-sizing: border-box;padding-bottom: 0.4em;background-color: white;}#sk-container-id-14 div.sk-label label {font-family: monospace;font-weight: bold;display: inline-block;line-height: 1.2em;}#sk-container-id-14 div.sk-label-container {text-align: center;}#sk-container-id-14 div.sk-container {/* jupyter's `normalize.less` sets `[hidden] { display: none; }` but bootstrap.min.css set `[hidden] { display: none !important; }` so we also need the `!important` here to be able to override the default hidden behavior on the sphinx rendered scikit-learn.org. See: https://github.com/scikit-learn/scikit-learn/issues/21755 */display: inline-block !important;position: relative;}#sk-container-id-14 div.sk-text-repr-fallback {display: none;}</style><div id=\"sk-container-id-14\" class=\"sk-top-container\"><div class=\"sk-text-repr-fallback\"><pre>Pipeline(steps=[(&#x27;smoteenn&#x27;, SMOTEENN(random_state=42)),\n",
       "                (&#x27;randomforestclassifier&#x27;,\n",
       "                 RandomForestClassifier(max_depth=10, min_samples_split=10,\n",
       "                                        n_estimators=800, random_state=10))])</pre><b>In a Jupyter environment, please rerun this cell to show the HTML representation or trust the notebook. <br />On GitHub, the HTML representation is unable to render, please try loading this page with nbviewer.org.</b></div><div class=\"sk-container\" hidden><div class=\"sk-item sk-dashed-wrapped\"><div class=\"sk-label-container\"><div class=\"sk-label sk-toggleable\"><input class=\"sk-toggleable__control sk-hidden--visually\" id=\"sk-estimator-id-44\" type=\"checkbox\" ><label for=\"sk-estimator-id-44\" class=\"sk-toggleable__label sk-toggleable__label-arrow\">Pipeline</label><div class=\"sk-toggleable__content\"><pre>Pipeline(steps=[(&#x27;smoteenn&#x27;, SMOTEENN(random_state=42)),\n",
       "                (&#x27;randomforestclassifier&#x27;,\n",
       "                 RandomForestClassifier(max_depth=10, min_samples_split=10,\n",
       "                                        n_estimators=800, random_state=10))])</pre></div></div></div><div class=\"sk-serial\"><div class=\"sk-item\"><div class=\"sk-estimator sk-toggleable\"><input class=\"sk-toggleable__control sk-hidden--visually\" id=\"sk-estimator-id-45\" type=\"checkbox\" ><label for=\"sk-estimator-id-45\" class=\"sk-toggleable__label sk-toggleable__label-arrow\">SMOTEENN</label><div class=\"sk-toggleable__content\"><pre>SMOTEENN(random_state=42)</pre></div></div></div><div class=\"sk-item\"><div class=\"sk-estimator sk-toggleable\"><input class=\"sk-toggleable__control sk-hidden--visually\" id=\"sk-estimator-id-46\" type=\"checkbox\" ><label for=\"sk-estimator-id-46\" class=\"sk-toggleable__label sk-toggleable__label-arrow\">RandomForestClassifier</label><div class=\"sk-toggleable__content\"><pre>RandomForestClassifier(max_depth=10, min_samples_split=10, n_estimators=800,\n",
       "                       random_state=10)</pre></div></div></div></div></div></div></div>"
      ],
      "text/plain": [
       "Pipeline(steps=[('smoteenn', SMOTEENN(random_state=42)),\n",
       "                ('randomforestclassifier',\n",
       "                 RandomForestClassifier(max_depth=10, min_samples_split=10,\n",
       "                                        n_estimators=800, random_state=10))])"
      ]
     },
     "execution_count": 141,
     "metadata": {},
     "output_type": "execute_result"
    }
   ],
   "source": [
    "RF_model.fit(X_train, y_train)"
   ]
  },
  {
   "cell_type": "code",
   "execution_count": 142,
   "id": "c26b9bb7",
   "metadata": {},
   "outputs": [],
   "source": [
    "y_pred_rf=RF_model.predict(X_test)"
   ]
  },
  {
   "cell_type": "markdown",
   "id": "d5176e93",
   "metadata": {},
   "source": [
    "### RF model Evaluation"
   ]
  },
  {
   "cell_type": "code",
   "execution_count": 143,
   "id": "b819e750",
   "metadata": {},
   "outputs": [
    {
     "data": {
      "text/plain": [
       "array([[116,  28],\n",
       "       [ 38,  18]])"
      ]
     },
     "execution_count": 143,
     "metadata": {},
     "output_type": "execute_result"
    }
   ],
   "source": [
    "confusion_matrix(y_test, y_pred_rf)"
   ]
  },
  {
   "cell_type": "code",
   "execution_count": 144,
   "id": "ea4d2b05",
   "metadata": {},
   "outputs": [
    {
     "data": {
      "text/plain": [
       "<AxesSubplot:>"
      ]
     },
     "execution_count": 144,
     "metadata": {},
     "output_type": "execute_result"
    },
    {
     "data": {
      "image/png": "[encoded data removed]",
      "text/plain": [
       "<Figure size 432x288 with 2 Axes>"
      ]
     },
     "metadata": {
      "needs_background": "light"
     },
     "output_type": "display_data"
    }
   ],
   "source": [
    "cf = confusion_matrix(y_test, y_pred_rf)\n",
    "sns.heatmap(cf/np.sum(cf), annot=True, \n",
    "            fmt='.2%', cmap='Blues')"
   ]
  },
  {
   "cell_type": "code",
   "execution_count": 145,
   "id": "07d6d9d2",
   "metadata": {},
   "outputs": [
    {
     "name": "stdout",
     "output_type": "stream",
     "text": [
      "              precision    recall  f1-score   support\n",
      "\n",
      "           0       0.75      0.81      0.78       144\n",
      "           1       0.39      0.32      0.35        56\n",
      "\n",
      "    accuracy                           0.67       200\n",
      "   macro avg       0.57      0.56      0.57       200\n",
      "weighted avg       0.65      0.67      0.66       200\n",
      "\n"
     ]
    }
   ],
   "source": [
    "print(classification_report(y_test, y_pred_rf))"
   ]
  },
  {
   "cell_type": "code",
   "execution_count": 146,
   "id": "c668d153",
   "metadata": {},
   "outputs": [
    {
     "name": "stdout",
     "output_type": "stream",
     "text": [
      "Accuracy for RF model:  0.67\n"
     ]
    }
   ],
   "source": [
    "print('Accuracy for RF model: ', accuracy_score (y_test, y_pred_rf))"
   ]
  },
  {
   "cell_type": "markdown",
   "id": "51e10ab7",
   "metadata": {},
   "source": [
    "## 3. XGBoost Classifier"
   ]
  },
  {
   "cell_type": "markdown",
   "id": "ed60506a",
   "metadata": {},
   "source": [
    "### Without hyperparameter tuning"
   ]
  },
  {
   "cell_type": "code",
   "execution_count": 147,
   "id": "d3df9064",
   "metadata": {},
   "outputs": [
    {
     "name": "stdout",
     "output_type": "stream",
     "text": [
      "[17:50:58] WARNING: /Users/runner/miniforge3/conda-bld/xgboost-split_1645117899018/work/src/learner.cc:1115: Starting in XGBoost 1.3.0, the default evaluation metric used with the objective 'binary:logistic' was changed from 'error' to 'logloss'. Explicitly set eval_metric if you'd like to restore the old behavior.\n"
     ]
    },
    {
     "data": {
      "text/html": [
       "<style>#sk-container-id-15 {color: black;background-color: white;}#sk-container-id-15 pre{padding: 0;}#sk-container-id-15 div.sk-toggleable {background-color: white;}#sk-container-id-15 label.sk-toggleable__label {cursor: pointer;display: block;width: 100%;margin-bottom: 0;padding: 0.3em;box-sizing: border-box;text-align: center;}#sk-container-id-15 label.sk-toggleable__label-arrow:before {content: \"▸\";float: left;margin-right: 0.25em;color: #696969;}#sk-container-id-15 label.sk-toggleable__label-arrow:hover:before {color: black;}#sk-container-id-15 div.sk-estimator:hover label.sk-toggleable__label-arrow:before {color: black;}#sk-container-id-15 div.sk-toggleable__content {max-height: 0;max-width: 0;overflow: hidden;text-align: left;background-color: #f0f8ff;}#sk-container-id-15 div.sk-toggleable__content pre {margin: 0.2em;color: black;border-radius: 0.25em;background-color: #f0f8ff;}#sk-container-id-15 input.sk-toggleable__control:checked~div.sk-toggleable__content {max-height: 200px;max-width: 100%;overflow: auto;}#sk-container-id-15 input.sk-toggleable__control:checked~label.sk-toggleable__label-arrow:before {content: \"▾\";}#sk-container-id-15 div.sk-estimator input.sk-toggleable__control:checked~label.sk-toggleable__label {background-color: #d4ebff;}#sk-container-id-15 div.sk-label input.sk-toggleable__control:checked~label.sk-toggleable__label {background-color: #d4ebff;}#sk-container-id-15 input.sk-hidden--visually {border: 0;clip: rect(1px 1px 1px 1px);clip: rect(1px, 1px, 1px, 1px);height: 1px;margin: -1px;overflow: hidden;padding: 0;position: absolute;width: 1px;}#sk-container-id-15 div.sk-estimator {font-family: monospace;background-color: #f0f8ff;border: 1px dotted black;border-radius: 0.25em;box-sizing: border-box;margin-bottom: 0.5em;}#sk-container-id-15 div.sk-estimator:hover {background-color: #d4ebff;}#sk-container-id-15 div.sk-parallel-item::after {content: \"\";width: 100%;border-bottom: 1px solid gray;flex-grow: 1;}#sk-container-id-15 div.sk-label:hover label.sk-toggleable__label {background-color: #d4ebff;}#sk-container-id-15 div.sk-serial::before {content: \"\";position: absolute;border-left: 1px solid gray;box-sizing: border-box;top: 0;bottom: 0;left: 50%;z-index: 0;}#sk-container-id-15 div.sk-serial {display: flex;flex-direction: column;align-items: center;background-color: white;padding-right: 0.2em;padding-left: 0.2em;position: relative;}#sk-container-id-15 div.sk-item {position: relative;z-index: 1;}#sk-container-id-15 div.sk-parallel {display: flex;align-items: stretch;justify-content: center;background-color: white;position: relative;}#sk-container-id-15 div.sk-item::before, #sk-container-id-15 div.sk-parallel-item::before {content: \"\";position: absolute;border-left: 1px solid gray;box-sizing: border-box;top: 0;bottom: 0;left: 50%;z-index: -1;}#sk-container-id-15 div.sk-parallel-item {display: flex;flex-direction: column;z-index: 1;position: relative;background-color: white;}#sk-container-id-15 div.sk-parallel-item:first-child::after {align-self: flex-end;width: 50%;}#sk-container-id-15 div.sk-parallel-item:last-child::after {align-self: flex-start;width: 50%;}#sk-container-id-15 div.sk-parallel-item:only-child::after {width: 0;}#sk-container-id-15 div.sk-dashed-wrapped {border: 1px dashed gray;margin: 0 0.4em 0.5em 0.4em;box-sizing: border-box;padding-bottom: 0.4em;background-color: white;}#sk-container-id-15 div.sk-label label {font-family: monospace;font-weight: bold;display: inline-block;line-height: 1.2em;}#sk-container-id-15 div.sk-label-container {text-align: center;}#sk-container-id-15 div.sk-container {/* jupyter's `normalize.less` sets `[hidden] { display: none; }` but bootstrap.min.css set `[hidden] { display: none !important; }` so we also need the `!important` here to be able to override the default hidden behavior on the sphinx rendered scikit-learn.org. See: https://github.com/scikit-learn/scikit-learn/issues/21755 */display: inline-block !important;position: relative;}#sk-container-id-15 div.sk-text-repr-fallback {display: none;}</style><div id=\"sk-container-id-15\" class=\"sk-top-container\"><div class=\"sk-text-repr-fallback\"><pre>XGBClassifier(base_score=0.5, booster=&#x27;gbtree&#x27;, colsample_bylevel=1,\n",
       "              colsample_bynode=1, colsample_bytree=1, enable_categorical=False,\n",
       "              gamma=0, gpu_id=-1, importance_type=None,\n",
       "              interaction_constraints=&#x27;&#x27;, learning_rate=0.300000012,\n",
       "              max_delta_step=0, max_depth=6, min_child_weight=1, missing=nan,\n",
       "              monotone_constraints=&#x27;()&#x27;, n_estimators=100, n_jobs=8,\n",
       "              num_parallel_tree=1, predictor=&#x27;auto&#x27;, random_state=0,\n",
       "              reg_alpha=0, reg_lambda=1, scale_pos_weight=1, subsample=1,\n",
       "              tree_method=&#x27;exact&#x27;, validate_parameters=1, verbosity=None)</pre><b>In a Jupyter environment, please rerun this cell to show the HTML representation or trust the notebook. <br />On GitHub, the HTML representation is unable to render, please try loading this page with nbviewer.org.</b></div><div class=\"sk-container\" hidden><div class=\"sk-item\"><div class=\"sk-estimator sk-toggleable\"><input class=\"sk-toggleable__control sk-hidden--visually\" id=\"sk-estimator-id-47\" type=\"checkbox\" checked><label for=\"sk-estimator-id-47\" class=\"sk-toggleable__label sk-toggleable__label-arrow\">XGBClassifier</label><div class=\"sk-toggleable__content\"><pre>XGBClassifier(base_score=0.5, booster=&#x27;gbtree&#x27;, colsample_bylevel=1,\n",
       "              colsample_bynode=1, colsample_bytree=1, enable_categorical=False,\n",
       "              gamma=0, gpu_id=-1, importance_type=None,\n",
       "              interaction_constraints=&#x27;&#x27;, learning_rate=0.300000012,\n",
       "              max_delta_step=0, max_depth=6, min_child_weight=1, missing=nan,\n",
       "              monotone_constraints=&#x27;()&#x27;, n_estimators=100, n_jobs=8,\n",
       "              num_parallel_tree=1, predictor=&#x27;auto&#x27;, random_state=0,\n",
       "              reg_alpha=0, reg_lambda=1, scale_pos_weight=1, subsample=1,\n",
       "              tree_method=&#x27;exact&#x27;, validate_parameters=1, verbosity=None)</pre></div></div></div></div></div>"
      ],
      "text/plain": [
       "XGBClassifier(base_score=0.5, booster='gbtree', colsample_bylevel=1,\n",
       "              colsample_bynode=1, colsample_bytree=1, enable_categorical=False,\n",
       "              gamma=0, gpu_id=-1, importance_type=None,\n",
       "              interaction_constraints='', learning_rate=0.300000012,\n",
       "              max_delta_step=0, max_depth=6, min_child_weight=1, missing=nan,\n",
       "              monotone_constraints='()', n_estimators=100, n_jobs=8,\n",
       "              num_parallel_tree=1, predictor='auto', random_state=0,\n",
       "              reg_alpha=0, reg_lambda=1, scale_pos_weight=1, subsample=1,\n",
       "              tree_method='exact', validate_parameters=1, verbosity=None)"
      ]
     },
     "execution_count": 147,
     "metadata": {},
     "output_type": "execute_result"
    }
   ],
   "source": [
    "model = XGBClassifier()\n",
    "model.fit(X_train, y_train)"
   ]
  },
  {
   "cell_type": "code",
   "execution_count": 148,
   "id": "89e70dec",
   "metadata": {},
   "outputs": [],
   "source": [
    "y_pred_xg = model.predict(X_test)"
   ]
  },
  {
   "cell_type": "code",
   "execution_count": 149,
   "id": "0fba30c5",
   "metadata": {},
   "outputs": [
    {
     "data": {
      "text/plain": [
       "array([[125,  19],\n",
       "       [ 40,  16]])"
      ]
     },
     "execution_count": 149,
     "metadata": {},
     "output_type": "execute_result"
    }
   ],
   "source": [
    "confusion_matrix(y_test, y_pred_xg)"
   ]
  },
  {
   "cell_type": "code",
   "execution_count": 150,
   "id": "fc3b9257",
   "metadata": {},
   "outputs": [
    {
     "data": {
      "text/plain": [
       "<AxesSubplot:>"
      ]
     },
     "execution_count": 150,
     "metadata": {},
     "output_type": "execute_result"
    },
    {
     "data": {
      "image/png": "[encoded data removed]",
      "text/plain": [
       "<Figure size 432x288 with 2 Axes>"
      ]
     },
     "metadata": {
      "needs_background": "light"
     },
     "output_type": "display_data"
    }
   ],
   "source": [
    "cf = confusion_matrix(y_test, y_pred_xg)\n",
    "sns.heatmap(cf/np.sum(cf), annot=True, \n",
    "            fmt='.2%', cmap='Blues')"
   ]
  },
  {
   "cell_type": "code",
   "execution_count": 151,
   "id": "9cb8bb50",
   "metadata": {},
   "outputs": [
    {
     "name": "stdout",
     "output_type": "stream",
     "text": [
      "              precision    recall  f1-score   support\n",
      "\n",
      "           0       0.76      0.87      0.81       144\n",
      "           1       0.46      0.29      0.35        56\n",
      "\n",
      "    accuracy                           0.70       200\n",
      "   macro avg       0.61      0.58      0.58       200\n",
      "weighted avg       0.67      0.70      0.68       200\n",
      "\n"
     ]
    }
   ],
   "source": [
    "print(classification_report(y_test, y_pred_xg))"
   ]
  },
  {
   "cell_type": "code",
   "execution_count": 152,
   "id": "a386b74e",
   "metadata": {
    "scrolled": true
   },
   "outputs": [
    {
     "name": "stdout",
     "output_type": "stream",
     "text": [
      "Accuracy of XGB model without hyperparameter tuning:  0.705\n"
     ]
    }
   ],
   "source": [
    "print('Accuracy of XGB model without hyperparameter tuning: ', accuracy_score(y_test, y_pred_xg))"
   ]
  },
  {
   "cell_type": "markdown",
   "id": "96b58bc9",
   "metadata": {},
   "source": [
    "### With hyperparameter tuning and using SMOTE"
   ]
  },
  {
   "cell_type": "code",
   "execution_count": 153,
   "id": "eb4ad86b",
   "metadata": {},
   "outputs": [],
   "source": [
    "xg_params = {\"xgbclassifier__learning_rate\"    : [0.05, 0.10, 0.15, 0.20, 0.25, 0.30 ] ,\n",
    "             \"xgbclassifier__max_depth\"        : [ 3, 4, 5, 6, 8, 10, 12, 15],\n",
    "             \"xgbclassifier__min_child_weight\" : [ 1, 3, 5, 7 ],\n",
    "             \"xgbclassifier__gamma\"            : [ 0.0, 0.1, 0.2 , 0.3, 0.4 ],\n",
    "             \"xgbclassifier__colsample_bytree\" : [ 0.3, 0.4, 0.5 , 0.7 ] }"
   ]
  },
  {
   "cell_type": "code",
   "execution_count": 154,
   "id": "bbf4375f",
   "metadata": {
    "scrolled": true
   },
   "outputs": [
    {
     "name": "stdout",
     "output_type": "stream",
     "text": [
      "Fitting 5 folds for each of 10 candidates, totalling 50 fits\n",
      "[CV 1/5; 1/10] START xgbclassifier__colsample_bytree=0.5, xgbclassifier__gamma=0.1, xgbclassifier__learning_rate=0.15, xgbclassifier__max_depth=12, xgbclassifier__min_child_weight=5\n",
      "[17:51:14] WARNING: /Users/runner/miniforge3/conda-bld/xgboost-split_1645117899018/work/src/learner.cc:1115: Starting in XGBoost 1.3.0, the default evaluation metric used with the objective 'binary:logistic' was changed from 'error' to 'logloss'. Explicitly set eval_metric if you'd like to restore the old behavior.\n",
      "[CV 1/5; 1/10] END xgbclassifier__colsample_bytree=0.5, xgbclassifier__gamma=0.1, xgbclassifier__learning_rate=0.15, xgbclassifier__max_depth=12, xgbclassifier__min_child_weight=5;, score=(train=0.906, test=0.429) total time=   0.3s\n",
      "[CV 2/5; 1/10] START xgbclassifier__colsample_bytree=0.5, xgbclassifier__gamma=0.1, xgbclassifier__learning_rate=0.15, xgbclassifier__max_depth=12, xgbclassifier__min_child_weight=5\n",
      "[17:51:15] WARNING: /Users/runner/miniforge3/conda-bld/xgboost-split_1645117899018/work/src/learner.cc:1115: Starting in XGBoost 1.3.0, the default evaluation metric used with the objective 'binary:logistic' was changed from 'error' to 'logloss'. Explicitly set eval_metric if you'd like to restore the old behavior.\n",
      "[CV 2/5; 1/10] END xgbclassifier__colsample_bytree=0.5, xgbclassifier__gamma=0.1, xgbclassifier__learning_rate=0.15, xgbclassifier__max_depth=12, xgbclassifier__min_child_weight=5;, score=(train=0.874, test=0.356) total time=   0.3s\n",
      "[CV 3/5; 1/10] START xgbclassifier__colsample_bytree=0.5, xgbclassifier__gamma=0.1, xgbclassifier__learning_rate=0.15, xgbclassifier__max_depth=12, xgbclassifier__min_child_weight=5\n",
      "[17:51:15] WARNING: /Users/runner/miniforge3/conda-bld/xgboost-split_1645117899018/work/src/learner.cc:1115: Starting in XGBoost 1.3.0, the default evaluation metric used with the objective 'binary:logistic' was changed from 'error' to 'logloss'. Explicitly set eval_metric if you'd like to restore the old behavior.\n",
      "[CV 3/5; 1/10] END xgbclassifier__colsample_bytree=0.5, xgbclassifier__gamma=0.1, xgbclassifier__learning_rate=0.15, xgbclassifier__max_depth=12, xgbclassifier__min_child_weight=5;, score=(train=0.866, test=0.351) total time=   0.3s\n",
      "[CV 4/5; 1/10] START xgbclassifier__colsample_bytree=0.5, xgbclassifier__gamma=0.1, xgbclassifier__learning_rate=0.15, xgbclassifier__max_depth=12, xgbclassifier__min_child_weight=5\n",
      "[17:51:15] WARNING: /Users/runner/miniforge3/conda-bld/xgboost-split_1645117899018/work/src/learner.cc:1115: Starting in XGBoost 1.3.0, the default evaluation metric used with the objective 'binary:logistic' was changed from 'error' to 'logloss'. Explicitly set eval_metric if you'd like to restore the old behavior.\n",
      "[CV 4/5; 1/10] END xgbclassifier__colsample_bytree=0.5, xgbclassifier__gamma=0.1, xgbclassifier__learning_rate=0.15, xgbclassifier__max_depth=12, xgbclassifier__min_child_weight=5;, score=(train=0.856, test=0.531) total time=   0.3s\n",
      "[CV 5/5; 1/10] START xgbclassifier__colsample_bytree=0.5, xgbclassifier__gamma=0.1, xgbclassifier__learning_rate=0.15, xgbclassifier__max_depth=12, xgbclassifier__min_child_weight=5\n",
      "[17:51:15] WARNING: /Users/runner/miniforge3/conda-bld/xgboost-split_1645117899018/work/src/learner.cc:1115: Starting in XGBoost 1.3.0, the default evaluation metric used with the objective 'binary:logistic' was changed from 'error' to 'logloss'. Explicitly set eval_metric if you'd like to restore the old behavior.\n",
      "[CV 5/5; 1/10] END xgbclassifier__colsample_bytree=0.5, xgbclassifier__gamma=0.1, xgbclassifier__learning_rate=0.15, xgbclassifier__max_depth=12, xgbclassifier__min_child_weight=5;, score=(train=0.870, test=0.471) total time=   0.3s\n",
      "[CV 1/5; 2/10] START xgbclassifier__colsample_bytree=0.4, xgbclassifier__gamma=0.0, xgbclassifier__learning_rate=0.05, xgbclassifier__max_depth=5, xgbclassifier__min_child_weight=7\n",
      "[17:51:16] WARNING: /Users/runner/miniforge3/conda-bld/xgboost-split_1645117899018/work/src/learner.cc:1115: Starting in XGBoost 1.3.0, the default evaluation metric used with the objective 'binary:logistic' was changed from 'error' to 'logloss'. Explicitly set eval_metric if you'd like to restore the old behavior.\n",
      "[CV 1/5; 2/10] END xgbclassifier__colsample_bytree=0.4, xgbclassifier__gamma=0.0, xgbclassifier__learning_rate=0.05, xgbclassifier__max_depth=5, xgbclassifier__min_child_weight=7;, score=(train=0.619, test=0.405) total time=   0.2s\n",
      "[CV 2/5; 2/10] START xgbclassifier__colsample_bytree=0.4, xgbclassifier__gamma=0.0, xgbclassifier__learning_rate=0.05, xgbclassifier__max_depth=5, xgbclassifier__min_child_weight=7\n",
      "[17:51:16] WARNING: /Users/runner/miniforge3/conda-bld/xgboost-split_1645117899018/work/src/learner.cc:1115: Starting in XGBoost 1.3.0, the default evaluation metric used with the objective 'binary:logistic' was changed from 'error' to 'logloss'. Explicitly set eval_metric if you'd like to restore the old behavior.\n",
      "[CV 2/5; 2/10] END xgbclassifier__colsample_bytree=0.4, xgbclassifier__gamma=0.0, xgbclassifier__learning_rate=0.05, xgbclassifier__max_depth=5, xgbclassifier__min_child_weight=7;, score=(train=0.603, test=0.289) total time=   0.2s\n",
      "[CV 3/5; 2/10] START xgbclassifier__colsample_bytree=0.4, xgbclassifier__gamma=0.0, xgbclassifier__learning_rate=0.05, xgbclassifier__max_depth=5, xgbclassifier__min_child_weight=7\n",
      "[17:51:16] WARNING: /Users/runner/miniforge3/conda-bld/xgboost-split_1645117899018/work/src/learner.cc:1115: Starting in XGBoost 1.3.0, the default evaluation metric used with the objective 'binary:logistic' was changed from 'error' to 'logloss'. Explicitly set eval_metric if you'd like to restore the old behavior.\n",
      "[CV 3/5; 2/10] END xgbclassifier__colsample_bytree=0.4, xgbclassifier__gamma=0.0, xgbclassifier__learning_rate=0.05, xgbclassifier__max_depth=5, xgbclassifier__min_child_weight=7;, score=(train=0.588, test=0.333) total time=   0.2s\n",
      "[CV 4/5; 2/10] START xgbclassifier__colsample_bytree=0.4, xgbclassifier__gamma=0.0, xgbclassifier__learning_rate=0.05, xgbclassifier__max_depth=5, xgbclassifier__min_child_weight=7\n",
      "[17:51:16] WARNING: /Users/runner/miniforge3/conda-bld/xgboost-split_1645117899018/work/src/learner.cc:1115: Starting in XGBoost 1.3.0, the default evaluation metric used with the objective 'binary:logistic' was changed from 'error' to 'logloss'. Explicitly set eval_metric if you'd like to restore the old behavior.\n",
      "[CV 4/5; 2/10] END xgbclassifier__colsample_bytree=0.4, xgbclassifier__gamma=0.0, xgbclassifier__learning_rate=0.05, xgbclassifier__max_depth=5, xgbclassifier__min_child_weight=7;, score=(train=0.610, test=0.429) total time=   0.2s\n",
      "[CV 5/5; 2/10] START xgbclassifier__colsample_bytree=0.4, xgbclassifier__gamma=0.0, xgbclassifier__learning_rate=0.05, xgbclassifier__max_depth=5, xgbclassifier__min_child_weight=7\n",
      "[17:51:17] WARNING: /Users/runner/miniforge3/conda-bld/xgboost-split_1645117899018/work/src/learner.cc:1115: Starting in XGBoost 1.3.0, the default evaluation metric used with the objective 'binary:logistic' was changed from 'error' to 'logloss'. Explicitly set eval_metric if you'd like to restore the old behavior.\n",
      "[CV 5/5; 2/10] END xgbclassifier__colsample_bytree=0.4, xgbclassifier__gamma=0.0, xgbclassifier__learning_rate=0.05, xgbclassifier__max_depth=5, xgbclassifier__min_child_weight=7;, score=(train=0.544, test=0.451) total time=   0.2s\n",
      "[CV 1/5; 3/10] START xgbclassifier__colsample_bytree=0.7, xgbclassifier__gamma=0.0, xgbclassifier__learning_rate=0.15, xgbclassifier__max_depth=6, xgbclassifier__min_child_weight=1\n",
      "[17:51:17] WARNING: /Users/runner/miniforge3/conda-bld/xgboost-split_1645117899018/work/src/learner.cc:1115: Starting in XGBoost 1.3.0, the default evaluation metric used with the objective 'binary:logistic' was changed from 'error' to 'logloss'. Explicitly set eval_metric if you'd like to restore the old behavior.\n",
      "[CV 1/5; 3/10] END xgbclassifier__colsample_bytree=0.7, xgbclassifier__gamma=0.0, xgbclassifier__learning_rate=0.15, xgbclassifier__max_depth=6, xgbclassifier__min_child_weight=1;, score=(train=0.975, test=0.405) total time=   0.2s\n",
      "[CV 2/5; 3/10] START xgbclassifier__colsample_bytree=0.7, xgbclassifier__gamma=0.0, xgbclassifier__learning_rate=0.15, xgbclassifier__max_depth=6, xgbclassifier__min_child_weight=1\n",
      "[17:51:17] WARNING: /Users/runner/miniforge3/conda-bld/xgboost-split_1645117899018/work/src/learner.cc:1115: Starting in XGBoost 1.3.0, the default evaluation metric used with the objective 'binary:logistic' was changed from 'error' to 'logloss'. Explicitly set eval_metric if you'd like to restore the old behavior.\n",
      "[CV 2/5; 3/10] END xgbclassifier__colsample_bytree=0.7, xgbclassifier__gamma=0.0, xgbclassifier__learning_rate=0.15, xgbclassifier__max_depth=6, xgbclassifier__min_child_weight=1;, score=(train=0.980, test=0.356) total time=   0.2s\n",
      "[CV 3/5; 3/10] START xgbclassifier__colsample_bytree=0.7, xgbclassifier__gamma=0.0, xgbclassifier__learning_rate=0.15, xgbclassifier__max_depth=6, xgbclassifier__min_child_weight=1\n",
      "[17:51:17] WARNING: /Users/runner/miniforge3/conda-bld/xgboost-split_1645117899018/work/src/learner.cc:1115: Starting in XGBoost 1.3.0, the default evaluation metric used with the objective 'binary:logistic' was changed from 'error' to 'logloss'. Explicitly set eval_metric if you'd like to restore the old behavior.\n",
      "[CV 3/5; 3/10] END xgbclassifier__colsample_bytree=0.7, xgbclassifier__gamma=0.0, xgbclassifier__learning_rate=0.15, xgbclassifier__max_depth=6, xgbclassifier__min_child_weight=1;, score=(train=0.973, test=0.386) total time=   0.3s\n",
      "[CV 4/5; 3/10] START xgbclassifier__colsample_bytree=0.7, xgbclassifier__gamma=0.0, xgbclassifier__learning_rate=0.15, xgbclassifier__max_depth=6, xgbclassifier__min_child_weight=1\n",
      "[17:51:18] WARNING: /Users/runner/miniforge3/conda-bld/xgboost-split_1645117899018/work/src/learner.cc:1115: Starting in XGBoost 1.3.0, the default evaluation metric used with the objective 'binary:logistic' was changed from 'error' to 'logloss'. Explicitly set eval_metric if you'd like to restore the old behavior.\n",
      "[CV 4/5; 3/10] END xgbclassifier__colsample_bytree=0.7, xgbclassifier__gamma=0.0, xgbclassifier__learning_rate=0.15, xgbclassifier__max_depth=6, xgbclassifier__min_child_weight=1;, score=(train=0.964, test=0.510) total time=   0.3s\n",
      "[CV 5/5; 3/10] START xgbclassifier__colsample_bytree=0.7, xgbclassifier__gamma=0.0, xgbclassifier__learning_rate=0.15, xgbclassifier__max_depth=6, xgbclassifier__min_child_weight=1\n",
      "[17:51:18] WARNING: /Users/runner/miniforge3/conda-bld/xgboost-split_1645117899018/work/src/learner.cc:1115: Starting in XGBoost 1.3.0, the default evaluation metric used with the objective 'binary:logistic' was changed from 'error' to 'logloss'. Explicitly set eval_metric if you'd like to restore the old behavior.\n",
      "[CV 5/5; 3/10] END xgbclassifier__colsample_bytree=0.7, xgbclassifier__gamma=0.0, xgbclassifier__learning_rate=0.15, xgbclassifier__max_depth=6, xgbclassifier__min_child_weight=1;, score=(train=0.974, test=0.451) total time=   0.3s\n",
      "[CV 1/5; 4/10] START xgbclassifier__colsample_bytree=0.5, xgbclassifier__gamma=0.1, xgbclassifier__learning_rate=0.3, xgbclassifier__max_depth=3, xgbclassifier__min_child_weight=3\n",
      "[17:51:18] WARNING: /Users/runner/miniforge3/conda-bld/xgboost-split_1645117899018/work/src/learner.cc:1115: Starting in XGBoost 1.3.0, the default evaluation metric used with the objective 'binary:logistic' was changed from 'error' to 'logloss'. Explicitly set eval_metric if you'd like to restore the old behavior.\n",
      "[CV 1/5; 4/10] END xgbclassifier__colsample_bytree=0.5, xgbclassifier__gamma=0.1, xgbclassifier__learning_rate=0.3, xgbclassifier__max_depth=3, xgbclassifier__min_child_weight=3;, score=(train=0.807, test=0.405) total time=   0.1s\n",
      "[CV 2/5; 4/10] START xgbclassifier__colsample_bytree=0.5, xgbclassifier__gamma=0.1, xgbclassifier__learning_rate=0.3, xgbclassifier__max_depth=3, xgbclassifier__min_child_weight=3\n",
      "[17:51:18] WARNING: /Users/runner/miniforge3/conda-bld/xgboost-split_1645117899018/work/src/learner.cc:1115: Starting in XGBoost 1.3.0, the default evaluation metric used with the objective 'binary:logistic' was changed from 'error' to 'logloss'. Explicitly set eval_metric if you'd like to restore the old behavior.\n",
      "[CV 2/5; 4/10] END xgbclassifier__colsample_bytree=0.5, xgbclassifier__gamma=0.1, xgbclassifier__learning_rate=0.3, xgbclassifier__max_depth=3, xgbclassifier__min_child_weight=3;, score=(train=0.804, test=0.422) total time=   0.1s\n",
      "[CV 3/5; 4/10] START xgbclassifier__colsample_bytree=0.5, xgbclassifier__gamma=0.1, xgbclassifier__learning_rate=0.3, xgbclassifier__max_depth=3, xgbclassifier__min_child_weight=3\n",
      "[17:51:18] WARNING: /Users/runner/miniforge3/conda-bld/xgboost-split_1645117899018/work/src/learner.cc:1115: Starting in XGBoost 1.3.0, the default evaluation metric used with the objective 'binary:logistic' was changed from 'error' to 'logloss'. Explicitly set eval_metric if you'd like to restore the old behavior.\n",
      "[CV 3/5; 4/10] END xgbclassifier__colsample_bytree=0.5, xgbclassifier__gamma=0.1, xgbclassifier__learning_rate=0.3, xgbclassifier__max_depth=3, xgbclassifier__min_child_weight=3;, score=(train=0.791, test=0.439) total time=   0.2s\n",
      "[CV 4/5; 4/10] START xgbclassifier__colsample_bytree=0.5, xgbclassifier__gamma=0.1, xgbclassifier__learning_rate=0.3, xgbclassifier__max_depth=3, xgbclassifier__min_child_weight=3\n",
      "[17:51:19] WARNING: /Users/runner/miniforge3/conda-bld/xgboost-split_1645117899018/work/src/learner.cc:1115: Starting in XGBoost 1.3.0, the default evaluation metric used with the objective 'binary:logistic' was changed from 'error' to 'logloss'. Explicitly set eval_metric if you'd like to restore the old behavior.\n",
      "[CV 4/5; 4/10] END xgbclassifier__colsample_bytree=0.5, xgbclassifier__gamma=0.1, xgbclassifier__learning_rate=0.3, xgbclassifier__max_depth=3, xgbclassifier__min_child_weight=3;, score=(train=0.800, test=0.510) total time=   0.1s\n",
      "[CV 5/5; 4/10] START xgbclassifier__colsample_bytree=0.5, xgbclassifier__gamma=0.1, xgbclassifier__learning_rate=0.3, xgbclassifier__max_depth=3, xgbclassifier__min_child_weight=3\n",
      "[17:51:19] WARNING: /Users/runner/miniforge3/conda-bld/xgboost-split_1645117899018/work/src/learner.cc:1115: Starting in XGBoost 1.3.0, the default evaluation metric used with the objective 'binary:logistic' was changed from 'error' to 'logloss'. Explicitly set eval_metric if you'd like to restore the old behavior.\n",
      "[CV 5/5; 4/10] END xgbclassifier__colsample_bytree=0.5, xgbclassifier__gamma=0.1, xgbclassifier__learning_rate=0.3, xgbclassifier__max_depth=3, xgbclassifier__min_child_weight=3;, score=(train=0.798, test=0.431) total time=   0.1s\n",
      "[CV 1/5; 5/10] START xgbclassifier__colsample_bytree=0.3, xgbclassifier__gamma=0.3, xgbclassifier__learning_rate=0.2, xgbclassifier__max_depth=8, xgbclassifier__min_child_weight=3\n",
      "[17:51:19] WARNING: /Users/runner/miniforge3/conda-bld/xgboost-split_1645117899018/work/src/learner.cc:1115: Starting in XGBoost 1.3.0, the default evaluation metric used with the objective 'binary:logistic' was changed from 'error' to 'logloss'. Explicitly set eval_metric if you'd like to restore the old behavior.\n",
      "[CV 1/5; 5/10] END xgbclassifier__colsample_bytree=0.3, xgbclassifier__gamma=0.3, xgbclassifier__learning_rate=0.2, xgbclassifier__max_depth=8, xgbclassifier__min_child_weight=3;, score=(train=0.901, test=0.405) total time=   0.3s\n",
      "[CV 2/5; 5/10] START xgbclassifier__colsample_bytree=0.3, xgbclassifier__gamma=0.3, xgbclassifier__learning_rate=0.2, xgbclassifier__max_depth=8, xgbclassifier__min_child_weight=3\n",
      "[17:51:19] WARNING: /Users/runner/miniforge3/conda-bld/xgboost-split_1645117899018/work/src/learner.cc:1115: Starting in XGBoost 1.3.0, the default evaluation metric used with the objective 'binary:logistic' was changed from 'error' to 'logloss'. Explicitly set eval_metric if you'd like to restore the old behavior.\n",
      "[CV 2/5; 5/10] END xgbclassifier__colsample_bytree=0.3, xgbclassifier__gamma=0.3, xgbclassifier__learning_rate=0.2, xgbclassifier__max_depth=8, xgbclassifier__min_child_weight=3;, score=(train=0.894, test=0.356) total time=   0.2s\n",
      "[CV 3/5; 5/10] START xgbclassifier__colsample_bytree=0.3, xgbclassifier__gamma=0.3, xgbclassifier__learning_rate=0.2, xgbclassifier__max_depth=8, xgbclassifier__min_child_weight=3\n",
      "[17:51:19] WARNING: /Users/runner/miniforge3/conda-bld/xgboost-split_1645117899018/work/src/learner.cc:1115: Starting in XGBoost 1.3.0, the default evaluation metric used with the objective 'binary:logistic' was changed from 'error' to 'logloss'. Explicitly set eval_metric if you'd like to restore the old behavior.\n",
      "[CV 3/5; 5/10] END xgbclassifier__colsample_bytree=0.3, xgbclassifier__gamma=0.3, xgbclassifier__learning_rate=0.2, xgbclassifier__max_depth=8, xgbclassifier__min_child_weight=3;, score=(train=0.898, test=0.368) total time=   0.2s\n",
      "[CV 4/5; 5/10] START xgbclassifier__colsample_bytree=0.3, xgbclassifier__gamma=0.3, xgbclassifier__learning_rate=0.2, xgbclassifier__max_depth=8, xgbclassifier__min_child_weight=3\n",
      "[17:51:20] WARNING: /Users/runner/miniforge3/conda-bld/xgboost-split_1645117899018/work/src/learner.cc:1115: Starting in XGBoost 1.3.0, the default evaluation metric used with the objective 'binary:logistic' was changed from 'error' to 'logloss'. Explicitly set eval_metric if you'd like to restore the old behavior.\n",
      "[CV 4/5; 5/10] END xgbclassifier__colsample_bytree=0.3, xgbclassifier__gamma=0.3, xgbclassifier__learning_rate=0.2, xgbclassifier__max_depth=8, xgbclassifier__min_child_weight=3;, score=(train=0.867, test=0.388) total time=   0.2s\n",
      "[CV 5/5; 5/10] START xgbclassifier__colsample_bytree=0.3, xgbclassifier__gamma=0.3, xgbclassifier__learning_rate=0.2, xgbclassifier__max_depth=8, xgbclassifier__min_child_weight=3\n",
      "[17:51:20] WARNING: /Users/runner/miniforge3/conda-bld/xgboost-split_1645117899018/work/src/learner.cc:1115: Starting in XGBoost 1.3.0, the default evaluation metric used with the objective 'binary:logistic' was changed from 'error' to 'logloss'. Explicitly set eval_metric if you'd like to restore the old behavior.\n",
      "[CV 5/5; 5/10] END xgbclassifier__colsample_bytree=0.3, xgbclassifier__gamma=0.3, xgbclassifier__learning_rate=0.2, xgbclassifier__max_depth=8, xgbclassifier__min_child_weight=3;, score=(train=0.886, test=0.490) total time=   0.2s\n",
      "[CV 1/5; 6/10] START xgbclassifier__colsample_bytree=0.5, xgbclassifier__gamma=0.3, xgbclassifier__learning_rate=0.1, xgbclassifier__max_depth=8, xgbclassifier__min_child_weight=3\n",
      "[17:51:20] WARNING: /Users/runner/miniforge3/conda-bld/xgboost-split_1645117899018/work/src/learner.cc:1115: Starting in XGBoost 1.3.0, the default evaluation metric used with the objective 'binary:logistic' was changed from 'error' to 'logloss'. Explicitly set eval_metric if you'd like to restore the old behavior.\n",
      "[CV 1/5; 6/10] END xgbclassifier__colsample_bytree=0.5, xgbclassifier__gamma=0.3, xgbclassifier__learning_rate=0.1, xgbclassifier__max_depth=8, xgbclassifier__min_child_weight=3;, score=(train=0.896, test=0.381) total time=   0.3s\n",
      "[CV 2/5; 6/10] START xgbclassifier__colsample_bytree=0.5, xgbclassifier__gamma=0.3, xgbclassifier__learning_rate=0.1, xgbclassifier__max_depth=8, xgbclassifier__min_child_weight=3\n",
      "[17:51:20] WARNING: /Users/runner/miniforge3/conda-bld/xgboost-split_1645117899018/work/src/learner.cc:1115: Starting in XGBoost 1.3.0, the default evaluation metric used with the objective 'binary:logistic' was changed from 'error' to 'logloss'. Explicitly set eval_metric if you'd like to restore the old behavior.\n",
      "[CV 2/5; 6/10] END xgbclassifier__colsample_bytree=0.5, xgbclassifier__gamma=0.3, xgbclassifier__learning_rate=0.1, xgbclassifier__max_depth=8, xgbclassifier__min_child_weight=3;, score=(train=0.905, test=0.333) total time=   0.2s\n",
      "[CV 3/5; 6/10] START xgbclassifier__colsample_bytree=0.5, xgbclassifier__gamma=0.3, xgbclassifier__learning_rate=0.1, xgbclassifier__max_depth=8, xgbclassifier__min_child_weight=3\n",
      "[17:51:21] WARNING: /Users/runner/miniforge3/conda-bld/xgboost-split_1645117899018/work/src/learner.cc:1115: Starting in XGBoost 1.3.0, the default evaluation metric used with the objective 'binary:logistic' was changed from 'error' to 'logloss'. Explicitly set eval_metric if you'd like to restore the old behavior.\n",
      "[CV 3/5; 6/10] END xgbclassifier__colsample_bytree=0.5, xgbclassifier__gamma=0.3, xgbclassifier__learning_rate=0.1, xgbclassifier__max_depth=8, xgbclassifier__min_child_weight=3;, score=(train=0.872, test=0.351) total time=   0.3s\n",
      "[CV 4/5; 6/10] START xgbclassifier__colsample_bytree=0.5, xgbclassifier__gamma=0.3, xgbclassifier__learning_rate=0.1, xgbclassifier__max_depth=8, xgbclassifier__min_child_weight=3\n",
      "[17:51:21] WARNING: /Users/runner/miniforge3/conda-bld/xgboost-split_1645117899018/work/src/learner.cc:1115: Starting in XGBoost 1.3.0, the default evaluation metric used with the objective 'binary:logistic' was changed from 'error' to 'logloss'. Explicitly set eval_metric if you'd like to restore the old behavior.\n",
      "[CV 4/5; 6/10] END xgbclassifier__colsample_bytree=0.5, xgbclassifier__gamma=0.3, xgbclassifier__learning_rate=0.1, xgbclassifier__max_depth=8, xgbclassifier__min_child_weight=3;, score=(train=0.892, test=0.510) total time=   0.3s\n",
      "[CV 5/5; 6/10] START xgbclassifier__colsample_bytree=0.5, xgbclassifier__gamma=0.3, xgbclassifier__learning_rate=0.1, xgbclassifier__max_depth=8, xgbclassifier__min_child_weight=3\n",
      "[17:51:21] WARNING: /Users/runner/miniforge3/conda-bld/xgboost-split_1645117899018/work/src/learner.cc:1115: Starting in XGBoost 1.3.0, the default evaluation metric used with the objective 'binary:logistic' was changed from 'error' to 'logloss'. Explicitly set eval_metric if you'd like to restore the old behavior.\n",
      "[CV 5/5; 6/10] END xgbclassifier__colsample_bytree=0.5, xgbclassifier__gamma=0.3, xgbclassifier__learning_rate=0.1, xgbclassifier__max_depth=8, xgbclassifier__min_child_weight=3;, score=(train=0.891, test=0.392) total time=   0.3s\n",
      "[CV 1/5; 7/10] START xgbclassifier__colsample_bytree=0.3, xgbclassifier__gamma=0.1, xgbclassifier__learning_rate=0.3, xgbclassifier__max_depth=8, xgbclassifier__min_child_weight=7\n",
      "[17:51:21] WARNING: /Users/runner/miniforge3/conda-bld/xgboost-split_1645117899018/work/src/learner.cc:1115: Starting in XGBoost 1.3.0, the default evaluation metric used with the objective 'binary:logistic' was changed from 'error' to 'logloss'. Explicitly set eval_metric if you'd like to restore the old behavior.\n",
      "[CV 1/5; 7/10] END xgbclassifier__colsample_bytree=0.3, xgbclassifier__gamma=0.1, xgbclassifier__learning_rate=0.3, xgbclassifier__max_depth=8, xgbclassifier__min_child_weight=7;, score=(train=0.812, test=0.429) total time=   0.2s\n",
      "[CV 2/5; 7/10] START xgbclassifier__colsample_bytree=0.3, xgbclassifier__gamma=0.1, xgbclassifier__learning_rate=0.3, xgbclassifier__max_depth=8, xgbclassifier__min_child_weight=7\n",
      "[17:51:22] WARNING: /Users/runner/miniforge3/conda-bld/xgboost-split_1645117899018/work/src/learner.cc:1115: Starting in XGBoost 1.3.0, the default evaluation metric used with the objective 'binary:logistic' was changed from 'error' to 'logloss'. Explicitly set eval_metric if you'd like to restore the old behavior.\n",
      "[CV 2/5; 7/10] END xgbclassifier__colsample_bytree=0.3, xgbclassifier__gamma=0.1, xgbclassifier__learning_rate=0.3, xgbclassifier__max_depth=8, xgbclassifier__min_child_weight=7;, score=(train=0.814, test=0.311) total time=   0.2s\n",
      "[CV 3/5; 7/10] START xgbclassifier__colsample_bytree=0.3, xgbclassifier__gamma=0.1, xgbclassifier__learning_rate=0.3, xgbclassifier__max_depth=8, xgbclassifier__min_child_weight=7\n",
      "[17:51:22] WARNING: /Users/runner/miniforge3/conda-bld/xgboost-split_1645117899018/work/src/learner.cc:1115: Starting in XGBoost 1.3.0, the default evaluation metric used with the objective 'binary:logistic' was changed from 'error' to 'logloss'. Explicitly set eval_metric if you'd like to restore the old behavior.\n",
      "[CV 3/5; 7/10] END xgbclassifier__colsample_bytree=0.3, xgbclassifier__gamma=0.1, xgbclassifier__learning_rate=0.3, xgbclassifier__max_depth=8, xgbclassifier__min_child_weight=7;, score=(train=0.813, test=0.386) total time=   0.2s\n",
      "[CV 4/5; 7/10] START xgbclassifier__colsample_bytree=0.3, xgbclassifier__gamma=0.1, xgbclassifier__learning_rate=0.3, xgbclassifier__max_depth=8, xgbclassifier__min_child_weight=7\n",
      "[17:51:22] WARNING: /Users/runner/miniforge3/conda-bld/xgboost-split_1645117899018/work/src/learner.cc:1115: Starting in XGBoost 1.3.0, the default evaluation metric used with the objective 'binary:logistic' was changed from 'error' to 'logloss'. Explicitly set eval_metric if you'd like to restore the old behavior.\n",
      "[CV 4/5; 7/10] END xgbclassifier__colsample_bytree=0.3, xgbclassifier__gamma=0.1, xgbclassifier__learning_rate=0.3, xgbclassifier__max_depth=8, xgbclassifier__min_child_weight=7;, score=(train=0.795, test=0.408) total time=   0.2s\n",
      "[CV 5/5; 7/10] START xgbclassifier__colsample_bytree=0.3, xgbclassifier__gamma=0.1, xgbclassifier__learning_rate=0.3, xgbclassifier__max_depth=8, xgbclassifier__min_child_weight=7\n",
      "[17:51:22] WARNING: /Users/runner/miniforge3/conda-bld/xgboost-split_1645117899018/work/src/learner.cc:1115: Starting in XGBoost 1.3.0, the default evaluation metric used with the objective 'binary:logistic' was changed from 'error' to 'logloss'. Explicitly set eval_metric if you'd like to restore the old behavior.\n",
      "[CV 5/5; 7/10] END xgbclassifier__colsample_bytree=0.3, xgbclassifier__gamma=0.1, xgbclassifier__learning_rate=0.3, xgbclassifier__max_depth=8, xgbclassifier__min_child_weight=7;, score=(train=0.777, test=0.431) total time=   0.2s\n",
      "[CV 1/5; 8/10] START xgbclassifier__colsample_bytree=0.3, xgbclassifier__gamma=0.2, xgbclassifier__learning_rate=0.2, xgbclassifier__max_depth=4, xgbclassifier__min_child_weight=3\n",
      "[17:51:22] WARNING: /Users/runner/miniforge3/conda-bld/xgboost-split_1645117899018/work/src/learner.cc:1115: Starting in XGBoost 1.3.0, the default evaluation metric used with the objective 'binary:logistic' was changed from 'error' to 'logloss'. Explicitly set eval_metric if you'd like to restore the old behavior.\n",
      "[CV 1/5; 8/10] END xgbclassifier__colsample_bytree=0.3, xgbclassifier__gamma=0.2, xgbclassifier__learning_rate=0.2, xgbclassifier__max_depth=4, xgbclassifier__min_child_weight=3;, score=(train=0.777, test=0.452) total time=   0.2s\n",
      "[CV 2/5; 8/10] START xgbclassifier__colsample_bytree=0.3, xgbclassifier__gamma=0.2, xgbclassifier__learning_rate=0.2, xgbclassifier__max_depth=4, xgbclassifier__min_child_weight=3\n",
      "[17:51:23] WARNING: /Users/runner/miniforge3/conda-bld/xgboost-split_1645117899018/work/src/learner.cc:1115: Starting in XGBoost 1.3.0, the default evaluation metric used with the objective 'binary:logistic' was changed from 'error' to 'logloss'. Explicitly set eval_metric if you'd like to restore the old behavior.\n",
      "[CV 2/5; 8/10] END xgbclassifier__colsample_bytree=0.3, xgbclassifier__gamma=0.2, xgbclassifier__learning_rate=0.2, xgbclassifier__max_depth=4, xgbclassifier__min_child_weight=3;, score=(train=0.774, test=0.356) total time=   0.2s\n",
      "[CV 3/5; 8/10] START xgbclassifier__colsample_bytree=0.3, xgbclassifier__gamma=0.2, xgbclassifier__learning_rate=0.2, xgbclassifier__max_depth=4, xgbclassifier__min_child_weight=3\n",
      "[17:51:23] WARNING: /Users/runner/miniforge3/conda-bld/xgboost-split_1645117899018/work/src/learner.cc:1115: Starting in XGBoost 1.3.0, the default evaluation metric used with the objective 'binary:logistic' was changed from 'error' to 'logloss'. Explicitly set eval_metric if you'd like to restore the old behavior.\n",
      "[CV 3/5; 8/10] END xgbclassifier__colsample_bytree=0.3, xgbclassifier__gamma=0.2, xgbclassifier__learning_rate=0.2, xgbclassifier__max_depth=4, xgbclassifier__min_child_weight=3;, score=(train=0.754, test=0.386) total time=   0.2s\n",
      "[CV 4/5; 8/10] START xgbclassifier__colsample_bytree=0.3, xgbclassifier__gamma=0.2, xgbclassifier__learning_rate=0.2, xgbclassifier__max_depth=4, xgbclassifier__min_child_weight=3\n",
      "[17:51:23] WARNING: /Users/runner/miniforge3/conda-bld/xgboost-split_1645117899018/work/src/learner.cc:1115: Starting in XGBoost 1.3.0, the default evaluation metric used with the objective 'binary:logistic' was changed from 'error' to 'logloss'. Explicitly set eval_metric if you'd like to restore the old behavior.\n",
      "[CV 4/5; 8/10] END xgbclassifier__colsample_bytree=0.3, xgbclassifier__gamma=0.2, xgbclassifier__learning_rate=0.2, xgbclassifier__max_depth=4, xgbclassifier__min_child_weight=3;, score=(train=0.733, test=0.469) total time=   0.2s\n",
      "[CV 5/5; 8/10] START xgbclassifier__colsample_bytree=0.3, xgbclassifier__gamma=0.2, xgbclassifier__learning_rate=0.2, xgbclassifier__max_depth=4, xgbclassifier__min_child_weight=3\n",
      "[17:51:23] WARNING: /Users/runner/miniforge3/conda-bld/xgboost-split_1645117899018/work/src/learner.cc:1115: Starting in XGBoost 1.3.0, the default evaluation metric used with the objective 'binary:logistic' was changed from 'error' to 'logloss'. Explicitly set eval_metric if you'd like to restore the old behavior.\n",
      "[CV 5/5; 8/10] END xgbclassifier__colsample_bytree=0.3, xgbclassifier__gamma=0.2, xgbclassifier__learning_rate=0.2, xgbclassifier__max_depth=4, xgbclassifier__min_child_weight=3;, score=(train=0.725, test=0.471) total time=   0.2s\n",
      "[CV 1/5; 9/10] START xgbclassifier__colsample_bytree=0.3, xgbclassifier__gamma=0.2, xgbclassifier__learning_rate=0.25, xgbclassifier__max_depth=12, xgbclassifier__min_child_weight=5\n",
      "[17:51:23] WARNING: /Users/runner/miniforge3/conda-bld/xgboost-split_1645117899018/work/src/learner.cc:1115: Starting in XGBoost 1.3.0, the default evaluation metric used with the objective 'binary:logistic' was changed from 'error' to 'logloss'. Explicitly set eval_metric if you'd like to restore the old behavior.\n",
      "[CV 1/5; 9/10] END xgbclassifier__colsample_bytree=0.3, xgbclassifier__gamma=0.2, xgbclassifier__learning_rate=0.25, xgbclassifier__max_depth=12, xgbclassifier__min_child_weight=5;, score=(train=0.866, test=0.357) total time=   0.3s\n",
      "[CV 2/5; 9/10] START xgbclassifier__colsample_bytree=0.3, xgbclassifier__gamma=0.2, xgbclassifier__learning_rate=0.25, xgbclassifier__max_depth=12, xgbclassifier__min_child_weight=5\n",
      "[17:51:24] WARNING: /Users/runner/miniforge3/conda-bld/xgboost-split_1645117899018/work/src/learner.cc:1115: Starting in XGBoost 1.3.0, the default evaluation metric used with the objective 'binary:logistic' was changed from 'error' to 'logloss'. Explicitly set eval_metric if you'd like to restore the old behavior.\n",
      "[CV 2/5; 9/10] END xgbclassifier__colsample_bytree=0.3, xgbclassifier__gamma=0.2, xgbclassifier__learning_rate=0.25, xgbclassifier__max_depth=12, xgbclassifier__min_child_weight=5;, score=(train=0.854, test=0.311) total time=   0.2s\n",
      "[CV 3/5; 9/10] START xgbclassifier__colsample_bytree=0.3, xgbclassifier__gamma=0.2, xgbclassifier__learning_rate=0.25, xgbclassifier__max_depth=12, xgbclassifier__min_child_weight=5\n",
      "[17:51:24] WARNING: /Users/runner/miniforge3/conda-bld/xgboost-split_1645117899018/work/src/learner.cc:1115: Starting in XGBoost 1.3.0, the default evaluation metric used with the objective 'binary:logistic' was changed from 'error' to 'logloss'. Explicitly set eval_metric if you'd like to restore the old behavior.\n",
      "[CV 3/5; 9/10] END xgbclassifier__colsample_bytree=0.3, xgbclassifier__gamma=0.2, xgbclassifier__learning_rate=0.25, xgbclassifier__max_depth=12, xgbclassifier__min_child_weight=5;, score=(train=0.856, test=0.404) total time=   0.2s\n",
      "[CV 4/5; 9/10] START xgbclassifier__colsample_bytree=0.3, xgbclassifier__gamma=0.2, xgbclassifier__learning_rate=0.25, xgbclassifier__max_depth=12, xgbclassifier__min_child_weight=5\n",
      "[17:51:24] WARNING: /Users/runner/miniforge3/conda-bld/xgboost-split_1645117899018/work/src/learner.cc:1115: Starting in XGBoost 1.3.0, the default evaluation metric used with the objective 'binary:logistic' was changed from 'error' to 'logloss'. Explicitly set eval_metric if you'd like to restore the old behavior.\n",
      "[CV 4/5; 9/10] END xgbclassifier__colsample_bytree=0.3, xgbclassifier__gamma=0.2, xgbclassifier__learning_rate=0.25, xgbclassifier__max_depth=12, xgbclassifier__min_child_weight=5;, score=(train=0.841, test=0.449) total time=   0.2s\n",
      "[CV 5/5; 9/10] START xgbclassifier__colsample_bytree=0.3, xgbclassifier__gamma=0.2, xgbclassifier__learning_rate=0.25, xgbclassifier__max_depth=12, xgbclassifier__min_child_weight=5\n",
      "[17:51:24] WARNING: /Users/runner/miniforge3/conda-bld/xgboost-split_1645117899018/work/src/learner.cc:1115: Starting in XGBoost 1.3.0, the default evaluation metric used with the objective 'binary:logistic' was changed from 'error' to 'logloss'. Explicitly set eval_metric if you'd like to restore the old behavior.\n",
      "[CV 5/5; 9/10] END xgbclassifier__colsample_bytree=0.3, xgbclassifier__gamma=0.2, xgbclassifier__learning_rate=0.25, xgbclassifier__max_depth=12, xgbclassifier__min_child_weight=5;, score=(train=0.855, test=0.451) total time=   0.3s\n",
      "[CV 1/5; 10/10] START xgbclassifier__colsample_bytree=0.4, xgbclassifier__gamma=0.4, xgbclassifier__learning_rate=0.1, xgbclassifier__max_depth=15, xgbclassifier__min_child_weight=5\n",
      "[17:51:25] WARNING: /Users/runner/miniforge3/conda-bld/xgboost-split_1645117899018/work/src/learner.cc:1115: Starting in XGBoost 1.3.0, the default evaluation metric used with the objective 'binary:logistic' was changed from 'error' to 'logloss'. Explicitly set eval_metric if you'd like to restore the old behavior.\n",
      "[CV 1/5; 10/10] END xgbclassifier__colsample_bytree=0.4, xgbclassifier__gamma=0.4, xgbclassifier__learning_rate=0.1, xgbclassifier__max_depth=15, xgbclassifier__min_child_weight=5;, score=(train=0.787, test=0.405) total time=   0.3s\n",
      "[CV 2/5; 10/10] START xgbclassifier__colsample_bytree=0.4, xgbclassifier__gamma=0.4, xgbclassifier__learning_rate=0.1, xgbclassifier__max_depth=15, xgbclassifier__min_child_weight=5\n",
      "[17:51:25] WARNING: /Users/runner/miniforge3/conda-bld/xgboost-split_1645117899018/work/src/learner.cc:1115: Starting in XGBoost 1.3.0, the default evaluation metric used with the objective 'binary:logistic' was changed from 'error' to 'logloss'. Explicitly set eval_metric if you'd like to restore the old behavior.\n",
      "[CV 2/5; 10/10] END xgbclassifier__colsample_bytree=0.4, xgbclassifier__gamma=0.4, xgbclassifier__learning_rate=0.1, xgbclassifier__max_depth=15, xgbclassifier__min_child_weight=5;, score=(train=0.814, test=0.378) total time=   0.3s\n",
      "[CV 3/5; 10/10] START xgbclassifier__colsample_bytree=0.4, xgbclassifier__gamma=0.4, xgbclassifier__learning_rate=0.1, xgbclassifier__max_depth=15, xgbclassifier__min_child_weight=5\n",
      "[17:51:25] WARNING: /Users/runner/miniforge3/conda-bld/xgboost-split_1645117899018/work/src/learner.cc:1115: Starting in XGBoost 1.3.0, the default evaluation metric used with the objective 'binary:logistic' was changed from 'error' to 'logloss'. Explicitly set eval_metric if you'd like to restore the old behavior.\n",
      "[CV 3/5; 10/10] END xgbclassifier__colsample_bytree=0.4, xgbclassifier__gamma=0.4, xgbclassifier__learning_rate=0.1, xgbclassifier__max_depth=15, xgbclassifier__min_child_weight=5;, score=(train=0.770, test=0.333) total time=   0.3s\n",
      "[CV 4/5; 10/10] START xgbclassifier__colsample_bytree=0.4, xgbclassifier__gamma=0.4, xgbclassifier__learning_rate=0.1, xgbclassifier__max_depth=15, xgbclassifier__min_child_weight=5\n",
      "[17:51:25] WARNING: /Users/runner/miniforge3/conda-bld/xgboost-split_1645117899018/work/src/learner.cc:1115: Starting in XGBoost 1.3.0, the default evaluation metric used with the objective 'binary:logistic' was changed from 'error' to 'logloss'. Explicitly set eval_metric if you'd like to restore the old behavior.\n",
      "[CV 4/5; 10/10] END xgbclassifier__colsample_bytree=0.4, xgbclassifier__gamma=0.4, xgbclassifier__learning_rate=0.1, xgbclassifier__max_depth=15, xgbclassifier__min_child_weight=5;, score=(train=0.779, test=0.469) total time=   0.3s\n",
      "[CV 5/5; 10/10] START xgbclassifier__colsample_bytree=0.4, xgbclassifier__gamma=0.4, xgbclassifier__learning_rate=0.1, xgbclassifier__max_depth=15, xgbclassifier__min_child_weight=5\n",
      "[17:51:26] WARNING: /Users/runner/miniforge3/conda-bld/xgboost-split_1645117899018/work/src/learner.cc:1115: Starting in XGBoost 1.3.0, the default evaluation metric used with the objective 'binary:logistic' was changed from 'error' to 'logloss'. Explicitly set eval_metric if you'd like to restore the old behavior.\n",
      "[CV 5/5; 10/10] END xgbclassifier__colsample_bytree=0.4, xgbclassifier__gamma=0.4, xgbclassifier__learning_rate=0.1, xgbclassifier__max_depth=15, xgbclassifier__min_child_weight=5;, score=(train=0.788, test=0.490) total time=   0.3s\n",
      "[17:51:26] WARNING: /Users/runner/miniforge3/conda-bld/xgboost-split_1645117899018/work/src/learner.cc:1115: Starting in XGBoost 1.3.0, the default evaluation metric used with the objective 'binary:logistic' was changed from 'error' to 'logloss'. Explicitly set eval_metric if you'd like to restore the old behavior.\n"
     ]
    },
    {
     "data": {
      "text/html": [
       "<style>#sk-container-id-16 {color: black;background-color: white;}#sk-container-id-16 pre{padding: 0;}#sk-container-id-16 div.sk-toggleable {background-color: white;}#sk-container-id-16 label.sk-toggleable__label {cursor: pointer;display: block;width: 100%;margin-bottom: 0;padding: 0.3em;box-sizing: border-box;text-align: center;}#sk-container-id-16 label.sk-toggleable__label-arrow:before {content: \"▸\";float: left;margin-right: 0.25em;color: #696969;}#sk-container-id-16 label.sk-toggleable__label-arrow:hover:before {color: black;}#sk-container-id-16 div.sk-estimator:hover label.sk-toggleable__label-arrow:before {color: black;}#sk-container-id-16 div.sk-toggleable__content {max-height: 0;max-width: 0;overflow: hidden;text-align: left;background-color: #f0f8ff;}#sk-container-id-16 div.sk-toggleable__content pre {margin: 0.2em;color: black;border-radius: 0.25em;background-color: #f0f8ff;}#sk-container-id-16 input.sk-toggleable__control:checked~div.sk-toggleable__content {max-height: 200px;max-width: 100%;overflow: auto;}#sk-container-id-16 input.sk-toggleable__control:checked~label.sk-toggleable__label-arrow:before {content: \"▾\";}#sk-container-id-16 div.sk-estimator input.sk-toggleable__control:checked~label.sk-toggleable__label {background-color: #d4ebff;}#sk-container-id-16 div.sk-label input.sk-toggleable__control:checked~label.sk-toggleable__label {background-color: #d4ebff;}#sk-container-id-16 input.sk-hidden--visually {border: 0;clip: rect(1px 1px 1px 1px);clip: rect(1px, 1px, 1px, 1px);height: 1px;margin: -1px;overflow: hidden;padding: 0;position: absolute;width: 1px;}#sk-container-id-16 div.sk-estimator {font-family: monospace;background-color: #f0f8ff;border: 1px dotted black;border-radius: 0.25em;box-sizing: border-box;margin-bottom: 0.5em;}#sk-container-id-16 div.sk-estimator:hover {background-color: #d4ebff;}#sk-container-id-16 div.sk-parallel-item::after {content: \"\";width: 100%;border-bottom: 1px solid gray;flex-grow: 1;}#sk-container-id-16 div.sk-label:hover label.sk-toggleable__label {background-color: #d4ebff;}#sk-container-id-16 div.sk-serial::before {content: \"\";position: absolute;border-left: 1px solid gray;box-sizing: border-box;top: 0;bottom: 0;left: 50%;z-index: 0;}#sk-container-id-16 div.sk-serial {display: flex;flex-direction: column;align-items: center;background-color: white;padding-right: 0.2em;padding-left: 0.2em;position: relative;}#sk-container-id-16 div.sk-item {position: relative;z-index: 1;}#sk-container-id-16 div.sk-parallel {display: flex;align-items: stretch;justify-content: center;background-color: white;position: relative;}#sk-container-id-16 div.sk-item::before, #sk-container-id-16 div.sk-parallel-item::before {content: \"\";position: absolute;border-left: 1px solid gray;box-sizing: border-box;top: 0;bottom: 0;left: 50%;z-index: -1;}#sk-container-id-16 div.sk-parallel-item {display: flex;flex-direction: column;z-index: 1;position: relative;background-color: white;}#sk-container-id-16 div.sk-parallel-item:first-child::after {align-self: flex-end;width: 50%;}#sk-container-id-16 div.sk-parallel-item:last-child::after {align-self: flex-start;width: 50%;}#sk-container-id-16 div.sk-parallel-item:only-child::after {width: 0;}#sk-container-id-16 div.sk-dashed-wrapped {border: 1px dashed gray;margin: 0 0.4em 0.5em 0.4em;box-sizing: border-box;padding-bottom: 0.4em;background-color: white;}#sk-container-id-16 div.sk-label label {font-family: monospace;font-weight: bold;display: inline-block;line-height: 1.2em;}#sk-container-id-16 div.sk-label-container {text-align: center;}#sk-container-id-16 div.sk-container {/* jupyter's `normalize.less` sets `[hidden] { display: none; }` but bootstrap.min.css set `[hidden] { display: none !important; }` so we also need the `!important` here to be able to override the default hidden behavior on the sphinx rendered scikit-learn.org. See: https://github.com/scikit-learn/scikit-learn/issues/21755 */display: inline-block !important;position: relative;}#sk-container-id-16 div.sk-text-repr-fallback {display: none;}</style><div id=\"sk-container-id-16\" class=\"sk-top-container\"><div class=\"sk-text-repr-fallback\"><pre>RandomizedSearchCV(cv=KFold(n_splits=5, random_state=None, shuffle=False),\n",
       "                   estimator=Pipeline(steps=[(&#x27;smote&#x27;, SMOTE(random_state=42)),\n",
       "                                             (&#x27;xgbclassifier&#x27;,\n",
       "                                              XGBClassifier(base_score=None,\n",
       "                                                            booster=None,\n",
       "                                                            colsample_bylevel=None,\n",
       "                                                            colsample_bynode=None,\n",
       "                                                            colsample_bytree=None,\n",
       "                                                            enable_categorical=False,\n",
       "                                                            gamma=None,\n",
       "                                                            gpu_id=None,\n",
       "                                                            importance_type=None,\n",
       "                                                            interaction_constraints...\n",
       "                                                            validate_parameters=None,\n",
       "                                                            verbosity=None))]),\n",
       "                   param_distributions={&#x27;xgbclassifier__colsample_bytree&#x27;: [0.3,\n",
       "                                                                            0.4,\n",
       "                                                                            0.5,\n",
       "                                                                            0.7],\n",
       "                                        &#x27;xgbclassifier__gamma&#x27;: [0.0, 0.1, 0.2,\n",
       "                                                                 0.3, 0.4],\n",
       "                                        &#x27;xgbclassifier__learning_rate&#x27;: [0.05,\n",
       "                                                                         0.1,\n",
       "                                                                         0.15,\n",
       "                                                                         0.2,\n",
       "                                                                         0.25,\n",
       "                                                                         0.3],\n",
       "                                        &#x27;xgbclassifier__max_depth&#x27;: [3, 4, 5, 6,\n",
       "                                                                     8, 10, 12,\n",
       "                                                                     15],\n",
       "                                        &#x27;xgbclassifier__min_child_weight&#x27;: [1,\n",
       "                                                                            3,\n",
       "                                                                            5,\n",
       "                                                                            7]},\n",
       "                   return_train_score=True, scoring=&#x27;recall&#x27;, verbose=10)</pre><b>In a Jupyter environment, please rerun this cell to show the HTML representation or trust the notebook. <br />On GitHub, the HTML representation is unable to render, please try loading this page with nbviewer.org.</b></div><div class=\"sk-container\" hidden><div class=\"sk-item sk-dashed-wrapped\"><div class=\"sk-label-container\"><div class=\"sk-label sk-toggleable\"><input class=\"sk-toggleable__control sk-hidden--visually\" id=\"sk-estimator-id-48\" type=\"checkbox\" ><label for=\"sk-estimator-id-48\" class=\"sk-toggleable__label sk-toggleable__label-arrow\">RandomizedSearchCV</label><div class=\"sk-toggleable__content\"><pre>RandomizedSearchCV(cv=KFold(n_splits=5, random_state=None, shuffle=False),\n",
       "                   estimator=Pipeline(steps=[(&#x27;smote&#x27;, SMOTE(random_state=42)),\n",
       "                                             (&#x27;xgbclassifier&#x27;,\n",
       "                                              XGBClassifier(base_score=None,\n",
       "                                                            booster=None,\n",
       "                                                            colsample_bylevel=None,\n",
       "                                                            colsample_bynode=None,\n",
       "                                                            colsample_bytree=None,\n",
       "                                                            enable_categorical=False,\n",
       "                                                            gamma=None,\n",
       "                                                            gpu_id=None,\n",
       "                                                            importance_type=None,\n",
       "                                                            interaction_constraints...\n",
       "                                                            validate_parameters=None,\n",
       "                                                            verbosity=None))]),\n",
       "                   param_distributions={&#x27;xgbclassifier__colsample_bytree&#x27;: [0.3,\n",
       "                                                                            0.4,\n",
       "                                                                            0.5,\n",
       "                                                                            0.7],\n",
       "                                        &#x27;xgbclassifier__gamma&#x27;: [0.0, 0.1, 0.2,\n",
       "                                                                 0.3, 0.4],\n",
       "                                        &#x27;xgbclassifier__learning_rate&#x27;: [0.05,\n",
       "                                                                         0.1,\n",
       "                                                                         0.15,\n",
       "                                                                         0.2,\n",
       "                                                                         0.25,\n",
       "                                                                         0.3],\n",
       "                                        &#x27;xgbclassifier__max_depth&#x27;: [3, 4, 5, 6,\n",
       "                                                                     8, 10, 12,\n",
       "                                                                     15],\n",
       "                                        &#x27;xgbclassifier__min_child_weight&#x27;: [1,\n",
       "                                                                            3,\n",
       "                                                                            5,\n",
       "                                                                            7]},\n",
       "                   return_train_score=True, scoring=&#x27;recall&#x27;, verbose=10)</pre></div></div></div><div class=\"sk-parallel\"><div class=\"sk-parallel-item\"><div class=\"sk-item\"><div class=\"sk-label-container\"><div class=\"sk-label sk-toggleable\"><input class=\"sk-toggleable__control sk-hidden--visually\" id=\"sk-estimator-id-49\" type=\"checkbox\" ><label for=\"sk-estimator-id-49\" class=\"sk-toggleable__label sk-toggleable__label-arrow\">estimator: Pipeline</label><div class=\"sk-toggleable__content\"><pre>Pipeline(steps=[(&#x27;smote&#x27;, SMOTE(random_state=42)),\n",
       "                (&#x27;xgbclassifier&#x27;,\n",
       "                 XGBClassifier(base_score=None, booster=None,\n",
       "                               colsample_bylevel=None, colsample_bynode=None,\n",
       "                               colsample_bytree=None, enable_categorical=False,\n",
       "                               gamma=None, gpu_id=None, importance_type=None,\n",
       "                               interaction_constraints=None, learning_rate=None,\n",
       "                               max_delta_step=None, max_depth=None,\n",
       "                               min_child_weight=None, missing=nan,\n",
       "                               monotone_constraints=None, n_estimators=100,\n",
       "                               n_jobs=None, num_parallel_tree=None,\n",
       "                               predictor=None, random_state=10, reg_alpha=None,\n",
       "                               reg_lambda=None, scale_pos_weight=None,\n",
       "                               subsample=None, tree_method=None,\n",
       "                               validate_parameters=None, verbosity=None))])</pre></div></div></div><div class=\"sk-serial\"><div class=\"sk-item\"><div class=\"sk-serial\"><div class=\"sk-item\"><div class=\"sk-estimator sk-toggleable\"><input class=\"sk-toggleable__control sk-hidden--visually\" id=\"sk-estimator-id-50\" type=\"checkbox\" ><label for=\"sk-estimator-id-50\" class=\"sk-toggleable__label sk-toggleable__label-arrow\">SMOTE</label><div class=\"sk-toggleable__content\"><pre>SMOTE(random_state=42)</pre></div></div></div><div class=\"sk-item\"><div class=\"sk-estimator sk-toggleable\"><input class=\"sk-toggleable__control sk-hidden--visually\" id=\"sk-estimator-id-51\" type=\"checkbox\" ><label for=\"sk-estimator-id-51\" class=\"sk-toggleable__label sk-toggleable__label-arrow\">XGBClassifier</label><div class=\"sk-toggleable__content\"><pre>XGBClassifier(base_score=None, booster=None, colsample_bylevel=None,\n",
       "              colsample_bynode=None, colsample_bytree=None,\n",
       "              enable_categorical=False, gamma=None, gpu_id=None,\n",
       "              importance_type=None, interaction_constraints=None,\n",
       "              learning_rate=None, max_delta_step=None, max_depth=None,\n",
       "              min_child_weight=None, missing=nan, monotone_constraints=None,\n",
       "              n_estimators=100, n_jobs=None, num_parallel_tree=None,\n",
       "              predictor=None, random_state=10, reg_alpha=None, reg_lambda=None,\n",
       "              scale_pos_weight=None, subsample=None, tree_method=None,\n",
       "              validate_parameters=None, verbosity=None)</pre></div></div></div></div></div></div></div></div></div></div></div></div>"
      ],
      "text/plain": [
       "RandomizedSearchCV(cv=KFold(n_splits=5, random_state=None, shuffle=False),\n",
       "                   estimator=Pipeline(steps=[('smote', SMOTE(random_state=42)),\n",
       "                                             ('xgbclassifier',\n",
       "                                              XGBClassifier(base_score=None,\n",
       "                                                            booster=None,\n",
       "                                                            colsample_bylevel=None,\n",
       "                                                            colsample_bynode=None,\n",
       "                                                            colsample_bytree=None,\n",
       "                                                            enable_categorical=False,\n",
       "                                                            gamma=None,\n",
       "                                                            gpu_id=None,\n",
       "                                                            importance_type=None,\n",
       "                                                            interaction_constraints...\n",
       "                                                            validate_parameters=None,\n",
       "                                                            verbosity=None))]),\n",
       "                   param_distributions={'xgbclassifier__colsample_bytree': [0.3,\n",
       "                                                                            0.4,\n",
       "                                                                            0.5,\n",
       "                                                                            0.7],\n",
       "                                        'xgbclassifier__gamma': [0.0, 0.1, 0.2,\n",
       "                                                                 0.3, 0.4],\n",
       "                                        'xgbclassifier__learning_rate': [0.05,\n",
       "                                                                         0.1,\n",
       "                                                                         0.15,\n",
       "                                                                         0.2,\n",
       "                                                                         0.25,\n",
       "                                                                         0.3],\n",
       "                                        'xgbclassifier__max_depth': [3, 4, 5, 6,\n",
       "                                                                     8, 10, 12,\n",
       "                                                                     15],\n",
       "                                        'xgbclassifier__min_child_weight': [1,\n",
       "                                                                            3,\n",
       "                                                                            5,\n",
       "                                                                            7]},\n",
       "                   return_train_score=True, scoring='recall', verbose=10)"
      ]
     },
     "execution_count": 154,
     "metadata": {},
     "output_type": "execute_result"
    }
   ],
   "source": [
    "XGB_pipeline = make_pipeline( SMOTE(random_state=42), \n",
    "                              XGBClassifier(random_state=10))\n",
    "\n",
    "clf_xgb = RandomizedSearchCV(XGB_pipeline, param_distributions=xg_params, cv = kf,\n",
    "                         scoring='recall', return_train_score = True, verbose = 10)\n",
    "\n",
    "clf_xgb.fit(X_train, y_train)"
   ]
  },
  {
   "cell_type": "code",
   "execution_count": 155,
   "id": "27cff06e",
   "metadata": {},
   "outputs": [
    {
     "data": {
      "text/plain": [
       "{'xgbclassifier__min_child_weight': 3,\n",
       " 'xgbclassifier__max_depth': 3,\n",
       " 'xgbclassifier__learning_rate': 0.3,\n",
       " 'xgbclassifier__gamma': 0.1,\n",
       " 'xgbclassifier__colsample_bytree': 0.5}"
      ]
     },
     "execution_count": 155,
     "metadata": {},
     "output_type": "execute_result"
    }
   ],
   "source": [
    "clf_xgb.best_params_"
   ]
  },
  {
   "cell_type": "code",
   "execution_count": 156,
   "id": "9547c25f",
   "metadata": {},
   "outputs": [],
   "source": [
    "XGB_model = make_pipeline( SMOTE(random_state=42), \n",
    "                              XGBClassifier(min_child_weight = 3,\n",
    "                                            max_depth= 3,\n",
    "                                            learning_rate= 0.3,\n",
    "                                            gamma = 0.1,\n",
    "                                            colsample_bytree= 0.5,\n",
    "                                            random_state = 10 ))"
   ]
  },
  {
   "cell_type": "code",
   "execution_count": 157,
   "id": "69012291",
   "metadata": {},
   "outputs": [
    {
     "name": "stdout",
     "output_type": "stream",
     "text": [
      "[17:51:59] WARNING: /Users/runner/miniforge3/conda-bld/xgboost-split_1645117899018/work/src/learner.cc:1115: Starting in XGBoost 1.3.0, the default evaluation metric used with the objective 'binary:logistic' was changed from 'error' to 'logloss'. Explicitly set eval_metric if you'd like to restore the old behavior.\n"
     ]
    },
    {
     "data": {
      "text/html": [
       "<style>#sk-container-id-17 {color: black;background-color: white;}#sk-container-id-17 pre{padding: 0;}#sk-container-id-17 div.sk-toggleable {background-color: white;}#sk-container-id-17 label.sk-toggleable__label {cursor: pointer;display: block;width: 100%;margin-bottom: 0;padding: 0.3em;box-sizing: border-box;text-align: center;}#sk-container-id-17 label.sk-toggleable__label-arrow:before {content: \"▸\";float: left;margin-right: 0.25em;color: #696969;}#sk-container-id-17 label.sk-toggleable__label-arrow:hover:before {color: black;}#sk-container-id-17 div.sk-estimator:hover label.sk-toggleable__label-arrow:before {color: black;}#sk-container-id-17 div.sk-toggleable__content {max-height: 0;max-width: 0;overflow: hidden;text-align: left;background-color: #f0f8ff;}#sk-container-id-17 div.sk-toggleable__content pre {margin: 0.2em;color: black;border-radius: 0.25em;background-color: #f0f8ff;}#sk-container-id-17 input.sk-toggleable__control:checked~div.sk-toggleable__content {max-height: 200px;max-width: 100%;overflow: auto;}#sk-container-id-17 input.sk-toggleable__control:checked~label.sk-toggleable__label-arrow:before {content: \"▾\";}#sk-container-id-17 div.sk-estimator input.sk-toggleable__control:checked~label.sk-toggleable__label {background-color: #d4ebff;}#sk-container-id-17 div.sk-label input.sk-toggleable__control:checked~label.sk-toggleable__label {background-color: #d4ebff;}#sk-container-id-17 input.sk-hidden--visually {border: 0;clip: rect(1px 1px 1px 1px);clip: rect(1px, 1px, 1px, 1px);height: 1px;margin: -1px;overflow: hidden;padding: 0;position: absolute;width: 1px;}#sk-container-id-17 div.sk-estimator {font-family: monospace;background-color: #f0f8ff;border: 1px dotted black;border-radius: 0.25em;box-sizing: border-box;margin-bottom: 0.5em;}#sk-container-id-17 div.sk-estimator:hover {background-color: #d4ebff;}#sk-container-id-17 div.sk-parallel-item::after {content: \"\";width: 100%;border-bottom: 1px solid gray;flex-grow: 1;}#sk-container-id-17 div.sk-label:hover label.sk-toggleable__label {background-color: #d4ebff;}#sk-container-id-17 div.sk-serial::before {content: \"\";position: absolute;border-left: 1px solid gray;box-sizing: border-box;top: 0;bottom: 0;left: 50%;z-index: 0;}#sk-container-id-17 div.sk-serial {display: flex;flex-direction: column;align-items: center;background-color: white;padding-right: 0.2em;padding-left: 0.2em;position: relative;}#sk-container-id-17 div.sk-item {position: relative;z-index: 1;}#sk-container-id-17 div.sk-parallel {display: flex;align-items: stretch;justify-content: center;background-color: white;position: relative;}#sk-container-id-17 div.sk-item::before, #sk-container-id-17 div.sk-parallel-item::before {content: \"\";position: absolute;border-left: 1px solid gray;box-sizing: border-box;top: 0;bottom: 0;left: 50%;z-index: -1;}#sk-container-id-17 div.sk-parallel-item {display: flex;flex-direction: column;z-index: 1;position: relative;background-color: white;}#sk-container-id-17 div.sk-parallel-item:first-child::after {align-self: flex-end;width: 50%;}#sk-container-id-17 div.sk-parallel-item:last-child::after {align-self: flex-start;width: 50%;}#sk-container-id-17 div.sk-parallel-item:only-child::after {width: 0;}#sk-container-id-17 div.sk-dashed-wrapped {border: 1px dashed gray;margin: 0 0.4em 0.5em 0.4em;box-sizing: border-box;padding-bottom: 0.4em;background-color: white;}#sk-container-id-17 div.sk-label label {font-family: monospace;font-weight: bold;display: inline-block;line-height: 1.2em;}#sk-container-id-17 div.sk-label-container {text-align: center;}#sk-container-id-17 div.sk-container {/* jupyter's `normalize.less` sets `[hidden] { display: none; }` but bootstrap.min.css set `[hidden] { display: none !important; }` so we also need the `!important` here to be able to override the default hidden behavior on the sphinx rendered scikit-learn.org. See: https://github.com/scikit-learn/scikit-learn/issues/21755 */display: inline-block !important;position: relative;}#sk-container-id-17 div.sk-text-repr-fallback {display: none;}</style><div id=\"sk-container-id-17\" class=\"sk-top-container\"><div class=\"sk-text-repr-fallback\"><pre>Pipeline(steps=[(&#x27;smote&#x27;, SMOTE(random_state=42)),\n",
       "                (&#x27;xgbclassifier&#x27;,\n",
       "                 XGBClassifier(base_score=0.5, booster=&#x27;gbtree&#x27;,\n",
       "                               colsample_bylevel=1, colsample_bynode=1,\n",
       "                               colsample_bytree=0.5, enable_categorical=False,\n",
       "                               gamma=0.1, gpu_id=-1, importance_type=None,\n",
       "                               interaction_constraints=&#x27;&#x27;, learning_rate=0.3,\n",
       "                               max_delta_step=0, max_depth=3,\n",
       "                               min_child_weight=3, missing=nan,\n",
       "                               monotone_constraints=&#x27;()&#x27;, n_estimators=100,\n",
       "                               n_jobs=8, num_parallel_tree=1, predictor=&#x27;auto&#x27;,\n",
       "                               random_state=10, reg_alpha=0, reg_lambda=1,\n",
       "                               scale_pos_weight=1, subsample=1,\n",
       "                               tree_method=&#x27;exact&#x27;, validate_parameters=1,\n",
       "                               verbosity=None))])</pre><b>In a Jupyter environment, please rerun this cell to show the HTML representation or trust the notebook. <br />On GitHub, the HTML representation is unable to render, please try loading this page with nbviewer.org.</b></div><div class=\"sk-container\" hidden><div class=\"sk-item sk-dashed-wrapped\"><div class=\"sk-label-container\"><div class=\"sk-label sk-toggleable\"><input class=\"sk-toggleable__control sk-hidden--visually\" id=\"sk-estimator-id-52\" type=\"checkbox\" ><label for=\"sk-estimator-id-52\" class=\"sk-toggleable__label sk-toggleable__label-arrow\">Pipeline</label><div class=\"sk-toggleable__content\"><pre>Pipeline(steps=[(&#x27;smote&#x27;, SMOTE(random_state=42)),\n",
       "                (&#x27;xgbclassifier&#x27;,\n",
       "                 XGBClassifier(base_score=0.5, booster=&#x27;gbtree&#x27;,\n",
       "                               colsample_bylevel=1, colsample_bynode=1,\n",
       "                               colsample_bytree=0.5, enable_categorical=False,\n",
       "                               gamma=0.1, gpu_id=-1, importance_type=None,\n",
       "                               interaction_constraints=&#x27;&#x27;, learning_rate=0.3,\n",
       "                               max_delta_step=0, max_depth=3,\n",
       "                               min_child_weight=3, missing=nan,\n",
       "                               monotone_constraints=&#x27;()&#x27;, n_estimators=100,\n",
       "                               n_jobs=8, num_parallel_tree=1, predictor=&#x27;auto&#x27;,\n",
       "                               random_state=10, reg_alpha=0, reg_lambda=1,\n",
       "                               scale_pos_weight=1, subsample=1,\n",
       "                               tree_method=&#x27;exact&#x27;, validate_parameters=1,\n",
       "                               verbosity=None))])</pre></div></div></div><div class=\"sk-serial\"><div class=\"sk-item\"><div class=\"sk-estimator sk-toggleable\"><input class=\"sk-toggleable__control sk-hidden--visually\" id=\"sk-estimator-id-53\" type=\"checkbox\" ><label for=\"sk-estimator-id-53\" class=\"sk-toggleable__label sk-toggleable__label-arrow\">SMOTE</label><div class=\"sk-toggleable__content\"><pre>SMOTE(random_state=42)</pre></div></div></div><div class=\"sk-item\"><div class=\"sk-estimator sk-toggleable\"><input class=\"sk-toggleable__control sk-hidden--visually\" id=\"sk-estimator-id-54\" type=\"checkbox\" ><label for=\"sk-estimator-id-54\" class=\"sk-toggleable__label sk-toggleable__label-arrow\">XGBClassifier</label><div class=\"sk-toggleable__content\"><pre>XGBClassifier(base_score=0.5, booster=&#x27;gbtree&#x27;, colsample_bylevel=1,\n",
       "              colsample_bynode=1, colsample_bytree=0.5,\n",
       "              enable_categorical=False, gamma=0.1, gpu_id=-1,\n",
       "              importance_type=None, interaction_constraints=&#x27;&#x27;,\n",
       "              learning_rate=0.3, max_delta_step=0, max_depth=3,\n",
       "              min_child_weight=3, missing=nan, monotone_constraints=&#x27;()&#x27;,\n",
       "              n_estimators=100, n_jobs=8, num_parallel_tree=1, predictor=&#x27;auto&#x27;,\n",
       "              random_state=10, reg_alpha=0, reg_lambda=1, scale_pos_weight=1,\n",
       "              subsample=1, tree_method=&#x27;exact&#x27;, validate_parameters=1,\n",
       "              verbosity=None)</pre></div></div></div></div></div></div></div>"
      ],
      "text/plain": [
       "Pipeline(steps=[('smote', SMOTE(random_state=42)),\n",
       "                ('xgbclassifier',\n",
       "                 XGBClassifier(base_score=0.5, booster='gbtree',\n",
       "                               colsample_bylevel=1, colsample_bynode=1,\n",
       "                               colsample_bytree=0.5, enable_categorical=False,\n",
       "                               gamma=0.1, gpu_id=-1, importance_type=None,\n",
       "                               interaction_constraints='', learning_rate=0.3,\n",
       "                               max_delta_step=0, max_depth=3,\n",
       "                               min_child_weight=3, missing=nan,\n",
       "                               monotone_constraints='()', n_estimators=100,\n",
       "                               n_jobs=8, num_parallel_tree=1, predictor='auto',\n",
       "                               random_state=10, reg_alpha=0, reg_lambda=1,\n",
       "                               scale_pos_weight=1, subsample=1,\n",
       "                               tree_method='exact', validate_parameters=1,\n",
       "                               verbosity=None))])"
      ]
     },
     "execution_count": 157,
     "metadata": {},
     "output_type": "execute_result"
    }
   ],
   "source": [
    "XGB_model.fit(X_train, y_train)"
   ]
  },
  {
   "cell_type": "code",
   "execution_count": 158,
   "id": "50257cef",
   "metadata": {},
   "outputs": [],
   "source": [
    "y_pred_xgb=XGB_model.predict(X_test)"
   ]
  },
  {
   "cell_type": "code",
   "execution_count": 159,
   "id": "b372794e",
   "metadata": {},
   "outputs": [
    {
     "data": {
      "text/plain": [
       "array([[122,  22],\n",
       "       [ 43,  13]])"
      ]
     },
     "execution_count": 159,
     "metadata": {},
     "output_type": "execute_result"
    }
   ],
   "source": [
    "confusion_matrix(y_test, y_pred_xgb)"
   ]
  },
  {
   "cell_type": "code",
   "execution_count": 160,
   "id": "58a79b7d",
   "metadata": {},
   "outputs": [
    {
     "data": {
      "text/plain": [
       "<AxesSubplot:>"
      ]
     },
     "execution_count": 160,
     "metadata": {},
     "output_type": "execute_result"
    },
    {
     "data": {
      "image/png": "[encoded data removed]",
      "text/plain": [
       "<Figure size 432x288 with 2 Axes>"
      ]
     },
     "metadata": {
      "needs_background": "light"
     },
     "output_type": "display_data"
    }
   ],
   "source": [
    "cf = confusion_matrix(y_test, y_pred_xgb)\n",
    "sns.heatmap(cf/np.sum(cf), annot=True, \n",
    "            fmt='.2%', cmap='Blues')"
   ]
  },
  {
   "cell_type": "code",
   "execution_count": 161,
   "id": "562483c4",
   "metadata": {},
   "outputs": [
    {
     "name": "stdout",
     "output_type": "stream",
     "text": [
      "              precision    recall  f1-score   support\n",
      "\n",
      "           0       0.74      0.85      0.79       144\n",
      "           1       0.37      0.23      0.29        56\n",
      "\n",
      "    accuracy                           0.68       200\n",
      "   macro avg       0.56      0.54      0.54       200\n",
      "weighted avg       0.64      0.68      0.65       200\n",
      "\n"
     ]
    }
   ],
   "source": [
    "print(classification_report(y_test, y_pred_xgb))"
   ]
  },
  {
   "cell_type": "code",
   "execution_count": 162,
   "id": "8e5d4d18",
   "metadata": {},
   "outputs": [
    {
     "name": "stdout",
     "output_type": "stream",
     "text": [
      "Accuracy of XGB model with hyperparameter tuning:  0.675\n"
     ]
    }
   ],
   "source": [
    "print('Accuracy of XGB model with hyperparameter tuning: ', accuracy_score(y_test, y_pred_xgb))"
   ]
  },
  {
   "cell_type": "markdown",
   "id": "ea40ddfb",
   "metadata": {},
   "source": [
    "### Model to select based on Metric"
   ]
  },
  {
   "cell_type": "markdown",
   "id": "19256584",
   "metadata": {},
   "source": [
    "Recall = TP/TP+FN\n",
    "\n",
    "We need to minimize the False Negative hence we need to choose the model which have the best Recall score. \n",
    "\n",
    "##### - Among these classifiers we can see XGBoost gives the best Recall score. \n",
    "\n",
    "\n",
    " "
   ]
  },
  {
   "cell_type": "markdown",
   "id": "079e4770",
   "metadata": {},
   "source": [
    "## How to export and deploy the model"
   ]
  },
  {
   "cell_type": "code",
   "execution_count": 107,
   "id": "2b04bf34",
   "metadata": {},
   "outputs": [
    {
     "name": "stdout",
     "output_type": "stream",
     "text": [
      "Model Saved\n"
     ]
    }
   ],
   "source": [
    "'''If we want to save the XGBoost model to the disc we must use pickle library. \n",
    "The following is an example of how we can store the trained model in a pickle file.'''\n",
    "import pickle\n",
    "\n",
    "with open('model.pkl', 'wb') as files:\n",
    "    pickle.dump(model, files)\n",
    "print(\"Model Saved\")"
   ]
  },
  {
   "cell_type": "code",
   "execution_count": 112,
   "id": "6b5be9e8",
   "metadata": {},
   "outputs": [],
   "source": [
    "'''Then for loading the model again and predicting on some test data we can do the following'''\n",
    "xgb_model = pickle.load(open('model.pkl','rb'))\n",
    "\n",
    "y_pred_test = xgb_model.predict(X_test)"
   ]
  },
  {
   "cell_type": "markdown",
   "id": "454c97cd",
   "metadata": {},
   "source": [
    "'''For deploying the model we need to build a REST API(e.g. using FLASK) which will create the web application object\n",
    "and render the data from html GUI to make the prediction. We can then host the app in a preferable \n",
    "cloud environment'''"
   ]
  },
  {
   "cell_type": "markdown",
   "id": "50c5b2d7",
   "metadata": {},
   "source": [
    "## Creating Dashboard"
   ]
  },
  {
   "cell_type": "code",
   "execution_count": 110,
   "id": "2c13ecf3",
   "metadata": {},
   "outputs": [
    {
     "name": "stdout",
     "output_type": "stream",
     "text": [
      "Detected XGBClassifier model: Changing class type to XGBClassifierExplainer...\n",
      "Note: model_output=='probability'. For XGBClassifier shap values normally get calculated against X_background, but paramater X_background=None, so using X instead\n",
      "Generating self.shap_explainer = shap.TreeExplainer(model, X, model_output='probability', feature_perturbation='interventional')...\n",
      "Note: Shap interaction values will not be available. If shap values in probability space are not necessary you can pass model_output='logodds' to get shap values in logodds without the need for a background dataset and also working shap interaction values...\n"
     ]
    }
   ],
   "source": [
    "from explainerdashboard import ClassifierExplainer, ExplainerDashboard\n",
    "explainer = ClassifierExplainer(xgb_model, X_test, y_test)\n"
   ]
  },
  {
   "cell_type": "code",
   "execution_count": 111,
   "id": "d21ba5ed",
   "metadata": {},
   "outputs": [
    {
     "name": "stdout",
     "output_type": "stream",
     "text": [
      "Building ExplainerDashboard..\n",
      "Detected notebook environment, consider setting mode='external', mode='inline' or mode='jupyterlab' to keep the notebook interactive while the dashboard is running...\n",
      "For this type of model and model_output interactions don't work, so setting shap_interaction=False...\n",
      "Generating layout...\n",
      "Calculating shap values...\n",
      "Calculating prediction probabilities...\n",
      "Calculating metrics...\n",
      "Calculating confusion matrices...\n",
      "Calculating classification_dfs...\n",
      "Calculating roc auc curves...\n",
      "Calculating pr auc curves...\n",
      "Calculating liftcurve_dfs...\n",
      "Generating xgboost model dump...\n",
      "Calculating dependencies...\n",
      "Calculating permutation importances (if slow, try setting n_jobs parameter)...\n",
      "Calculating pred_percentiles...\n",
      "Calculating predictions...\n",
      "Calculating ShadowDecTree for each individual decision tree...\n",
      "Reminder: you can store the explainer (including calculated dependencies) with explainer.dump('explainer.joblib') and reload with e.g. ClassifierExplainer.from_file('explainer.joblib')\n",
      "Registering callbacks...\n",
      "Starting ExplainerDashboard on http://192.168.0.5:8050\n",
      "Dash is running on http://0.0.0.0:8050/\n",
      "\n",
      " * Serving Flask app 'explainerdashboard.dashboards' (lazy loading)\n",
      " * Environment: production\n",
      "\u001b[31m   WARNING: This is a development server. Do not use it in a production deployment.\u001b[0m\n",
      "\u001b[2m   Use a production WSGI server instead.\u001b[0m\n",
      " * Debug mode: off\n"
     ]
    },
    {
     "name": "stderr",
     "output_type": "stream",
     "text": [
      " * Running on all addresses (0.0.0.0)\n",
      "   WARNING: This is a development server. Do not use it in a production deployment.\n",
      " * Running on http://127.0.0.1:8050\n",
      " * Running on http://192.168.0.5:8050 (Press CTRL+C to quit)\n",
      "127.0.0.1 - - [11/Sep/2022 17:11:05] \"GET / HTTP/1.1\" 200 -\n",
      "127.0.0.1 - - [11/Sep/2022 17:11:05] \"GET /assets/bootstrap.min.css?m=1662893488.013996 HTTP/1.1\" 304 -\n",
      "127.0.0.1 - - [11/Sep/2022 17:11:05] \"GET /_dash-dependencies HTTP/1.1\" 200 -\n",
      "127.0.0.1 - - [11/Sep/2022 17:11:05] \"GET /_dash-layout HTTP/1.1\" 200 -\n",
      "127.0.0.1 - - [11/Sep/2022 17:11:05] \"GET /_dash-component-suites/dash/dcc/async-dropdown.js HTTP/1.1\" 304 -\n",
      "127.0.0.1 - - [11/Sep/2022 17:11:05] \"GET /_dash-component-suites/dash/dcc/async-graph.js HTTP/1.1\" 304 -\n",
      "127.0.0.1 - - [11/Sep/2022 17:11:05] \"GET /_dash-component-suites/dash/dcc/async-plotlyjs.js HTTP/1.1\" 200 -\n",
      "127.0.0.1 - - [11/Sep/2022 17:11:05] \"POST /_dash-update-component HTTP/1.1\" 204 -\n",
      "127.0.0.1 - - [11/Sep/2022 17:11:05] \"POST /_dash-update-component HTTP/1.1\" 200 -\n",
      "127.0.0.1 - - [11/Sep/2022 17:11:05] \"POST /_dash-update-component HTTP/1.1\" 200 -\n",
      "127.0.0.1 - - [11/Sep/2022 17:11:05] \"POST /_dash-update-component HTTP/1.1\" 200 -\n",
      "127.0.0.1 - - [11/Sep/2022 17:11:05] \"POST /_dash-update-component HTTP/1.1\" 200 -\n",
      "127.0.0.1 - - [11/Sep/2022 17:11:05] \"POST /_dash-update-component HTTP/1.1\" 200 -\n",
      "127.0.0.1 - - [11/Sep/2022 17:11:05] \"POST /_dash-update-component HTTP/1.1\" 200 -\n",
      "127.0.0.1 - - [11/Sep/2022 17:11:05] \"POST /_dash-update-component HTTP/1.1\" 200 -\n",
      "127.0.0.1 - - [11/Sep/2022 17:11:05] \"POST /_dash-update-component HTTP/1.1\" 200 -\n",
      "127.0.0.1 - - [11/Sep/2022 17:11:05] \"POST /_dash-update-component HTTP/1.1\" 200 -\n",
      "127.0.0.1 - - [11/Sep/2022 17:11:05] \"POST /_dash-update-component HTTP/1.1\" 200 -\n",
      "127.0.0.1 - - [11/Sep/2022 17:11:05] \"POST /_dash-update-component HTTP/1.1\" 200 -\n",
      "127.0.0.1 - - [11/Sep/2022 17:11:05] \"POST /_dash-update-component HTTP/1.1\" 200 -\n",
      "127.0.0.1 - - [11/Sep/2022 17:11:05] \"POST /_dash-update-component HTTP/1.1\" 200 -\n",
      "127.0.0.1 - - [11/Sep/2022 17:11:05] \"POST /_dash-update-component HTTP/1.1\" 200 -\n",
      "127.0.0.1 - - [11/Sep/2022 17:11:05] \"POST /_dash-update-component HTTP/1.1\" 200 -\n",
      "127.0.0.1 - - [11/Sep/2022 17:11:05] \"POST /_dash-update-component HTTP/1.1\" 200 -\n",
      "127.0.0.1 - - [11/Sep/2022 17:11:05] \"POST /_dash-update-component HTTP/1.1\" 200 -\n",
      "127.0.0.1 - - [11/Sep/2022 17:11:05] \"POST /_dash-update-component HTTP/1.1\" 200 -\n",
      "127.0.0.1 - - [11/Sep/2022 17:11:05] \"POST /_dash-update-component HTTP/1.1\" 200 -\n",
      "127.0.0.1 - - [11/Sep/2022 17:11:05] \"POST /_dash-update-component HTTP/1.1\" 200 -\n",
      "127.0.0.1 - - [11/Sep/2022 17:11:05] \"POST /_dash-update-component HTTP/1.1\" 200 -\n",
      "127.0.0.1 - - [11/Sep/2022 17:11:05] \"POST /_dash-update-component HTTP/1.1\" 200 -\n",
      "127.0.0.1 - - [11/Sep/2022 17:11:05] \"POST /_dash-update-component HTTP/1.1\" 200 -\n",
      "127.0.0.1 - - [11/Sep/2022 17:11:05] \"POST /_dash-update-component HTTP/1.1\" 204 -\n",
      "127.0.0.1 - - [11/Sep/2022 17:11:05] \"POST /_dash-update-component HTTP/1.1\" 200 -\n",
      "127.0.0.1 - - [11/Sep/2022 17:11:05] \"POST /_dash-update-component HTTP/1.1\" 204 -\n",
      "127.0.0.1 - - [11/Sep/2022 17:11:05] \"POST /_dash-update-component HTTP/1.1\" 200 -\n",
      "127.0.0.1 - - [11/Sep/2022 17:11:05] \"POST /_dash-update-component HTTP/1.1\" 200 -\n",
      "127.0.0.1 - - [11/Sep/2022 17:11:05] \"POST /_dash-update-component HTTP/1.1\" 200 -\n",
      "127.0.0.1 - - [11/Sep/2022 17:11:05] \"POST /_dash-update-component HTTP/1.1\" 200 -\n",
      "127.0.0.1 - - [11/Sep/2022 17:11:05] \"POST /_dash-update-component HTTP/1.1\" 200 -\n",
      "127.0.0.1 - - [11/Sep/2022 17:11:05] \"POST /_dash-update-component HTTP/1.1\" 200 -\n",
      "127.0.0.1 - - [11/Sep/2022 17:11:05] \"POST /_dash-update-component HTTP/1.1\" 200 -\n",
      "127.0.0.1 - - [11/Sep/2022 17:11:05] \"POST /_dash-update-component HTTP/1.1\" 200 -\n",
      "127.0.0.1 - - [11/Sep/2022 17:11:05] \"POST /_dash-update-component HTTP/1.1\" 200 -\n",
      "127.0.0.1 - - [11/Sep/2022 17:11:05] \"POST /_dash-update-component HTTP/1.1\" 200 -\n",
      "127.0.0.1 - - [11/Sep/2022 17:11:05] \"POST /_dash-update-component HTTP/1.1\" 200 -\n",
      "127.0.0.1 - - [11/Sep/2022 17:11:05] \"POST /_dash-update-component HTTP/1.1\" 200 -\n",
      "127.0.0.1 - - [11/Sep/2022 17:11:06] \"POST /_dash-update-component HTTP/1.1\" 204 -\n",
      "127.0.0.1 - - [11/Sep/2022 17:11:06] \"POST /_dash-update-component HTTP/1.1\" 200 -\n",
      "127.0.0.1 - - [11/Sep/2022 17:11:06] \"POST /_dash-update-component HTTP/1.1\" 204 -\n",
      "127.0.0.1 - - [11/Sep/2022 17:11:06] \"POST /_dash-update-component HTTP/1.1\" 200 -\n",
      "127.0.0.1 - - [11/Sep/2022 17:11:06] \"POST /_dash-update-component HTTP/1.1\" 204 -\n",
      "127.0.0.1 - - [11/Sep/2022 17:11:06] \"POST /_dash-update-component HTTP/1.1\" 200 -\n",
      "127.0.0.1 - - [11/Sep/2022 17:11:06] \"POST /_dash-update-component HTTP/1.1\" 200 -\n",
      "127.0.0.1 - - [11/Sep/2022 17:11:06] \"POST /_dash-update-component HTTP/1.1\" 200 -\n",
      "127.0.0.1 - - [11/Sep/2022 17:11:06] \"POST /_dash-update-component HTTP/1.1\" 200 -\n",
      "127.0.0.1 - - [11/Sep/2022 17:11:06] \"POST /_dash-update-component HTTP/1.1\" 200 -\n",
      "127.0.0.1 - - [11/Sep/2022 17:11:06] \"POST /_dash-update-component HTTP/1.1\" 200 -\n",
      "127.0.0.1 - - [11/Sep/2022 17:11:06] \"POST /_dash-update-component HTTP/1.1\" 200 -\n",
      "127.0.0.1 - - [11/Sep/2022 17:11:06] \"POST /_dash-update-component HTTP/1.1\" 200 -\n",
      "127.0.0.1 - - [11/Sep/2022 17:11:06] \"POST /_dash-update-component HTTP/1.1\" 200 -\n",
      "127.0.0.1 - - [11/Sep/2022 17:11:06] \"POST /_dash-update-component HTTP/1.1\" 200 -\n",
      "127.0.0.1 - - [11/Sep/2022 17:11:06] \"POST /_dash-update-component HTTP/1.1\" 200 -\n",
      "127.0.0.1 - - [11/Sep/2022 17:11:06] \"POST /_dash-update-component HTTP/1.1\" 200 -\n",
      "127.0.0.1 - - [11/Sep/2022 17:11:06] \"POST /_dash-update-component HTTP/1.1\" 204 -\n",
      "127.0.0.1 - - [11/Sep/2022 17:11:06] \"POST /_dash-update-component HTTP/1.1\" 200 -\n",
      "127.0.0.1 - - [11/Sep/2022 17:11:06] \"POST /_dash-update-component HTTP/1.1\" 200 -\n",
      "127.0.0.1 - - [11/Sep/2022 17:11:06] \"POST /_dash-update-component HTTP/1.1\" 200 -\n",
      "127.0.0.1 - - [11/Sep/2022 17:11:06] \"POST /_dash-update-component HTTP/1.1\" 200 -\n",
      "127.0.0.1 - - [11/Sep/2022 17:11:06] \"POST /_dash-update-component HTTP/1.1\" 200 -\n",
      "127.0.0.1 - - [11/Sep/2022 17:11:06] \"POST /_dash-update-component HTTP/1.1\" 200 -\n",
      "127.0.0.1 - - [11/Sep/2022 17:11:06] \"POST /_dash-update-component HTTP/1.1\" 200 -\n",
      "127.0.0.1 - - [11/Sep/2022 17:11:06] \"POST /_dash-update-component HTTP/1.1\" 200 -\n",
      "127.0.0.1 - - [11/Sep/2022 17:11:06] \"POST /_dash-update-component HTTP/1.1\" 200 -\n",
      "127.0.0.1 - - [11/Sep/2022 17:11:06] \"POST /_dash-update-component HTTP/1.1\" 200 -\n",
      "127.0.0.1 - - [11/Sep/2022 17:11:06] \"POST /_dash-update-component HTTP/1.1\" 200 -\n",
      "127.0.0.1 - - [11/Sep/2022 17:11:06] \"POST /_dash-update-component HTTP/1.1\" 200 -\n",
      "127.0.0.1 - - [11/Sep/2022 17:11:06] \"POST /_dash-update-component HTTP/1.1\" 200 -\n",
      "127.0.0.1 - - [11/Sep/2022 17:11:06] \"POST /_dash-update-component HTTP/1.1\" 200 -\n",
      "127.0.0.1 - - [11/Sep/2022 17:11:06] \"POST /_dash-update-component HTTP/1.1\" 200 -\n",
      "127.0.0.1 - - [11/Sep/2022 17:11:06] \"POST /_dash-update-component HTTP/1.1\" 200 -\n",
      "127.0.0.1 - - [11/Sep/2022 17:11:06] \"POST /_dash-update-component HTTP/1.1\" 200 -\n",
      "127.0.0.1 - - [11/Sep/2022 17:11:10] \"GET /_dash-component-suites/dash/dcc/async-slider.js HTTP/1.1\" 200 -\n",
      "127.0.0.1 - - [11/Sep/2022 17:11:58] \"POST /_dash-update-component HTTP/1.1\" 200 -\n",
      "127.0.0.1 - - [11/Sep/2022 17:12:00] \"POST /_dash-update-component HTTP/1.1\" 200 -\n",
      "127.0.0.1 - - [11/Sep/2022 17:12:04] \"POST /_dash-update-component HTTP/1.1\" 200 -\n",
      "127.0.0.1 - - [11/Sep/2022 17:12:08] \"POST /_dash-update-component HTTP/1.1\" 200 -\n",
      "127.0.0.1 - - [11/Sep/2022 17:12:12] \"POST /_dash-update-component HTTP/1.1\" 200 -\n",
      "127.0.0.1 - - [11/Sep/2022 17:12:15] \"POST /_dash-update-component HTTP/1.1\" 200 -\n",
      "127.0.0.1 - - [11/Sep/2022 17:14:11] \"POST /_dash-update-component HTTP/1.1\" 200 -\n",
      "127.0.0.1 - - [11/Sep/2022 17:14:16] \"POST /_dash-update-component HTTP/1.1\" 200 -\n",
      "127.0.0.1 - - [11/Sep/2022 17:14:20] \"POST /_dash-update-component HTTP/1.1\" 200 -\n"
     ]
    }
   ],
   "source": [
    "ExplainerDashboard(explainer).run()"
   ]
  },
  {
   "cell_type": "markdown",
   "id": "36b5de60",
   "metadata": {},
   "source": [
    "## Realworld Data features"
   ]
  },
  {
   "cell_type": "code",
   "execution_count": 119,
   "id": "b92cd2ab",
   "metadata": {},
   "outputs": [
    {
     "data": {
      "text/plain": [
       "Index(['applicant_id', 'Primary_applicant_age_in_years', 'Gender',\n",
       "       'Marital_status', 'Number_of_dependents', 'Housing',\n",
       "       'Years_at_current_residence', 'Employment_status',\n",
       "       'Has_been_employed_for_at_least', 'Has_been_employed_for_at_most',\n",
       "       'Telephone', 'Foreign_worker', 'Savings_account_balance',\n",
       "       'Balance_in_existing_bank_account_(lower_limit_of_bucket)',\n",
       "       'Balance_in_existing_bank_account_(upper_limit_of_bucket)',\n",
       "       'loan_application_id', 'Months_loan_taken_for', 'Purpose',\n",
       "       'Principal_loan_amount', 'EMI_rate_in_percentage_of_disposable_income',\n",
       "       'Property', 'Has_coapplicant', 'Has_guarantor', 'Other_EMI_plans',\n",
       "       'Number_of_existing_loans_at_this_bank', 'Loan_history',\n",
       "       'high_risk_applicant'],\n",
       "      dtype='object')"
      ]
     },
     "execution_count": 119,
     "metadata": {},
     "output_type": "execute_result"
    }
   ],
   "source": [
    "df.columns"
   ]
  },
  {
   "cell_type": "markdown",
   "id": "282c13a3",
   "metadata": {},
   "source": [
    "1. **Debt to Income Ratio**:\n",
    "    - A clear indication of DTI helps the lenders to decide if the applicant is creditworthy. It signifies less risk for the lenders as it indicates the capacity of the applicant to take on an additional monthly debt payment. Hence a quantitative feature indicating DTI ratio for all of the applicants would have helped the analysis. \n",
    "\n",
    "2. **Credit score**:\n",
    "    - A quantitative analysis of credit score helps lenders to measure credit risk. Including credit score as a feature might have made the data analysis more simpler. "
   ]
  },
  {
   "cell_type": "code",
   "execution_count": null,
   "id": "4a48555c",
   "metadata": {},
   "outputs": [],
   "source": []
  }
 ],
 "metadata": {
  "kernelspec": {
   "display_name": "Python 3 (ipykernel)",
   "language": "python",
   "name": "python3"
  },
  "language_info": {
   "codemirror_mode": {
    "name": "ipython",
    "version": 3
   },
   "file_extension": ".py",
   "mimetype": "text/x-python",
   "name": "python",
   "nbconvert_exporter": "python",
   "pygments_lexer": "ipython3",
   "version": "3.9.0"
  }
 },
 "nbformat": 4,
 "nbformat_minor": 5
}
